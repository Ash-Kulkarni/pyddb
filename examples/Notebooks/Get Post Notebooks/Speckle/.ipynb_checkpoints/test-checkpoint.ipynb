{
 "cells": [
  {
   "cell_type": "code",
   "execution_count": 1,
   "metadata": {},
   "outputs": [],
   "source": [
    "from specklepy.api import operations\n",
    "from specklepy.api.client import SpeckleClient\n",
    "from specklepy.api.credentials import get_default_account\n",
    "from specklepy.transports.server import ServerTransport\n",
    "\n",
    "HOST = \"v2.speckle.arup.com\"\n",
    "STREAM_ID = \"f56be82fb7\"\n",
    "COMMIT_ID = \"304ec89d79\""
   ]
  },
  {
   "cell_type": "code",
   "execution_count": 2,
   "metadata": {},
   "outputs": [
    {
     "ename": "SpeckleException",
     "evalue": "SpeckleException: https://v2.speckle.arup.com is not a compatible Speckle Server",
     "output_type": "error",
     "traceback": [
      "\u001b[1;31m---------------------------------------------------------------------------\u001b[0m",
      "\u001b[1;31mException\u001b[0m                                 Traceback (most recent call last)",
      "\u001b[1;32m~\\Documents\\_dtd_venv\\JupyterTable\\lib\\site-packages\\specklepy\\api\\client.py\u001b[0m in \u001b[0;36m__init__\u001b[1;34m(self, host, use_ssl)\u001b[0m\n\u001b[0;32m     80\u001b[0m             \u001b[1;32mif\u001b[0m \u001b[1;32mnot\u001b[0m \u001b[0misinstance\u001b[0m\u001b[1;33m(\u001b[0m\u001b[0mserverInfo\u001b[0m\u001b[1;33m,\u001b[0m \u001b[0mServerInfo\u001b[0m\u001b[1;33m)\u001b[0m\u001b[1;33m:\u001b[0m\u001b[1;33m\u001b[0m\u001b[1;33m\u001b[0m\u001b[0m\n\u001b[1;32m---> 81\u001b[1;33m                 \u001b[1;32mraise\u001b[0m \u001b[0mException\u001b[0m\u001b[1;33m(\u001b[0m\u001b[1;34m\"Couldn't get ServerInfo\"\u001b[0m\u001b[1;33m)\u001b[0m\u001b[1;33m\u001b[0m\u001b[1;33m\u001b[0m\u001b[0m\n\u001b[0m\u001b[0;32m     82\u001b[0m         \u001b[1;32mexcept\u001b[0m \u001b[0mException\u001b[0m \u001b[1;32mas\u001b[0m \u001b[0mex\u001b[0m\u001b[1;33m:\u001b[0m\u001b[1;33m\u001b[0m\u001b[1;33m\u001b[0m\u001b[0m\n",
      "\u001b[1;31mException\u001b[0m: Couldn't get ServerInfo",
      "\nDuring handling of the above exception, another exception occurred:\n",
      "\u001b[1;31mSpeckleException\u001b[0m                          Traceback (most recent call last)",
      "\u001b[1;32mC:\\Users\\ASH~1.KUL\\AppData\\Local\\Temp/ipykernel_75888/1810999357.py\u001b[0m in \u001b[0;36m<module>\u001b[1;34m\u001b[0m\n\u001b[0;32m      1\u001b[0m \u001b[1;31m# create and authenticate a client\u001b[0m\u001b[1;33m\u001b[0m\u001b[1;33m\u001b[0m\u001b[1;33m\u001b[0m\u001b[0m\n\u001b[1;32m----> 2\u001b[1;33m \u001b[0mclient\u001b[0m \u001b[1;33m=\u001b[0m \u001b[0mSpeckleClient\u001b[0m\u001b[1;33m(\u001b[0m\u001b[0mhost\u001b[0m\u001b[1;33m=\u001b[0m\u001b[0mHOST\u001b[0m\u001b[1;33m)\u001b[0m\u001b[1;33m\u001b[0m\u001b[1;33m\u001b[0m\u001b[0m\n\u001b[0m\u001b[0;32m      3\u001b[0m \u001b[0maccount\u001b[0m \u001b[1;33m=\u001b[0m \u001b[0mget_default_account\u001b[0m\u001b[1;33m(\u001b[0m\u001b[1;33m)\u001b[0m\u001b[1;33m\u001b[0m\u001b[1;33m\u001b[0m\u001b[0m\n\u001b[0;32m      4\u001b[0m \u001b[0mclient\u001b[0m\u001b[1;33m.\u001b[0m\u001b[0mauthenticate\u001b[0m\u001b[1;33m(\u001b[0m\u001b[0mtoken\u001b[0m\u001b[1;33m=\u001b[0m\u001b[0maccount\u001b[0m\u001b[1;33m.\u001b[0m\u001b[0mtoken\u001b[0m\u001b[1;33m)\u001b[0m\u001b[1;33m\u001b[0m\u001b[1;33m\u001b[0m\u001b[0m\n\u001b[0;32m      5\u001b[0m \u001b[1;33m\u001b[0m\u001b[0m\n",
      "\u001b[1;32m~\\Documents\\_dtd_venv\\JupyterTable\\lib\\site-packages\\specklepy\\api\\client.py\u001b[0m in \u001b[0;36m__init__\u001b[1;34m(self, host, use_ssl)\u001b[0m\n\u001b[0;32m     81\u001b[0m                 \u001b[1;32mraise\u001b[0m \u001b[0mException\u001b[0m\u001b[1;33m(\u001b[0m\u001b[1;34m\"Couldn't get ServerInfo\"\u001b[0m\u001b[1;33m)\u001b[0m\u001b[1;33m\u001b[0m\u001b[1;33m\u001b[0m\u001b[0m\n\u001b[0;32m     82\u001b[0m         \u001b[1;32mexcept\u001b[0m \u001b[0mException\u001b[0m \u001b[1;32mas\u001b[0m \u001b[0mex\u001b[0m\u001b[1;33m:\u001b[0m\u001b[1;33m\u001b[0m\u001b[1;33m\u001b[0m\u001b[0m\n\u001b[1;32m---> 83\u001b[1;33m             \u001b[1;32mraise\u001b[0m \u001b[0mSpeckleException\u001b[0m\u001b[1;33m(\u001b[0m\u001b[1;34mf\"{self.url} is not a compatible Speckle Server\"\u001b[0m\u001b[1;33m,\u001b[0m \u001b[0mex\u001b[0m\u001b[1;33m)\u001b[0m\u001b[1;33m\u001b[0m\u001b[1;33m\u001b[0m\u001b[0m\n\u001b[0m\u001b[0;32m     84\u001b[0m \u001b[1;33m\u001b[0m\u001b[0m\n\u001b[0;32m     85\u001b[0m     \u001b[1;32mdef\u001b[0m \u001b[0m__repr__\u001b[0m\u001b[1;33m(\u001b[0m\u001b[0mself\u001b[0m\u001b[1;33m)\u001b[0m\u001b[1;33m:\u001b[0m\u001b[1;33m\u001b[0m\u001b[1;33m\u001b[0m\u001b[0m\n",
      "\u001b[1;31mSpeckleException\u001b[0m: SpeckleException: https://v2.speckle.arup.com is not a compatible Speckle Server"
     ]
    }
   ],
   "source": [
    "# create and authenticate a client\n",
    "client = SpeckleClient(host=HOST)\n",
    "account = get_default_account()\n",
    "client.authenticate(token=account.token)\n",
    "\n",
    "# get the specified commit data\n",
    "commit = client.commit.get(STREAM_ID, COMMIT_ID)\n",
    "\n",
    "# create an authenticated server transport from the client and receive the commit obj\n",
    "transport = ServerTransport(client=client, stream_id=STREAM_ID)\n",
    "res = operations.receive(commit.referencedObject, transport)"
   ]
  },
  {
   "cell_type": "code",
   "execution_count": null,
   "metadata": {},
   "outputs": [],
   "source": [
    "spaces = res[\"@Spaces\"]\n",
    "space_dict = {}\n",
    "for space in spaces:\n",
    "    space_name = space.name\n",
    "    space_type = space[\"parameters\"][\"c8b3b0a1-06b5-425c-8fa7-cc803cca5d43\"].value\n",
    "\n",
    "    lthw_flow_rate = space[\"parameters\"][\"07f4051a-753e-4815-ad88-e9660269d012\"].value\n",
    "    lthw_flow_temp = space[\"parameters\"][\"a0f5d781-af71-4a81-9740-a8cf5a115c72\"].value\n",
    "    lthw_return_rate = space[\"parameters\"][\"95afcd22-7def-4ca7-a4ad-f24d8c31e3ac\"].value\n",
    "\n",
    "    chw_flow_rate = space[\"parameters\"][\"07f4051a-753e-4815-ad88-e9660269d012\"].value\n",
    "    chw_flow_temp = space[\"parameters\"][\"a0f5d781-af71-4a81-9740-a8cf5a115c72\"].value\n",
    "    chw_return_rate = space[\"parameters\"][\"95afcd22-7def-4ca7-a4ad-f24d8c31e3ac\"].value\n",
    "\n",
    "    space_dict[space_name] = {}\n",
    "    space_dict[space_name][\"Space name\"] = space_name\n",
    "    space_dict[space_name][\"Space type\"] = space_type\n",
    "    space_dict[space_name][\"LTHW Flow Rate\"] = lthw_flow_rate\n",
    "    space_dict[space_name][\"LTHW Flow Temp\"] = lthw_flow_temp\n",
    "    space_dict[space_name][\"LTHW Return Temp\"] = lthw_return_rate\n",
    "    space_dict[space_name][\"CHW Flow Rate\"] = chw_flow_rate\n",
    "    space_dict[space_name][\"CHW Flow Temp\"] = chw_flow_temp\n",
    "    space_dict[space_name][\"CHW Return Temp\"] = chw_return_rate\n",
    "\n",
    "file = open(\"B2B3 Spaces.py\", \"w\")\n",
    "data = repr(space_dict)\n",
    "file.write(\"spaces = \" + data)\n",
    "space_dict\n",
    "\n",
    "    #\"07f4051a-753e-4815-ad88-e9660269d012\"  LTHW Flow Rate\n",
    "    #'0bbba30d-cd88-406e-8a72-bedc6466907d' Space reference id\n",
    "  #'2b83d1f6-771f-4b95-b423-7608d6748b79' Space_Mechanical_Heating_Type_Terminal\n",
    " #'44c45290-c51f-4211-a5c0-9dee24d3e91d' Space_Lighting_Control_Dimming_Type'\n",
    " #'51908f9d-e4a7-4454-978b-a17cc3135e03' CHW Flow Temperature\n",
    " #'669f5573-fe80-48ed-af4c-cd194c43a34b' Water Specific Heat Capacity\n",
    " #'7f3d6cfd-b816-48cd-80ee-50e462dbfda0' Space_Mechanical_Cooling_Type_Terminal\n",
    " #'95afcd22-7def-4ca7-a4ad-f24d8c31e3ac' LTHW Return Temperature\n",
    " #'a0f5d781-af71-4a81-9740-a8cf5a115c72' LTHW Flow Temperature\n",
    " #'c8b3b0a1-06b5-425c-8fa7-cc803cca5d43' Space_Type\n",
    " #'d4c66fc1-a9a7-40db-9883-bbc51708415e' Water Density\n",
    " #'e9d9f461-46d5-4f89-8efb-bcbf9fd430f6' CHW Flow Rate\n",
    " #'eb9600ba-f3b3-4ebd-a3c2-5b656b445a94' CHW Return Temperature"
   ]
  },
  {
   "cell_type": "code",
   "execution_count": null,
   "metadata": {},
   "outputs": [],
   "source": [
    "from specklepy.objects import Base\n",
    "\n",
    "\n",
    "branch_name = \"double lthw flow\"\n",
    "branches = client.branch.list(STREAM_ID)\n",
    "has_res_branch = any(b.name == branch_name for b in branches)\n",
    "if not has_res_branch:\n",
    "    client.branch.create(\n",
    "        STREAM_ID, name=branch_name, description=\"new stuff from py\"\n",
    "    )\n",
    "\n",
    "base = Base(data=spaces)\n",
    "obj_id = operations.send(base, [transport])\n",
    "\n",
    "commid_id = client.commit.create(\n",
    "    STREAM_ID,\n",
    "    obj_id,\n",
    "    branch_name,\n",
    "    message=\"doubled lthw flow rates\")"
   ]
  }
 ],
 "metadata": {
  "kernelspec": {
   "display_name": "Python 3 (ipykernel)",
   "language": "python",
   "name": "python3"
  },
  "language_info": {
   "codemirror_mode": {
    "name": "ipython",
    "version": 3
   },
   "file_extension": ".py",
   "mimetype": "text/x-python",
   "name": "python",
   "nbconvert_exporter": "python",
   "pygments_lexer": "ipython3",
   "version": "3.9.6"
  }
 },
 "nbformat": 4,
 "nbformat_minor": 2
}
