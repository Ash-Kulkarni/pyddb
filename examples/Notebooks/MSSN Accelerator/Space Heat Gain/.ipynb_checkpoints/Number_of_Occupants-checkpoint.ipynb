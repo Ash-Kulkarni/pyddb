{
 "cells": [
  {
   "cell_type": "markdown",
   "id": "e56dcfca",
   "metadata": {},
   "source": [
    "### Imports and Authentication"
   ]
  },
  {
   "cell_type": "code",
   "execution_count": null,
   "id": "6321f2e2",
   "metadata": {},
   "outputs": [],
   "source": [
    "import pandas as pd\n",
    "from ddb_auth import DDBAuth #https://github.com/arup-group/ddbpy_auth\n",
    "import ddb_get_post as pyddb\n",
    "import arupcomputepy\n",
    "import json\n",
    "import math"
   ]
  },
  {
   "cell_type": "markdown",
   "id": "56311535",
   "metadata": {},
   "source": [
    "### Inputs"
   ]
  },
  {
   "cell_type": "code",
   "execution_count": null,
   "id": "f6e3a39f",
   "metadata": {},
   "outputs": [],
   "source": [
    "# pyddb.site = \"sandbox\"\n",
    "# job_number = \"27846500\"\n",
    "\n",
    "%store -r env\n",
    "%store -r job_number\n",
    "\n",
    "pyddb.site = env"
   ]
  },
  {
   "cell_type": "markdown",
   "id": "0a3659f1",
   "metadata": {},
   "source": [
    "### Calculation Settings\n",
    "Enter the DC2 calc_id, DDB parameter type ids, and DC2 variable names.\n",
    "\n",
    "The names do not have to match the DDB parameter names.\n",
    "\n",
    "\n",
    "Note: This is currently only set up for DC2 calcs with a single output."
   ]
  },
  {
   "cell_type": "code",
   "execution_count": null,
   "id": "d3eb9a16",
   "metadata": {},
   "outputs": [],
   "source": [
    "calc_id = 4374733\n",
    "\n",
    "input_dict = {\n",
    "    \n",
    "    \"Area\" : {\n",
    "        \"id\" : \"62948765-f676-4ac3-ad3a-85f145a4253a\",\n",
    "        \"dc2_var\" : \"A_Sp\",\n",
    "    },\n",
    "              \n",
    "    \"Occupant density\" : {\n",
    "        \"id\" : \"27d4bdaf-318a-4c41-9d1a-ad3843dfe7fe\",\n",
    "        \"dc2_var\" : \"SA_N\",\n",
    "    },\n",
    "}\n",
    "\n",
    "# number of occupants\n",
    "output_parameter_id = \"480594da-e422-46c1-b9d6-586ca6adaebe\" # will update to an output dict when necessary\n",
    "output_unit_id = None\n",
    "\n",
    "space_instance_id = '21ba5fbb-f079-4c37-a3b9-f36e21e5b3ac'\n",
    "\n",
    "for parameter in input_dict:\n",
    "    input_dict[parameter][\"list\"] = []"
   ]
  },
  {
   "cell_type": "markdown",
   "id": "d543bde0",
   "metadata": {},
   "source": [
    "### Get Values from DDB\n",
    "\n",
    "Get project_id from job_number.\n",
    "Get all parameters, filtered by project, asset type, and the parameters we want"
   ]
  },
  {
   "cell_type": "code",
   "execution_count": null,
   "id": "92384bf2",
   "metadata": {},
   "outputs": [],
   "source": [
    "project_id = pyddb.get_project_id(job_number)\n",
    "\n",
    "space_instance_parameters = pyddb.get_parameters(\n",
    "    project_id = project_id,\n",
    "    asset_type = space_instance_id,\n",
    "    parameter_type_id = [input_dict[key][\"id\"] for key in input_dict.keys()],\n",
    "    page_limit = 9999\n",
    ")"
   ]
  },
  {
   "cell_type": "markdown",
   "id": "dcfb07a9",
   "metadata": {},
   "source": [
    "### Data Manipulation\n",
    "\n",
    "Building a dictionary of parameter values and asset_ids"
   ]
  },
  {
   "cell_type": "code",
   "execution_count": null,
   "id": "9c34ba2b",
   "metadata": {},
   "outputs": [],
   "source": [
    "spaces = list(set([x[\"parents\"][0][\"name\"] for x in space_instance_parameters]))\n",
    "\n",
    "# convert json to list of tuples containing parameter names, values, space names, space instance ids\n",
    "data = [(x[\"parents\"][0][\"name\"], x[\"parameter_type\"][\"id\"], x[\"revision\"][\"values\"][0][\"value\"]) for x in space_instance_parameters]\n",
    "\n",
    "d = {space:{x[1]: x[2] for x in data if x[0] == space} for space in spaces}\n",
    "\n",
    "for x in space_instance_parameters:\n",
    "    d[x[\"parents\"][0][\"name\"]][\"id\"] = x[\"parents\"][0][\"id\"]"
   ]
  },
  {
   "cell_type": "markdown",
   "id": "bc5f9a53",
   "metadata": {},
   "source": [
    "Create lists of values, skipping and displaying spaces where all values are not available."
   ]
  },
  {
   "cell_type": "code",
   "execution_count": null,
   "id": "b9388218",
   "metadata": {},
   "outputs": [],
   "source": [
    "space_list = []\n",
    "\n",
    "for space in spaces:\n",
    "    try:\n",
    "        values = []\n",
    "        for parameter in input_dict:\n",
    "            values.append(d[space][input_dict[parameter][\"id\"]])\n",
    "        if len(values) == len(input_dict):\n",
    "            for i, parameter in enumerate(input_dict):\n",
    "                input_dict[parameter][\"list\"].append(values[i])\n",
    "            space_list.append(d[space][\"id\"])\n",
    "    except KeyError:\n",
    "        print(f\"Parameter '{parameter}' missing in {space}.\")"
   ]
  },
  {
   "cell_type": "markdown",
   "id": "1e1896f5",
   "metadata": {},
   "source": [
    "### DesignCheck Batch Calculation\n",
    "Defines a function to post batch calculations, then runs it with our inputs."
   ]
  },
  {
   "cell_type": "code",
   "execution_count": null,
   "id": "d06c03f1",
   "metadata": {},
   "outputs": [],
   "source": [
    "def designcheck_batchcalc(inputs):\n",
    "\n",
    "    token = arupcomputepy.AcquireNewAccessTokenDeviceFlow()\n",
    "    response = arupcomputepy.MakeCalculationRequest(\n",
    "        inputs[\"calc_id\"],\n",
    "        inputs[\"job_number\"],\n",
    "        token,\n",
    "        isBatch=True,\n",
    "        variables=inputs[\"variables\"],\n",
    "    )\n",
    "    results = json.loads(response[\"output\"])\n",
    "    output = []\n",
    "    for result in results:\n",
    "        if \"errors\" in result:\n",
    "            for error in result[\"errors\"]:\n",
    "                print(error)\n",
    "                raise Exception\n",
    "        entry = []\n",
    "        for value in result[\"arupComputeResultItems\"]:\n",
    "\n",
    "            entry.append(value[\"value\"])\n",
    "\n",
    "        output.append(entry)\n",
    "\n",
    "    return output\n",
    "\n",
    "inputs = {\n",
    "    \"calc_id\": calc_id,\n",
    "    \"job_number\": job_number,\n",
    "    \"variables\": {\n",
    "        \"ID\": space_list,\n",
    "    },\n",
    "}\n",
    "\n",
    "for parameter in input_dict:\n",
    "    inputs[\"variables\"][input_dict[parameter][\"dc2_var\"]] = input_dict[parameter][\"list\"]\n",
    "\n",
    "output_list = [x[0] for x in designcheck_batchcalc(inputs)]"
   ]
  },
  {
   "cell_type": "markdown",
   "id": "d635720b",
   "metadata": {},
   "source": [
    "### Upload to DDB\n",
    "\n",
    "Creates a source with the DesignCheck2 calc as a reference.\n",
    "Posts all output values to their respective assets.\n",
    "\n",
    "#### NOTE:\n",
    "This post is not batched and can be significantly improved if it were."
   ]
  },
  {
   "cell_type": "code",
   "execution_count": null,
   "id": "16d24887",
   "metadata": {},
   "outputs": [],
   "source": [
    "if output_list:\n",
    "\n",
    "    source_id = pyddb.add_new_source(\n",
    "        project_id = project_id,\n",
    "        source_type_id = \"3169ba8f-d474-4ee3-8891-09817a03b196\",\n",
    "        source_title = \"DesignCheck2\",\n",
    "        source_reference = str(calc_id)\n",
    "    )\n",
    "\n",
    "    for i, space in enumerate(space_list):\n",
    "        pyddb.add_update_parameter(\n",
    "            parameter_type_id = output_parameter_id,\n",
    "            project_id = project_id,\n",
    "            asset_id = space,\n",
    "            value = math.ceil(output_list[i]),\n",
    "            unit_id = output_unit_id,\n",
    "            source_id = source_id)"
   ]
  },
  {
   "cell_type": "code",
   "execution_count": null,
   "id": "76bf15d3",
   "metadata": {},
   "outputs": [],
   "source": []
  }
 ],
 "metadata": {
  "kernelspec": {
   "display_name": "Python 3 (ipykernel)",
   "language": "python",
   "name": "python3"
  },
  "language_info": {
   "codemirror_mode": {
    "name": "ipython",
    "version": 3
   },
   "file_extension": ".py",
   "mimetype": "text/x-python",
   "name": "python",
   "nbconvert_exporter": "python",
   "pygments_lexer": "ipython3",
   "version": "3.9.6"
  }
 },
 "nbformat": 4,
 "nbformat_minor": 5
}
