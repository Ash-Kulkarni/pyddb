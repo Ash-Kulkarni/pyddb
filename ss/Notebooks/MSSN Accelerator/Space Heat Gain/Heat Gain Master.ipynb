{
 "cells": [
  {
   "cell_type": "markdown",
   "id": "a6564cb2",
   "metadata": {},
   "source": [
    "## Total Sensible Heat Gain\n",
    "\n",
    "This notebook will run the following calculations using the other notebooks in this directory.\n",
    "\n",
    "1. Fabric heat gain\n",
    "2. Lighting heat gain\n",
    "3. Number of occupants\n",
    "4. Occupant sensible heat gain\n",
    "5. Small power heat gain\n",
    "6. Total sensible heat gain"
   ]
  },
  {
   "cell_type": "markdown",
   "id": "b5eed71f",
   "metadata": {},
   "source": [
    "## Job Details\n",
    "\n",
    "Enter your project number and DDB environment: \"prod\", \"sandbox\", or \"dev\".\n",
    "\n",
    "Note that the project number should be an 8 digit number."
   ]
  },
  {
   "cell_type": "code",
   "execution_count": 1,
   "id": "4bc8fd06",
   "metadata": {},
   "outputs": [
    {
     "name": "stdout",
     "output_type": "stream",
     "text": [
      "Stored 'env' (str)\n",
      "Stored 'job_number' (str)\n"
     ]
    }
   ],
   "source": [
    "env = \"sandbox\"\n",
    "job_number = \"11252300\"\n",
    "\n",
    "%store env\n",
    "%store job_number"
   ]
  },
  {
   "cell_type": "markdown",
   "id": "60343270",
   "metadata": {},
   "source": [
    "### Calculation: Fabric Heat Gain"
   ]
  },
  {
   "cell_type": "code",
   "execution_count": 2,
   "id": "6360fa5a",
   "metadata": {},
   "outputs": [
    {
     "name": "stdout",
     "output_type": "stream",
     "text": [
      "Using default account: Ash.Kulkarni@arup.com\n",
      "Source created successfully.\n",
      "Parameter posted successfully.\n",
      "Parameter posted successfully.\n",
      "Parameter posted successfully.\n",
      "Parameter posted successfully.\n"
     ]
    }
   ],
   "source": [
    "%run ./Fabric_Heat_Gain.ipynb"
   ]
  },
  {
   "cell_type": "markdown",
   "id": "33aa9322",
   "metadata": {},
   "source": [
    "### Calculation: Lighting Heat Gain"
   ]
  },
  {
   "cell_type": "code",
   "execution_count": 3,
   "id": "9684340e",
   "metadata": {},
   "outputs": [
    {
     "name": "stdout",
     "output_type": "stream",
     "text": [
      "Source created successfully.\n",
      "Parameter posted successfully.\n",
      "Parameter posted successfully.\n",
      "Parameter posted successfully.\n",
      "Parameter posted successfully.\n"
     ]
    }
   ],
   "source": [
    "%run ./Lighting_Heat_Gain.ipynb"
   ]
  },
  {
   "cell_type": "markdown",
   "id": "9eb49b91",
   "metadata": {},
   "source": [
    "### Calculation: Number of Occupants"
   ]
  },
  {
   "cell_type": "code",
   "execution_count": 5,
   "id": "6d21493e",
   "metadata": {},
   "outputs": [
    {
     "name": "stdout",
     "output_type": "stream",
     "text": [
      "Parameter posted successfully.\n",
      "Parameter posted successfully.\n",
      "Parameter posted successfully.\n",
      "Parameter posted successfully.\n"
     ]
    }
   ],
   "source": [
    "%run ./Number_of_Occupants.ipynb"
   ]
  },
  {
   "cell_type": "markdown",
   "id": "8216a6cb",
   "metadata": {},
   "source": [
    "### Calculation: Occupant Sensible Gain"
   ]
  },
  {
   "cell_type": "code",
   "execution_count": 6,
   "id": "fc96a45d",
   "metadata": {},
   "outputs": [
    {
     "name": "stdout",
     "output_type": "stream",
     "text": [
      "Source created successfully.\n",
      "Parameter posted successfully.\n",
      "Parameter posted successfully.\n",
      "Parameter posted successfully.\n",
      "Parameter posted successfully.\n"
     ]
    }
   ],
   "source": [
    "%run ./Occupancy_Sensible_Heat_Gain.ipynb"
   ]
  },
  {
   "cell_type": "markdown",
   "id": "1f75adf5",
   "metadata": {},
   "source": [
    "### Calculation: Small Power Gain"
   ]
  },
  {
   "cell_type": "code",
   "execution_count": 7,
   "id": "3c6c8f98",
   "metadata": {},
   "outputs": [
    {
     "name": "stdout",
     "output_type": "stream",
     "text": [
      "Parameter 'Small power heat gain density' missing in HR 104.\n",
      "Source created successfully.\n",
      "Parameter posted successfully.\n",
      "Parameter posted successfully.\n",
      "Parameter posted successfully.\n"
     ]
    }
   ],
   "source": [
    "%run ./Small_Power_Heat_Gain.ipynb"
   ]
  },
  {
   "cell_type": "markdown",
   "id": "d3831e40",
   "metadata": {},
   "source": [
    "### Calculation: Total Sensible Gain"
   ]
  },
  {
   "cell_type": "code",
   "execution_count": 8,
   "id": "aa9bd28a",
   "metadata": {},
   "outputs": [
    {
     "name": "stdout",
     "output_type": "stream",
     "text": [
      "Parameter 'Equipment heat gain' missing in HR 104.\n",
      "Source created successfully.\n",
      "Parameter posted successfully.\n",
      "Parameter posted successfully.\n",
      "Parameter posted successfully.\n"
     ]
    }
   ],
   "source": [
    "%run ./Total_Sensible_Heat_Gain.ipynb"
   ]
  },
  {
   "cell_type": "code",
   "execution_count": null,
   "id": "a6da7473",
   "metadata": {},
   "outputs": [],
   "source": []
  }
 ],
 "metadata": {
  "kernelspec": {
   "display_name": "Python 3 (ipykernel)",
   "language": "python",
   "name": "python3"
  },
  "language_info": {
   "codemirror_mode": {
    "name": "ipython",
    "version": 3
   },
   "file_extension": ".py",
   "mimetype": "text/x-python",
   "name": "python",
   "nbconvert_exporter": "python",
   "pygments_lexer": "ipython3",
   "version": "3.9.6"
  }
 },
 "nbformat": 4,
 "nbformat_minor": 5
}
