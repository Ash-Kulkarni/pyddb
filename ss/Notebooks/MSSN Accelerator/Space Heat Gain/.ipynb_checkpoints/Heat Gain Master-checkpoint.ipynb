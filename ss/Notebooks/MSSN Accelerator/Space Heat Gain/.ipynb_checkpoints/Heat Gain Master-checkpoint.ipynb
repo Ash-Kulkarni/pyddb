{
 "cells": [
  {
   "cell_type": "markdown",
   "id": "a6564cb2",
   "metadata": {},
   "source": [
    "## Total Sensible Heat Gain\n",
    "\n",
    "This notebook will run the following calculations using the other notebooks in this directory.\n",
    "\n",
    "1. Fabric heat gain\n",
    "2. Lighting heat gain\n",
    "3. Number of occupants\n",
    "4. Occupant sensible heat gain\n",
    "5. Small power heat gain\n",
    "6. Total sensible heat gain"
   ]
  },
  {
   "cell_type": "markdown",
   "id": "b5eed71f",
   "metadata": {},
   "source": [
    "## Job Details\n",
    "\n",
    "Enter your project number and DDB environment: \"prod\", \"sandbox\", or \"dev\".\n",
    "\n",
    "Note that the project number should be an 8 digit number."
   ]
  },
  {
   "cell_type": "code",
   "execution_count": 1,
   "id": "4bc8fd06",
   "metadata": {},
   "outputs": [
    {
     "name": "stdout",
     "output_type": "stream",
     "text": [
      "Stored 'env' (str)\n",
      "Stored 'job_number' (str)\n"
     ]
    }
   ],
   "source": [
    "env = \"sandbox\"\n",
    "job_number = \"27846500\"\n",
    "\n",
    "%store env\n",
    "%store job_number"
   ]
  },
  {
   "cell_type": "markdown",
   "id": "60343270",
   "metadata": {},
   "source": [
    "### Calculation: Fabric Heat Gain"
   ]
  },
  {
   "cell_type": "code",
   "execution_count": 2,
   "id": "6360fa5a",
   "metadata": {},
   "outputs": [
    {
     "name": "stdout",
     "output_type": "stream",
     "text": [
      "Using default account: Ash.Kulkarni@arup.com\n"
     ]
    }
   ],
   "source": [
    "%run ./Fabric_Heat_Gain.ipynb"
   ]
  },
  {
   "cell_type": "markdown",
   "id": "33aa9322",
   "metadata": {},
   "source": [
    "### Calculation: Lighting Heat Gain"
   ]
  },
  {
   "cell_type": "code",
   "execution_count": 3,
   "id": "9684340e",
   "metadata": {},
   "outputs": [],
   "source": [
    "%run ./Lighting_Heat_Gain.ipynb"
   ]
  },
  {
   "cell_type": "markdown",
   "id": "9eb49b91",
   "metadata": {},
   "source": [
    "### Calculation: Number of Occupants"
   ]
  },
  {
   "cell_type": "code",
   "execution_count": 4,
   "id": "6d21493e",
   "metadata": {},
   "outputs": [],
   "source": [
    "%run ./Number_of_Occupants.ipynb"
   ]
  },
  {
   "cell_type": "markdown",
   "id": "8216a6cb",
   "metadata": {},
   "source": [
    "### Calculation: Occupant Sensible Gain"
   ]
  },
  {
   "cell_type": "code",
   "execution_count": 5,
   "id": "fc96a45d",
   "metadata": {},
   "outputs": [],
   "source": [
    "%run ./Occupancy_Sensible_Heat_Gain.ipynb"
   ]
  },
  {
   "cell_type": "markdown",
   "id": "1f75adf5",
   "metadata": {},
   "source": [
    "### Calculation: Small Power Gain"
   ]
  },
  {
   "cell_type": "code",
   "execution_count": 6,
   "id": "3c6c8f98",
   "metadata": {},
   "outputs": [],
   "source": [
    "%run ./Small_Power_Heat_Gain.ipynb"
   ]
  },
  {
   "cell_type": "markdown",
   "id": "d3831e40",
   "metadata": {},
   "source": [
    "### Calculation: Total Sensible Gain"
   ]
  },
  {
   "cell_type": "code",
   "execution_count": 7,
   "id": "aa9bd28a",
   "metadata": {},
   "outputs": [],
   "source": [
    "%run ./Total_Sensible_Heat_Gain.ipynb"
   ]
  }
 ],
 "metadata": {
  "kernelspec": {
   "display_name": "Python 3 (ipykernel)",
   "language": "python",
   "name": "python3"
  },
  "language_info": {
   "codemirror_mode": {
    "name": "ipython",
    "version": 3
   },
   "file_extension": ".py",
   "mimetype": "text/x-python",
   "name": "python",
   "nbconvert_exporter": "python",
   "pygments_lexer": "ipython3",
   "version": "3.9.6"
  }
 },
 "nbformat": 4,
 "nbformat_minor": 5
}
