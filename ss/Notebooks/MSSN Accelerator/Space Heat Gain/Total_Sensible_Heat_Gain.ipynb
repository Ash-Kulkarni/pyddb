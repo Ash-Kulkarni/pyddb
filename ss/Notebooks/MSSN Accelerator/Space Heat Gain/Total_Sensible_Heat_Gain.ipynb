{
 "cells": [
  {
   "cell_type": "markdown",
   "id": "e56dcfca",
   "metadata": {},
   "source": [
    "### Imports and Authentication"
   ]
  },
  {
   "cell_type": "code",
   "execution_count": null,
   "id": "6321f2e2",
   "metadata": {},
   "outputs": [],
   "source": [
    "import pandas as pd\n",
    "from ddb_auth import DDBAuth #https://github.com/arup-group/ddbpy_auth\n",
    "import ddb_get_post as pyddb\n",
    "import arupcomputepy\n",
    "import json"
   ]
  },
  {
   "cell_type": "markdown",
   "id": "56311535",
   "metadata": {},
   "source": [
    "### Inputs"
   ]
  },
  {
   "cell_type": "code",
   "execution_count": null,
   "id": "f6e3a39f",
   "metadata": {},
   "outputs": [],
   "source": [
    "# pyddb.site = \"sandbox\"\n",
    "# job_number = \"27846500\"\n",
    "\n",
    "%store -r env\n",
    "%store -r job_number\n",
    "\n",
    "pyddb.site = env"
   ]
  },
  {
   "cell_type": "markdown",
   "id": "0a3659f1",
   "metadata": {},
   "source": [
    "### Calculation Settings\n",
    "Enter the DC2 calc_id, DDB parameter type ids, and DC2 variable names.\n",
    "\n",
    "The names do not have to match the DDB parameter names.\n",
    "\n",
    "\n",
    "Note: This is currently only set up for DC2 calcs with a single output."
   ]
  },
  {
   "cell_type": "code",
   "execution_count": null,
   "id": "d3eb9a16",
   "metadata": {},
   "outputs": [],
   "source": [
    "calc_id = 4374727\n",
    "\n",
    "input_dict = {\n",
    "    \n",
    "    \"Lighting heat gain\" : {\n",
    "        \"id\" : \"9a427e74-d428-44d0-aa8a-1744e5cdbb3d\",\n",
    "        \"dc2_var\" : \"Phi_lighting\",\n",
    "    },\n",
    "              \n",
    "    \"Equipment heat gain\" : {\n",
    "        \"id\" : \"36f829c4-c6f6-40bd-8421-d29930193a95\",\n",
    "        \"dc2_var\" : \"Phi_equipment\",\n",
    "    },\n",
    "\n",
    "    \"Total fabric heat gain\" : {\n",
    "        \"id\" : \"2f0fe574-d37c-4515-ad1b-dd1d1b06d8c6\",\n",
    "        \"dc2_var\" : \"Phi_fabric\",\n",
    "    },\n",
    "              \n",
    "    \"Total occupancy sensible heat gain\" : {\n",
    "        \"id\" : \"24e0d62a-ca93-4325-a6c5-7704089099ac\",\n",
    "        \"dc2_var\" : \"Phi_PeopleSensible\",\n",
    "    },\n",
    "}\n",
    "\n",
    "\n",
    "# sensible heat gain _ summer\n",
    "output_parameter_id = \"2770a38e-42d0-423e-9856-d6f452a9f965\" # will update to an output dict when necessary\n",
    "output_unit_id = \"2a029d23-0fcf-4170-93f0-285960937099\"\n",
    "\n",
    "space_instance_id = '21ba5fbb-f079-4c37-a3b9-f36e21e5b3ac'\n",
    "\n",
    "for parameter in input_dict:\n",
    "    input_dict[parameter][\"list\"] = []"
   ]
  },
  {
   "cell_type": "markdown",
   "id": "d543bde0",
   "metadata": {},
   "source": [
    "### Get Values from DDB\n",
    "\n",
    "Get project_id from job_number.\n",
    "Get all parameters, filtered by project, asset type, and the parameters we want"
   ]
  },
  {
   "cell_type": "code",
   "execution_count": null,
   "id": "92384bf2",
   "metadata": {},
   "outputs": [],
   "source": [
    "project_id = pyddb.get_project_id(job_number)\n",
    "\n",
    "space_instance_parameters = pyddb.get_parameters(\n",
    "    project_id = project_id,\n",
    "    asset_type = space_instance_id,\n",
    "    parameter_type_id = [input_dict[key][\"id\"] for key in input_dict.keys()],\n",
    "    page_limit = 9999\n",
    ")"
   ]
  },
  {
   "cell_type": "markdown",
   "id": "dcfb07a9",
   "metadata": {},
   "source": [
    "### Data Manipulation\n",
    "\n",
    "Building a dictionary of parameter values and asset_ids"
   ]
  },
  {
   "cell_type": "code",
   "execution_count": null,
   "id": "9c34ba2b",
   "metadata": {},
   "outputs": [],
   "source": [
    "spaces = list(set([x[\"parents\"][0][\"name\"] for x in space_instance_parameters]))\n",
    "\n",
    "# convert json to list of tuples containing parameter names, values, space names, space instance ids\n",
    "data = [(x[\"parents\"][0][\"name\"], x[\"parameter_type\"][\"id\"], x[\"revision\"][\"values\"][0][\"value\"]) for x in space_instance_parameters]\n",
    "\n",
    "d = {space:{x[1]: x[2] for x in data if x[0] == space} for space in spaces}\n",
    "\n",
    "for x in space_instance_parameters:\n",
    "    d[x[\"parents\"][0][\"name\"]][\"id\"] = x[\"parents\"][0][\"id\"]"
   ]
  },
  {
   "cell_type": "markdown",
   "id": "bc5f9a53",
   "metadata": {},
   "source": [
    "Create lists of values, skipping and displaying spaces where all values are not available."
   ]
  },
  {
   "cell_type": "code",
   "execution_count": null,
   "id": "b9388218",
   "metadata": {},
   "outputs": [],
   "source": [
    "space_list = []\n",
    "\n",
    "for space in spaces:\n",
    "    try:\n",
    "        values = []\n",
    "        for parameter in input_dict:\n",
    "            values.append(d[space][input_dict[parameter][\"id\"]])\n",
    "        if len(values) == len(input_dict):\n",
    "            for i, parameter in enumerate(input_dict):\n",
    "                input_dict[parameter][\"list\"].append(values[i])\n",
    "            space_list.append(d[space][\"id\"])\n",
    "    except KeyError:\n",
    "        print(f\"Parameter '{parameter}' missing in {space}.\")"
   ]
  },
  {
   "cell_type": "markdown",
   "id": "1e1896f5",
   "metadata": {},
   "source": [
    "### DesignCheck Batch Calculation\n",
    "Defines a function to post batch calculations, then runs it with our inputs."
   ]
  },
  {
   "cell_type": "code",
   "execution_count": 7,
   "id": "d06c03f1",
   "metadata": {},
   "outputs": [
    {
     "ename": "KeyboardInterrupt",
     "evalue": "",
     "output_type": "error",
     "traceback": [
      "\u001b[1;31m---------------------------------------------------------------------------\u001b[0m",
      "\u001b[1;31mKeyboardInterrupt\u001b[0m                         Traceback (most recent call last)",
      "\u001b[1;32mC:\\Users\\ASH~1.KUL\\AppData\\Local\\Temp/ipykernel_69940/3560465757.py\u001b[0m in \u001b[0;36m<module>\u001b[1;34m\u001b[0m\n\u001b[0;32m     36\u001b[0m     \u001b[0minputs\u001b[0m\u001b[1;33m[\u001b[0m\u001b[1;34m\"variables\"\u001b[0m\u001b[1;33m]\u001b[0m\u001b[1;33m[\u001b[0m\u001b[0minput_dict\u001b[0m\u001b[1;33m[\u001b[0m\u001b[0mparameter\u001b[0m\u001b[1;33m]\u001b[0m\u001b[1;33m[\u001b[0m\u001b[1;34m\"dc2_var\"\u001b[0m\u001b[1;33m]\u001b[0m\u001b[1;33m]\u001b[0m \u001b[1;33m=\u001b[0m \u001b[0minput_dict\u001b[0m\u001b[1;33m[\u001b[0m\u001b[0mparameter\u001b[0m\u001b[1;33m]\u001b[0m\u001b[1;33m[\u001b[0m\u001b[1;34m\"list\"\u001b[0m\u001b[1;33m]\u001b[0m\u001b[1;33m\u001b[0m\u001b[1;33m\u001b[0m\u001b[0m\n\u001b[0;32m     37\u001b[0m \u001b[1;33m\u001b[0m\u001b[0m\n\u001b[1;32m---> 38\u001b[1;33m \u001b[0moutput_list\u001b[0m \u001b[1;33m=\u001b[0m \u001b[1;33m[\u001b[0m\u001b[0mx\u001b[0m\u001b[1;33m[\u001b[0m\u001b[1;36m0\u001b[0m\u001b[1;33m]\u001b[0m \u001b[1;32mfor\u001b[0m \u001b[0mx\u001b[0m \u001b[1;32min\u001b[0m \u001b[0mdesigncheck_batchcalc\u001b[0m\u001b[1;33m(\u001b[0m\u001b[0minputs\u001b[0m\u001b[1;33m)\u001b[0m\u001b[1;33m]\u001b[0m\u001b[1;33m\u001b[0m\u001b[1;33m\u001b[0m\u001b[0m\n\u001b[0m",
      "\u001b[1;32mC:\\Users\\ASH~1.KUL\\AppData\\Local\\Temp/ipykernel_69940/3560465757.py\u001b[0m in \u001b[0;36mdesigncheck_batchcalc\u001b[1;34m(inputs)\u001b[0m\n\u001b[0;32m      1\u001b[0m \u001b[1;32mdef\u001b[0m \u001b[0mdesigncheck_batchcalc\u001b[0m\u001b[1;33m(\u001b[0m\u001b[0minputs\u001b[0m\u001b[1;33m)\u001b[0m\u001b[1;33m:\u001b[0m\u001b[1;33m\u001b[0m\u001b[1;33m\u001b[0m\u001b[0m\n\u001b[0;32m      2\u001b[0m \u001b[1;33m\u001b[0m\u001b[0m\n\u001b[1;32m----> 3\u001b[1;33m     \u001b[0mtoken\u001b[0m \u001b[1;33m=\u001b[0m \u001b[0marupcomputepy\u001b[0m\u001b[1;33m.\u001b[0m\u001b[0mAcquireNewAccessTokenDeviceFlow\u001b[0m\u001b[1;33m(\u001b[0m\u001b[1;33m)\u001b[0m\u001b[1;33m\u001b[0m\u001b[1;33m\u001b[0m\u001b[0m\n\u001b[0m\u001b[0;32m      4\u001b[0m     response = arupcomputepy.MakeCalculationRequest(\n\u001b[0;32m      5\u001b[0m         \u001b[0minputs\u001b[0m\u001b[1;33m[\u001b[0m\u001b[1;34m\"calc_id\"\u001b[0m\u001b[1;33m]\u001b[0m\u001b[1;33m,\u001b[0m\u001b[1;33m\u001b[0m\u001b[1;33m\u001b[0m\u001b[0m\n",
      "\u001b[1;32m~\\Documents\\_dtd_venv\\JupyterTable\\lib\\site-packages\\arupcomputepy\\__init__.py\u001b[0m in \u001b[0;36mAcquireNewAccessTokenDeviceFlow\u001b[1;34m(refreshToken, verbose)\u001b[0m\n\u001b[0;32m    102\u001b[0m \u001b[1;33m\u001b[0m\u001b[0m\n\u001b[0;32m    103\u001b[0m \u001b[1;32mdef\u001b[0m \u001b[0mAcquireNewAccessTokenDeviceFlow\u001b[0m\u001b[1;33m(\u001b[0m\u001b[0mrefreshToken\u001b[0m\u001b[1;33m=\u001b[0m\u001b[1;32mNone\u001b[0m\u001b[1;33m,\u001b[0m \u001b[0mverbose\u001b[0m\u001b[1;33m=\u001b[0m\u001b[1;32mFalse\u001b[0m\u001b[1;33m)\u001b[0m\u001b[1;33m:\u001b[0m\u001b[1;33m\u001b[0m\u001b[1;33m\u001b[0m\u001b[0m\n\u001b[1;32m--> 104\u001b[1;33m     \u001b[1;32mreturn\u001b[0m \u001b[0mPublicClientApplicationFlow\u001b[0m\u001b[1;33m(\u001b[0m\u001b[1;34m\"device_flow\"\u001b[0m\u001b[1;33m,\u001b[0m \u001b[0mrefreshToken\u001b[0m\u001b[1;33m,\u001b[0m \u001b[0mverbose\u001b[0m\u001b[1;33m)\u001b[0m\u001b[1;33m\u001b[0m\u001b[1;33m\u001b[0m\u001b[0m\n\u001b[0m\u001b[0;32m    105\u001b[0m \u001b[1;33m\u001b[0m\u001b[0m\n\u001b[0;32m    106\u001b[0m \u001b[1;32mdef\u001b[0m \u001b[0mAcquireNewAccessTokenInteractiveFlow\u001b[0m\u001b[1;33m(\u001b[0m\u001b[0mrefreshToken\u001b[0m\u001b[1;33m=\u001b[0m\u001b[1;32mNone\u001b[0m\u001b[1;33m,\u001b[0m \u001b[0mverbose\u001b[0m\u001b[1;33m=\u001b[0m\u001b[1;32mFalse\u001b[0m\u001b[1;33m)\u001b[0m\u001b[1;33m:\u001b[0m\u001b[1;33m\u001b[0m\u001b[1;33m\u001b[0m\u001b[0m\n",
      "\u001b[1;32m~\\Documents\\_dtd_venv\\JupyterTable\\lib\\site-packages\\arupcomputepy\\__init__.py\u001b[0m in \u001b[0;36mPublicClientApplicationFlow\u001b[1;34m(mode, refreshToken, verbose)\u001b[0m\n\u001b[0;32m    150\u001b[0m             \u001b[1;31m# Ideally you should wait here, in order to save some unnecessary polling\u001b[0m\u001b[1;33m\u001b[0m\u001b[1;33m\u001b[0m\u001b[1;33m\u001b[0m\u001b[0m\n\u001b[0;32m    151\u001b[0m             \u001b[1;31m# input(\"Press Enter after you successfully login from another device...\")\u001b[0m\u001b[1;33m\u001b[0m\u001b[1;33m\u001b[0m\u001b[1;33m\u001b[0m\u001b[0m\n\u001b[1;32m--> 152\u001b[1;33m             \u001b[0mresult\u001b[0m \u001b[1;33m=\u001b[0m \u001b[0mapp\u001b[0m\u001b[1;33m.\u001b[0m\u001b[0macquire_token_by_device_flow\u001b[0m\u001b[1;33m(\u001b[0m\u001b[0mflow\u001b[0m\u001b[1;33m)\u001b[0m  \u001b[1;31m# By default it will block\u001b[0m\u001b[1;33m\u001b[0m\u001b[1;33m\u001b[0m\u001b[0m\n\u001b[0m\u001b[0;32m    153\u001b[0m         \u001b[1;32melse\u001b[0m\u001b[1;33m:\u001b[0m\u001b[1;33m\u001b[0m\u001b[1;33m\u001b[0m\u001b[0m\n\u001b[0;32m    154\u001b[0m             \u001b[0mresult\u001b[0m \u001b[1;33m=\u001b[0m \u001b[0mapp\u001b[0m\u001b[1;33m.\u001b[0m\u001b[0macquire_token_interactive\u001b[0m\u001b[1;33m(\u001b[0m\u001b[0mscopes\u001b[0m\u001b[1;33m=\u001b[0m\u001b[0mscopes\u001b[0m\u001b[1;33m)\u001b[0m\u001b[1;33m\u001b[0m\u001b[1;33m\u001b[0m\u001b[0m\n",
      "\u001b[1;32m~\\Documents\\_dtd_venv\\JupyterTable\\lib\\site-packages\\msal\\application.py\u001b[0m in \u001b[0;36macquire_token_by_device_flow\u001b[1;34m(self, flow, claims_challenge, **kwargs)\u001b[0m\n\u001b[0;32m   1487\u001b[0m             \u001b[0mself\u001b[0m\u001b[1;33m.\u001b[0m\u001b[0mACQUIRE_TOKEN_BY_DEVICE_FLOW_ID\u001b[0m\u001b[1;33m,\u001b[0m\u001b[1;33m\u001b[0m\u001b[1;33m\u001b[0m\u001b[0m\n\u001b[0;32m   1488\u001b[0m             correlation_id=flow.get(self.DEVICE_FLOW_CORRELATION_ID))\n\u001b[1;32m-> 1489\u001b[1;33m         response = _clean_up(self.client.obtain_token_by_device_flow(\n\u001b[0m\u001b[0;32m   1490\u001b[0m             \u001b[0mflow\u001b[0m\u001b[1;33m,\u001b[0m\u001b[1;33m\u001b[0m\u001b[1;33m\u001b[0m\u001b[0m\n\u001b[0;32m   1491\u001b[0m             data=dict(\n",
      "\u001b[1;32m~\\Documents\\_dtd_venv\\JupyterTable\\lib\\site-packages\\msal\\oauth2cli\\oauth2.py\u001b[0m in \u001b[0;36mobtain_token_by_device_flow\u001b[1;34m(self, flow, exit_condition, **kwargs)\u001b[0m\n\u001b[0;32m    388\u001b[0m                 \u001b[1;32mif\u001b[0m \u001b[0mexit_condition\u001b[0m\u001b[1;33m(\u001b[0m\u001b[0mflow\u001b[0m\u001b[1;33m)\u001b[0m\u001b[1;33m:\u001b[0m\u001b[1;33m\u001b[0m\u001b[1;33m\u001b[0m\u001b[0m\n\u001b[0;32m    389\u001b[0m                     \u001b[1;32mreturn\u001b[0m \u001b[0mresult\u001b[0m\u001b[1;33m\u001b[0m\u001b[1;33m\u001b[0m\u001b[0m\n\u001b[1;32m--> 390\u001b[1;33m                 \u001b[0mtime\u001b[0m\u001b[1;33m.\u001b[0m\u001b[0msleep\u001b[0m\u001b[1;33m(\u001b[0m\u001b[1;36m1\u001b[0m\u001b[1;33m)\u001b[0m  \u001b[1;31m# Shorten each round, to make exit more responsive\u001b[0m\u001b[1;33m\u001b[0m\u001b[1;33m\u001b[0m\u001b[0m\n\u001b[0m\u001b[0;32m    391\u001b[0m \u001b[1;33m\u001b[0m\u001b[0m\n\u001b[0;32m    392\u001b[0m     def _build_auth_request_uri(\n",
      "\u001b[1;31mKeyboardInterrupt\u001b[0m: "
     ]
    }
   ],
   "source": [
    "def designcheck_batchcalc(inputs):\n",
    "\n",
    "    token = arupcomputepy.AcquireNewAccessTokenDeviceFlow()\n",
    "    response = arupcomputepy.MakeCalculationRequest(\n",
    "        inputs[\"calc_id\"],\n",
    "        inputs[\"job_number\"],\n",
    "        token,\n",
    "        isBatch=True,\n",
    "        variables=inputs[\"variables\"],\n",
    "    )\n",
    "    results = json.loads(response[\"output\"])\n",
    "    output = []\n",
    "    for result in results:\n",
    "        if \"errors\" in result:\n",
    "            for error in result[\"errors\"]:\n",
    "                print(error)\n",
    "                raise Exception\n",
    "        entry = []\n",
    "        for value in result[\"arupComputeResultItems\"]:\n",
    "\n",
    "            entry.append(value[\"value\"])\n",
    "\n",
    "        output.append(entry)\n",
    "\n",
    "    return output\n",
    "\n",
    "inputs = {\n",
    "    \"calc_id\": calc_id,\n",
    "    \"job_number\": job_number,\n",
    "    \"variables\": {\n",
    "        \"ID\": space_list,\n",
    "    },\n",
    "}\n",
    "\n",
    "for parameter in input_dict:\n",
    "    inputs[\"variables\"][input_dict[parameter][\"dc2_var\"]] = input_dict[parameter][\"list\"]\n",
    "\n",
    "output_list = [x[0] for x in designcheck_batchcalc(inputs)]"
   ]
  },
  {
   "cell_type": "markdown",
   "id": "d635720b",
   "metadata": {},
   "source": [
    "### Upload to DDB\n",
    "\n",
    "Creates a source with the DesignCheck2 calc as a reference.\n",
    "Posts all output values to their respective assets.\n",
    "\n",
    "#### NOTE:\n",
    "This post is not batched and can be significantly improved if it were."
   ]
  },
  {
   "cell_type": "code",
   "execution_count": null,
   "id": "16d24887",
   "metadata": {},
   "outputs": [],
   "source": [
    "if output_list:\n",
    "\n",
    "    source_id = pyddb.add_new_source(\n",
    "        project_id = project_id,\n",
    "        source_type_id = \"3169ba8f-d474-4ee3-8891-09817a03b196\",\n",
    "        source_title = \"DesignCheck2\",\n",
    "        source_reference = str(calc_id)\n",
    "    )\n",
    "\n",
    "    for i, space in enumerate(space_list):\n",
    "        pyddb.add_update_parameter(\n",
    "            parameter_type_id = output_parameter_id,\n",
    "            project_id = project_id,\n",
    "            asset_id = space,\n",
    "            value = output_list[i],\n",
    "            unit_id = output_unit_id,\n",
    "            source_id = source_id)"
   ]
  },
  {
   "cell_type": "code",
   "execution_count": null,
   "id": "76bf15d3",
   "metadata": {},
   "outputs": [],
   "source": []
  }
 ],
 "metadata": {
  "kernelspec": {
   "display_name": "Python 3 (ipykernel)",
   "language": "python",
   "name": "python3"
  },
  "language_info": {
   "codemirror_mode": {
    "name": "ipython",
    "version": 3
   },
   "file_extension": ".py",
   "mimetype": "text/x-python",
   "name": "python",
   "nbconvert_exporter": "python",
   "pygments_lexer": "ipython3",
   "version": "3.9.6"
  }
 },
 "nbformat": 4,
 "nbformat_minor": 5
}
