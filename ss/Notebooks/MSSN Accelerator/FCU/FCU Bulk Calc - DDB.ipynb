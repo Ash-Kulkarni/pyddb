{
 "cells": [
  {
   "cell_type": "markdown",
   "metadata": {},
   "source": [
    "## Authentication\n",
    "\n",
    "You may be required to authenticate with your Arup credentials to use DesignCheck2."
   ]
  },
  {
   "cell_type": "code",
   "execution_count": 47,
   "metadata": {},
   "outputs": [],
   "source": [
    "import sys\n",
    "sys.path.append('../../../Scripts')\n",
    "\n",
    "from FCU_dataclasses import FCU_batchcalc, fcu_calc\n",
    "import ddb_get_post as pyddb\n",
    "import ipywidgets as widgets\n",
    "import pandas as pd"
   ]
  },
  {
   "cell_type": "markdown",
   "metadata": {},
   "source": [
    "### Enter Job Number"
   ]
  },
  {
   "cell_type": "code",
   "execution_count": 48,
   "metadata": {},
   "outputs": [],
   "source": [
    "pyddb.site = \"sandbox\"\n",
    "job_number = \"11252300\"\n",
    "fcu_subsystem_name = \"Fan Coil Units\""
   ]
  },
  {
   "cell_type": "markdown",
   "metadata": {},
   "source": [
    "### Select Building"
   ]
  },
  {
   "cell_type": "code",
   "execution_count": 49,
   "metadata": {},
   "outputs": [
    {
     "data": {
      "application/vnd.jupyter.widget-view+json": {
       "model_id": "6e80fb3a9e374b61823b30f7b1c2014b",
       "version_major": 2,
       "version_minor": 0
      },
      "text/plain": [
       "Dropdown(options=(('B2B3', 'db628c16-8677-468e-bb7a-97645c9f48af'),), value='db628c16-8677-468e-bb7a-97645c9f4…"
      ]
     },
     "metadata": {},
     "output_type": "display_data"
    }
   ],
   "source": [
    "project_id = pyddb.get_project_id(job_number)\n",
    "building_type_id = 'dbeac84d-9235-47fb-ae08-c8d47e00f253'\n",
    "project_buildings = pyddb.get_assets(project_id = project_id, asset_type_id = building_type_id)\n",
    "buildings_dropdown = widgets.Dropdown(options = [(x[\"name\"], x[\"id\"]) for x in project_buildings])\n",
    "buildings_dropdown"
   ]
  },
  {
   "cell_type": "markdown",
   "metadata": {},
   "source": [
    "### Get Site, FCU Subsystem, Parameters"
   ]
  },
  {
   "cell_type": "code",
   "execution_count": 50,
   "metadata": {},
   "outputs": [],
   "source": [
    "global_parameter_ids = ['ab3dc303-4013-4abe-9b9d-7debe73b1dd4',\n",
    "                        '0c41f0d7-22c1-47f2-9e34-579182414027',\n",
    "                        '5208e0ae-fbbe-4073-83d7-dcfed2364f01',\n",
    "                        '91daecd8-663a-40ea-b6c2-43dc6170656d',\n",
    "                        '4f96a046-3ba3-44de-abac-86dffe0eb77d',\n",
    "                        'b7bfdea1-f073-4cb9-9ce3-5650ea5b25e6',\n",
    "                        'ff68d5af-c965-47ee-9726-db386f0cc11b',\n",
    "                        '6c6462fe-1635-420e-9607-7efa67f75c7e',\n",
    "                        'e6b40ae9-f63e-4072-9aff-fb33c4538810',\n",
    "                        '46d50c09-9a8d-4132-815e-b3ae69483b5c',\n",
    "                        'e6b40ae9-f63e-4072-9aff-fb33c4538810',\n",
    "                        '46d50c09-9a8d-4132-815e-b3ae69483b5c',\n",
    "                        'b8a068b8-3e15-4bb4-96d0-ba626ab2cf52',\n",
    "                        '7532d0a4-37a1-48b9-a572-2304d3cc845e',]\n",
    "\n",
    "space_instance_parameter_ids = ['cb301144-519f-48dd-9ec7-446b6d7fb4f6',\n",
    "                                '3a1ac7d2-791d-4e10-b3f3-0146ce97d581',\n",
    "                                '2770a38e-42d0-423e-9856-d6f452a9f965',\n",
    "                                '2a5a37ae-45c2-45d9-bdb5-59eba21ec340',\n",
    "                                '6f2feb4e-aff7-482f-a74b-77c88f22a4b7',\n",
    "                                'bd0d6db5-b9fe-47d6-8919-2504483a2f9a',\n",
    "                                'db6608ec-061b-4850-ada8-6850bab94301',\n",
    "                                '052c3e65-828a-442a-be84-63b504894f12',]"
   ]
  },
  {
   "cell_type": "code",
   "execution_count": 51,
   "metadata": {},
   "outputs": [],
   "source": [
    "building_id = buildings_dropdown.value\n",
    "\n",
    "# get site from chosen building\n",
    "site_id = [x[\"parent\"] for x in project_buildings if x[\"id\"] == building_id][0]\n",
    "\n",
    "system_type_id = '577cfd8d-8da0-4d78-b4a4-c81ab728d4bf'\n",
    "sub_system_type_id = \"e4b51a06-4f87-4108-9fac-fe44182621fb\"\n",
    "\n",
    "# get all systems and sub systems on project\n",
    "project_sys = pyddb.get_assets(project_id = project_id,\n",
    "                              asset_type_id = [system_type_id,\n",
    "                                              sub_system_type_id])\n",
    "\n",
    "project_systems = [x for x in project_sys if x[\"asset_type\"][\"id\"] == system_type_id]\n",
    "project_subsystems = [x for x in project_sys if x[\"asset_type\"][\"id\"] == sub_system_type_id]\n",
    "\n",
    "# get cooling system\n",
    "cooling_system_id = [x for x in project_systems if x[\"parent\"] == building_id and x[\"name\"] == \"Cooling\"][0][\"id\"]\n",
    "\n",
    "# get cooling fcu sub system\n",
    "fcu_system_id = [x for x in project_subsystems if x[\"parent\"] == cooling_system_id and x[\"name\"] == fcu_subsystem_name][0][\"id\"]\n",
    "\n",
    "# get parameters on the site, building, and fcu system\n",
    "global_parameters = pyddb.get_parameters(asset_id=[site_id, building_id, fcu_system_id],\n",
    "                                        parameter_type_id = global_parameter_ids)\n",
    "\n",
    "space_instance_type_id = '21ba5fbb-f079-4c37-a3b9-f36e21e5b3ac'\n",
    "space_instance_parameters = pyddb.get_parameters(asset_type = space_instance_type_id,\n",
    "                                                parameter_type_id = space_instance_parameter_ids,\n",
    "                                                 project_id = project_id\n",
    "                                                )"
   ]
  },
  {
   "cell_type": "markdown",
   "metadata": {},
   "source": [
    "### Space Instance Data Manipulation"
   ]
  },
  {
   "cell_type": "markdown",
   "metadata": {},
   "source": [
    "Create dictionary of all space instances, their ids, and relevant parameters.\n",
    "\n",
    "Not currently filtered to those under the selected building. BLOCKED by asset hierarchy in api response/query."
   ]
  },
  {
   "cell_type": "code",
   "execution_count": 52,
   "metadata": {},
   "outputs": [],
   "source": [
    "data = [\n",
    "    (x[\"parents\"][0][\"name\"],\n",
    "     x[\"parameter_type\"][\"name\"],\n",
    "     x[\"revision\"][\"values\"][0][\"value\"])\n",
    "    for x in space_instance_parameters if x[\"revision\"]]\n",
    "\n",
    "spaces = list(set([x[0] for x in data]))\n",
    "\n",
    "space_dict = {\n",
    "    space: {\n",
    "        x[1] : x[2]\n",
    "        for x in data\n",
    "        if x[0] == space\n",
    "    }\n",
    "    for space in spaces}\n",
    "\n",
    "for space in spaces:\n",
    "    for x in space_instance_parameters:\n",
    "        if x[\"parents\"][0][\"name\"] == space:\n",
    "            space_dict[space][\"id\"] = x[\"parents\"][0][\"id\"]"
   ]
  },
  {
   "cell_type": "markdown",
   "metadata": {},
   "source": [
    "### Generate DataFrame"
   ]
  },
  {
   "cell_type": "code",
   "execution_count": 53,
   "metadata": {},
   "outputs": [],
   "source": [
    "input_df = pd.DataFrame.from_dict(space_dict, orient = \"index\")"
   ]
  },
  {
   "cell_type": "code",
   "execution_count": 55,
   "metadata": {},
   "outputs": [],
   "source": [
    "new_columns = {\"Fresh air flow rate\": \"Fresh Air Volume Flow Rate\",\n",
    "\"Summer internal temperature\": \"Room Summer Setpoint\",\n",
    "\"Sensible heat gain _ winter\": \"Winter Sensible Heat Gain\",\n",
    "\"Sensible heat gain _ summer\": \"Sensible Heat Gain\",\n",
    "\"Latent heat gain _ winter\": \"Winter Latent Heat Gain\",\n",
    "\"Latent heat gain _ summer\": \"Latent Heat Gain\",\n",
    "\"Winter internal temperature\": \"Room Winter Setpoint\",\n",
    "\"Supply air flow rate\": \"Supply Air Flow Rate\"}"
   ]
  },
  {
   "cell_type": "code",
   "execution_count": 56,
   "metadata": {},
   "outputs": [],
   "source": [
    "input_df=input_df.rename(columns=new_columns)"
   ]
  },
  {
   "cell_type": "markdown",
   "metadata": {},
   "source": [
    "### Global Cooling Data Manipulation"
   ]
  },
  {
   "cell_type": "code",
   "execution_count": 58,
   "metadata": {},
   "outputs": [],
   "source": [
    "global_data = [\n",
    "    (x[\"parents\"][0][\"name\"],\n",
    "     x[\"parameter_type\"][\"name\"],\n",
    "     x[\"revision\"][\"values\"][0][\"value\"])\n",
    "    for x in global_parameters if x[\"revision\"]]\n",
    "\n",
    "global_dict = {\n",
    "        x[1] : x[2]\n",
    "        for x in global_data}"
   ]
  },
  {
   "cell_type": "code",
   "execution_count": 59,
   "metadata": {},
   "outputs": [],
   "source": [
    "for k, v in global_dict.items():\n",
    "    input_df[k] = v\n",
    "\n",
    "#input_df.index.name = \"FCU ID\"\n",
    "input_df[\"FCU ID\"] = input_df.index"
   ]
  },
  {
   "cell_type": "markdown",
   "metadata": {},
   "source": [
    "### Rename Columns"
   ]
  },
  {
   "cell_type": "code",
   "execution_count": 60,
   "metadata": {},
   "outputs": [],
   "source": [
    "new_columns = {'Temperature _ return': 'CHW Return Temp',\n",
    " 'Temperature _ flow': 'CHW Flow Temp',\n",
    " 'Supply fan temperature rise': 'Supply Fan Temperature Rise',\n",
    " 'Peak external winter dry bulb temperature': 'Winter Fresh Air Temperature',\n",
    " 'Peak external summer dry bulb temperature': 'Summer Fresh Air Temperature',\n",
    " 'Glycol type': 'CHW Glycol Type',\n",
    " 'Glycol percentage': 'CHW Glycol Concentration',\n",
    " 'External winter relative humidity': 'Winter Fresh Air Relative Humidity',\n",
    " 'External summer relative humidity': 'Summer Fresh Air Relative Humidity',\n",
    " 'Minimum cooling coil temperature': 'Minimum Temperature of Cooling Coil',\n",
    " 'Cooling coil contact factor': 'Cooling Coil Contact Factor',\n",
    " 'Altitude': 'Altitude'}\n",
    "\n",
    "input_df = input_df.rename(columns = new_columns)"
   ]
  },
  {
   "cell_type": "markdown",
   "metadata": {},
   "source": [
    "### LTHW Flow Temps"
   ]
  },
  {
   "cell_type": "code",
   "execution_count": 61,
   "metadata": {},
   "outputs": [],
   "source": [
    "# get cooling system\n",
    "heating_system_id = [x for x in project_systems if x[\"parent\"] == building_id and x[\"name\"] == \"Heating\"][0][\"id\"]\n",
    "\n",
    "# get cooling fcu sub system\n",
    "fcu_heating_system_id = [x for x in project_subsystems if x[\"parent\"] == heating_system_id and x[\"name\"] == fcu_subsystem_name][0][\"id\"]\n"
   ]
  },
  {
   "cell_type": "code",
   "execution_count": 62,
   "metadata": {},
   "outputs": [],
   "source": [
    "lthw_parameter_ids = [\"46d50c09-9a8d-4132-815e-b3ae69483b5c\", \"e6b40ae9-f63e-4072-9aff-fb33c4538810\"]"
   ]
  },
  {
   "cell_type": "code",
   "execution_count": 63,
   "metadata": {},
   "outputs": [],
   "source": [
    "# get parameters on the site, building, and fcu system\n",
    "lthw_parameters = pyddb.get_parameters(asset_id = fcu_heating_system_id,\n",
    "                                        parameter_type_id = lthw_parameter_ids)"
   ]
  },
  {
   "cell_type": "code",
   "execution_count": 64,
   "metadata": {},
   "outputs": [],
   "source": [
    "lthw_data = [\n",
    "    (x[\"parents\"][0][\"name\"],\n",
    "     x[\"parameter_type\"][\"name\"],\n",
    "     x[\"revision\"][\"values\"][0][\"value\"])\n",
    "    for x in lthw_parameters if x[\"revision\"]]\n",
    "\n",
    "lthw_dict = {\n",
    "        x[1] : x[2]\n",
    "        for x in lthw_data}\n",
    "\n",
    "for k,v in lthw_dict.items():\n",
    "    input_df[k] = v"
   ]
  },
  {
   "cell_type": "code",
   "execution_count": 65,
   "metadata": {},
   "outputs": [],
   "source": [
    "new_columns = {'Temperature _ return': 'LTHW Return Temp',\n",
    "               'Temperature _ flow': 'LTHW Flow Temp'}\n",
    "\n",
    "input_df = input_df.rename(columns = new_columns)"
   ]
  },
  {
   "cell_type": "code",
   "execution_count": 66,
   "metadata": {},
   "outputs": [],
   "source": [
    "input_df = input_df.dropna()"
   ]
  },
  {
   "cell_type": "code",
   "execution_count": 67,
   "metadata": {},
   "outputs": [],
   "source": [
    "output_df_summer, output_df_winter = FCU_batchcalc(job_number, input_df)"
   ]
  },
  {
   "cell_type": "code",
   "execution_count": 68,
   "metadata": {},
   "outputs": [
    {
     "data": {
      "text/html": [
       "<div>\n",
       "<style scoped>\n",
       "    .dataframe tbody tr th:only-of-type {\n",
       "        vertical-align: middle;\n",
       "    }\n",
       "\n",
       "    .dataframe tbody tr th {\n",
       "        vertical-align: top;\n",
       "    }\n",
       "\n",
       "    .dataframe thead th {\n",
       "        text-align: right;\n",
       "    }\n",
       "</style>\n",
       "<table border=\"1\" class=\"dataframe\">\n",
       "  <thead>\n",
       "    <tr style=\"text-align: right;\">\n",
       "      <th></th>\n",
       "      <th>Room Winter Setpoint</th>\n",
       "      <th>Supply Air Flow Rate</th>\n",
       "      <th>Winter Sensible Heat Gain</th>\n",
       "      <th>Sensible Heat Gain</th>\n",
       "      <th>Winter Latent Heat Gain</th>\n",
       "      <th>Latent Heat Gain</th>\n",
       "      <th>Fresh Air Volume Flow Rate</th>\n",
       "      <th>id</th>\n",
       "      <th>Room Summer Setpoint</th>\n",
       "      <th>CHW Return Temp</th>\n",
       "      <th>...</th>\n",
       "      <th>Minimum Temperature of Cooling Coil</th>\n",
       "      <th>CHW Glycol Type</th>\n",
       "      <th>CHW Glycol Concentration</th>\n",
       "      <th>Winter Fresh Air Relative Humidity</th>\n",
       "      <th>Summer Fresh Air Relative Humidity</th>\n",
       "      <th>Cooling Coil Contact Factor</th>\n",
       "      <th>Altitude</th>\n",
       "      <th>FCU ID</th>\n",
       "      <th>LTHW Return Temp</th>\n",
       "      <th>LTHW Flow Temp</th>\n",
       "    </tr>\n",
       "  </thead>\n",
       "  <tbody>\n",
       "    <tr>\n",
       "      <th>HR 103</th>\n",
       "      <td>19.0</td>\n",
       "      <td>23</td>\n",
       "      <td>-2</td>\n",
       "      <td>0.393</td>\n",
       "      <td>4</td>\n",
       "      <td>4</td>\n",
       "      <td>23</td>\n",
       "      <td>68a8c686-7d0c-41cc-86c6-65e520e3e44d</td>\n",
       "      <td>23.0</td>\n",
       "      <td>13</td>\n",
       "      <td>...</td>\n",
       "      <td>8.5</td>\n",
       "      <td>Ethylene</td>\n",
       "      <td>50</td>\n",
       "      <td>90</td>\n",
       "      <td>42</td>\n",
       "      <td>0.85</td>\n",
       "      <td>5</td>\n",
       "      <td>HR 103</td>\n",
       "      <td>60</td>\n",
       "      <td>80</td>\n",
       "    </tr>\n",
       "    <tr>\n",
       "      <th>HR 101</th>\n",
       "      <td>19.0</td>\n",
       "      <td>23</td>\n",
       "      <td>-2</td>\n",
       "      <td>0.343</td>\n",
       "      <td>4</td>\n",
       "      <td>4</td>\n",
       "      <td>23</td>\n",
       "      <td>022aca60-aaa7-4721-afdb-d57b430e255b</td>\n",
       "      <td>23.0</td>\n",
       "      <td>13</td>\n",
       "      <td>...</td>\n",
       "      <td>8.5</td>\n",
       "      <td>Ethylene</td>\n",
       "      <td>50</td>\n",
       "      <td>90</td>\n",
       "      <td>42</td>\n",
       "      <td>0.85</td>\n",
       "      <td>5</td>\n",
       "      <td>HR 101</td>\n",
       "      <td>60</td>\n",
       "      <td>80</td>\n",
       "    </tr>\n",
       "  </tbody>\n",
       "</table>\n",
       "<p>2 rows × 24 columns</p>\n",
       "</div>"
      ],
      "text/plain": [
       "        Room Winter Setpoint  Supply Air Flow Rate  Winter Sensible Heat Gain  \\\n",
       "HR 103                  19.0                    23                         -2   \n",
       "HR 101                  19.0                    23                         -2   \n",
       "\n",
       "        Sensible Heat Gain  Winter Latent Heat Gain  Latent Heat Gain  \\\n",
       "HR 103               0.393                        4                 4   \n",
       "HR 101               0.343                        4                 4   \n",
       "\n",
       "        Fresh Air Volume Flow Rate                                    id  \\\n",
       "HR 103                          23  68a8c686-7d0c-41cc-86c6-65e520e3e44d   \n",
       "HR 101                          23  022aca60-aaa7-4721-afdb-d57b430e255b   \n",
       "\n",
       "        Room Summer Setpoint  CHW Return Temp  ...  \\\n",
       "HR 103                  23.0               13  ...   \n",
       "HR 101                  23.0               13  ...   \n",
       "\n",
       "        Minimum Temperature of Cooling Coil  CHW Glycol Type  \\\n",
       "HR 103                                  8.5         Ethylene   \n",
       "HR 101                                  8.5         Ethylene   \n",
       "\n",
       "        CHW Glycol Concentration  Winter Fresh Air Relative Humidity  \\\n",
       "HR 103                        50                                  90   \n",
       "HR 101                        50                                  90   \n",
       "\n",
       "        Summer Fresh Air Relative Humidity Cooling Coil Contact Factor  \\\n",
       "HR 103                                  42                        0.85   \n",
       "HR 101                                  42                        0.85   \n",
       "\n",
       "        Altitude  FCU ID  LTHW Return Temp  LTHW Flow Temp  \n",
       "HR 103         5  HR 103                60              80  \n",
       "HR 101         5  HR 101                60              80  \n",
       "\n",
       "[2 rows x 24 columns]"
      ]
     },
     "execution_count": 68,
     "metadata": {},
     "output_type": "execute_result"
    }
   ],
   "source": [
    "input_df"
   ]
  },
  {
   "cell_type": "code",
   "execution_count": 69,
   "metadata": {},
   "outputs": [
    {
     "data": {
      "text/html": [
       "<div>\n",
       "<style scoped>\n",
       "    .dataframe tbody tr th:only-of-type {\n",
       "        vertical-align: middle;\n",
       "    }\n",
       "\n",
       "    .dataframe tbody tr th {\n",
       "        vertical-align: top;\n",
       "    }\n",
       "\n",
       "    .dataframe thead th {\n",
       "        text-align: right;\n",
       "    }\n",
       "</style>\n",
       "<table border=\"1\" class=\"dataframe\">\n",
       "  <thead>\n",
       "    <tr style=\"text-align: right;\">\n",
       "      <th></th>\n",
       "      <th>FCU ID</th>\n",
       "      <th>Supply Air Temperature</th>\n",
       "      <th>Supply Air Relative Humidity</th>\n",
       "      <th>Room Relative Humidity</th>\n",
       "      <th>Cooling Coil Duty</th>\n",
       "      <th>Heating Coil Duty</th>\n",
       "      <th>Rate of Condensate Production</th>\n",
       "      <th>LTHW Mass Flow Rate</th>\n",
       "      <th>CHW Mass Flow Rate</th>\n",
       "    </tr>\n",
       "  </thead>\n",
       "  <tbody>\n",
       "    <tr>\n",
       "      <th>HR 103</th>\n",
       "      <td>HR 103</td>\n",
       "      <td>22.986040</td>\n",
       "      <td>63.500355</td>\n",
       "      <td>63.777002</td>\n",
       "      <td>205.856310</td>\n",
       "      <td>0.0</td>\n",
       "      <td>0.0</td>\n",
       "      <td>0.0</td>\n",
       "      <td>10.620128</td>\n",
       "    </tr>\n",
       "    <tr>\n",
       "      <th>HR 101</th>\n",
       "      <td>HR 101</td>\n",
       "      <td>22.987816</td>\n",
       "      <td>63.493530</td>\n",
       "      <td>63.777002</td>\n",
       "      <td>205.805977</td>\n",
       "      <td>0.0</td>\n",
       "      <td>0.0</td>\n",
       "      <td>0.0</td>\n",
       "      <td>10.617531</td>\n",
       "    </tr>\n",
       "  </tbody>\n",
       "</table>\n",
       "</div>"
      ],
      "text/plain": [
       "        FCU ID  Supply Air Temperature  Supply Air Relative Humidity  \\\n",
       "HR 103  HR 103               22.986040                     63.500355   \n",
       "HR 101  HR 101               22.987816                     63.493530   \n",
       "\n",
       "        Room Relative Humidity  Cooling Coil Duty  Heating Coil Duty  \\\n",
       "HR 103               63.777002         205.856310                0.0   \n",
       "HR 101               63.777002         205.805977                0.0   \n",
       "\n",
       "        Rate of Condensate Production  LTHW Mass Flow Rate  CHW Mass Flow Rate  \n",
       "HR 103                            0.0                  0.0           10.620128  \n",
       "HR 101                            0.0                  0.0           10.617531  "
      ]
     },
     "execution_count": 69,
     "metadata": {},
     "output_type": "execute_result"
    }
   ],
   "source": [
    "output_df_summer"
   ]
  },
  {
   "cell_type": "code",
   "execution_count": 70,
   "metadata": {},
   "outputs": [
    {
     "data": {
      "text/html": [
       "<div>\n",
       "<style scoped>\n",
       "    .dataframe tbody tr th:only-of-type {\n",
       "        vertical-align: middle;\n",
       "    }\n",
       "\n",
       "    .dataframe tbody tr th {\n",
       "        vertical-align: top;\n",
       "    }\n",
       "\n",
       "    .dataframe thead th {\n",
       "        text-align: right;\n",
       "    }\n",
       "</style>\n",
       "<table border=\"1\" class=\"dataframe\">\n",
       "  <thead>\n",
       "    <tr style=\"text-align: right;\">\n",
       "      <th></th>\n",
       "      <th>FCU ID</th>\n",
       "      <th>Supply Air Temperature</th>\n",
       "      <th>Supply Air Relative Humidity</th>\n",
       "      <th>Room Relative Humidity</th>\n",
       "      <th>Cooling Coil Duty</th>\n",
       "      <th>Heating Coil Duty</th>\n",
       "      <th>Rate of Condensate Production</th>\n",
       "      <th>LTHW Mass Flow Rate</th>\n",
       "      <th>CHW Mass Flow Rate</th>\n",
       "    </tr>\n",
       "  </thead>\n",
       "  <tbody>\n",
       "    <tr>\n",
       "      <th>HR 103</th>\n",
       "      <td>HR 103</td>\n",
       "      <td>19.071043</td>\n",
       "      <td>30.907241</td>\n",
       "      <td>31.47461</td>\n",
       "      <td>0.0</td>\n",
       "      <td>442.716519</td>\n",
       "      <td>0.0</td>\n",
       "      <td>5.272946</td>\n",
       "      <td>0.0</td>\n",
       "    </tr>\n",
       "    <tr>\n",
       "      <th>HR 101</th>\n",
       "      <td>HR 101</td>\n",
       "      <td>19.071043</td>\n",
       "      <td>30.907241</td>\n",
       "      <td>31.47461</td>\n",
       "      <td>0.0</td>\n",
       "      <td>442.716519</td>\n",
       "      <td>0.0</td>\n",
       "      <td>5.272946</td>\n",
       "      <td>0.0</td>\n",
       "    </tr>\n",
       "  </tbody>\n",
       "</table>\n",
       "</div>"
      ],
      "text/plain": [
       "        FCU ID  Supply Air Temperature  Supply Air Relative Humidity  \\\n",
       "HR 103  HR 103               19.071043                     30.907241   \n",
       "HR 101  HR 101               19.071043                     30.907241   \n",
       "\n",
       "        Room Relative Humidity  Cooling Coil Duty  Heating Coil Duty  \\\n",
       "HR 103                31.47461                0.0         442.716519   \n",
       "HR 101                31.47461                0.0         442.716519   \n",
       "\n",
       "        Rate of Condensate Production  LTHW Mass Flow Rate  CHW Mass Flow Rate  \n",
       "HR 103                            0.0             5.272946                 0.0  \n",
       "HR 101                            0.0             5.272946                 0.0  "
      ]
     },
     "execution_count": 70,
     "metadata": {},
     "output_type": "execute_result"
    }
   ],
   "source": [
    "output_df_winter"
   ]
  },
  {
   "cell_type": "markdown",
   "metadata": {},
   "source": [
    "### Post Cooling FCU Product Types"
   ]
  },
  {
   "cell_type": "code",
   "execution_count": 71,
   "metadata": {},
   "outputs": [],
   "source": [
    "fcu_cooling = output_df_summer.to_dict()\n",
    "keys = list(fcu_cooling.keys())"
   ]
  },
  {
   "cell_type": "code",
   "execution_count": 72,
   "metadata": {},
   "outputs": [],
   "source": [
    "fcus = {}\n",
    "\n",
    "input_dict = input_df.to_dict()\n",
    "\n",
    "spaces = list(input_dict[\"FCU ID\"].values())\n",
    "\n",
    "for space in spaces:\n",
    "    fcus[space] = {}\n",
    "    for key in keys:\n",
    "        fcus[space][key] = fcu_cooling[key][space]\n",
    "        \n",
    "for space in spaces:\n",
    "    fcus[space][\"id\"] = \"\"\n",
    "    fcus[space][\"id\"] = input_dict[\"id\"][space]"
   ]
  },
  {
   "cell_type": "code",
   "execution_count": 73,
   "metadata": {},
   "outputs": [],
   "source": [
    "output_param_map = {\n",
    "    'Supply Air Temperature': {\n",
    "        \"id\" :'523f8791-2f5f-4358-9029-17538f39f2af',\n",
    "        \"unit\":\"b39e5bcf-cda6-49ed-8c0c-174d8daf8bc1\"\n",
    "    },\n",
    "    'Supply Air Relative Humidity':{\n",
    "        \"id\" :'1ed136a3-d826-4671-903d-cd88f7085e70',\n",
    "                \"unit\":\"03252527-2667-4a4a-8f2f-c124233b6847\"\n",
    "    },\n",
    "    'Cooling Coil Duty':{\n",
    "        \"id\" : '6f3a30c8-c9dc-46e6-b1f6-d0872188010a',   \n",
    "                \"unit\":\"2a029d23-0fcf-4170-93f0-285960937099\"\n",
    "    },\n",
    "    'Heating Coil Duty':{\n",
    "        \"id\" : '9b50dfa1-2ef7-4757-b03e-7adfe5b4afab', \n",
    "                \"unit\":\"2a029d23-0fcf-4170-93f0-285960937099\"\n",
    "    },\n",
    "    'Rate of Condensate Production':{\n",
    "        \"id\" :'0f8a1cae-48a8-4449-bcc3-2d58c024f644',       \n",
    "                \"unit\":\"1295cf94-7c14-4f1e-9126-135040b22ff5\"\n",
    "    },\n",
    "}\n",
    "\n",
    "parameter_types = []\n",
    "values = []\n",
    "units = []\n",
    "\n",
    "for k, v in fcus[spaces[0]].items():\n",
    "    try:\n",
    "        parameter_types.append(output_param_map[k][\"id\"])\n",
    "        values.append(v)\n",
    "        units.append(output_param_map[k][\"unit\"])\n",
    "    except KeyError:\n",
    "        pass"
   ]
  },
  {
   "cell_type": "code",
   "execution_count": 74,
   "metadata": {},
   "outputs": [
    {
     "name": "stdout",
     "output_type": "stream",
     "text": [
      "Source created successfully.\n",
      "Asset: FCU - HR 103 created successfully.\n",
      "Parameter posted successfully.\n",
      "Parameter posted successfully.\n",
      "Parameter posted successfully.\n",
      "Parameter posted successfully.\n",
      "Parameter posted successfully.\n",
      "Asset: FCU - HR 101 created successfully.\n",
      "Parameter posted successfully.\n",
      "Parameter posted successfully.\n",
      "Parameter posted successfully.\n",
      "Parameter posted successfully.\n",
      "Parameter posted successfully.\n"
     ]
    }
   ],
   "source": [
    "if parameter_types:\n",
    "    \n",
    "    source_id = pyddb.add_new_source(\n",
    "        project_id = project_id,\n",
    "        source_type_id = \"3169ba8f-d474-4ee3-8891-09817a03b196\",\n",
    "        source_title = \"DesignCheck2\",\n",
    "        source_reference = \"3603604\"\n",
    "    )\n",
    "    \n",
    "    for space in spaces:\n",
    "        \n",
    "        asset_id = pyddb.add_new_asset(asset_type_id = '49202b68-1ff9-489b-a8ff-9e7d890f1bf4',  # product on dev\n",
    "                            project_id = project_id,\n",
    "                            asset_name = f\"FCU - {space}\",\n",
    "                            parent_id = fcu_system_id)\n",
    "        \n",
    "        for i, _ in enumerate(parameter_types):\n",
    "\n",
    "            pyddb.add_update_parameter(\n",
    "                parameter_type_id = parameter_types[i],\n",
    "                project_id = project_id,\n",
    "                asset_id = asset_id,\n",
    "                value = round(values[i], 2),\n",
    "                unit_id = units[i],\n",
    "                source_id = source_id)"
   ]
  },
  {
   "cell_type": "markdown",
   "metadata": {},
   "source": [
    "### Post Heating FCU Product Types"
   ]
  },
  {
   "cell_type": "code",
   "execution_count": 75,
   "metadata": {},
   "outputs": [],
   "source": [
    "fcu_heating = output_df_winter.to_dict()\n",
    "keys = list(fcu_heating.keys())"
   ]
  },
  {
   "cell_type": "code",
   "execution_count": 76,
   "metadata": {},
   "outputs": [],
   "source": [
    "fcus = {}\n",
    "\n",
    "input_dict = input_df.to_dict()\n",
    "\n",
    "spaces = list(input_dict[\"FCU ID\"].values())\n",
    "\n",
    "for space in spaces:\n",
    "    fcus[space] = {}\n",
    "    for key in keys:\n",
    "        fcus[space][key] = fcu_heating[key][space]\n",
    "        \n",
    "for space in spaces:\n",
    "    fcus[space][\"id\"] = \"\"\n",
    "    fcus[space][\"id\"] = input_dict[\"id\"][space]"
   ]
  },
  {
   "cell_type": "markdown",
   "metadata": {},
   "source": [
    "### Swap these out for winter parameter types"
   ]
  },
  {
   "cell_type": "code",
   "execution_count": 77,
   "metadata": {},
   "outputs": [],
   "source": [
    "output_param_map = {\n",
    "    'Supply Air Temperature': {\n",
    "        \"id\" :'523f8791-2f5f-4358-9029-17538f39f2af',\n",
    "        \"unit\":\"b39e5bcf-cda6-49ed-8c0c-174d8daf8bc1\"\n",
    "    },\n",
    "    'Supply Air Relative Humidity':{\n",
    "        \"id\" :'1ed136a3-d826-4671-903d-cd88f7085e70',\n",
    "                \"unit\":\"03252527-2667-4a4a-8f2f-c124233b6847\"\n",
    "    },\n",
    "    'Cooling Coil Duty':{\n",
    "        \"id\" : '6f3a30c8-c9dc-46e6-b1f6-d0872188010a',   \n",
    "                \"unit\":\"2a029d23-0fcf-4170-93f0-285960937099\"\n",
    "    },\n",
    "    'Heating Coil Duty':{\n",
    "        \"id\" : '9b50dfa1-2ef7-4757-b03e-7adfe5b4afab', \n",
    "                \"unit\":\"2a029d23-0fcf-4170-93f0-285960937099\"\n",
    "    },\n",
    "    'Rate of Condensate Production':{\n",
    "        \"id\" :'0f8a1cae-48a8-4449-bcc3-2d58c024f644',       \n",
    "                \"unit\":\"1295cf94-7c14-4f1e-9126-135040b22ff5\"\n",
    "    },\n",
    "}\n",
    "\n",
    "parameter_types = []\n",
    "values = []\n",
    "units = []\n",
    "\n",
    "for k, v in fcus[spaces[0]].items():\n",
    "    try:\n",
    "        parameter_types.append(output_param_map[k][\"id\"])\n",
    "        values.append(v)\n",
    "        units.append(output_param_map[k][\"unit\"])\n",
    "    except KeyError:\n",
    "        pass"
   ]
  },
  {
   "cell_type": "code",
   "execution_count": 78,
   "metadata": {},
   "outputs": [
    {
     "name": "stdout",
     "output_type": "stream",
     "text": [
      "Asset: FCU - HR 103 created successfully.\n",
      "Parameter posted successfully.\n",
      "Parameter posted successfully.\n",
      "Parameter posted successfully.\n",
      "Parameter posted successfully.\n",
      "Parameter posted successfully.\n",
      "Asset: FCU - HR 101 created successfully.\n",
      "Parameter posted successfully.\n",
      "Parameter posted successfully.\n",
      "Parameter posted successfully.\n",
      "Parameter posted successfully.\n",
      "Parameter posted successfully.\n"
     ]
    }
   ],
   "source": [
    "if parameter_types:\n",
    "    \n",
    "    source_id = pyddb.add_new_source(\n",
    "        project_id = project_id,\n",
    "        source_type_id = \"3169ba8f-d474-4ee3-8891-09817a03b196\",\n",
    "        source_title = \"DesignCheck2\",\n",
    "        source_reference = \"3603604\"\n",
    "    )\n",
    "    \n",
    "    for space in spaces:\n",
    "        \n",
    "        asset_id = pyddb.add_new_asset(asset_type_id = '49202b68-1ff9-489b-a8ff-9e7d890f1bf4',  # product on dev\n",
    "                            project_id = project_id,\n",
    "                            asset_name = f\"FCU - {space}\",\n",
    "                            parent_id = fcu_heating_system_id)\n",
    "        \n",
    "        for i, _ in enumerate(parameter_types):\n",
    "\n",
    "            pyddb.add_update_parameter(\n",
    "                parameter_type_id = parameter_types[i],\n",
    "                project_id = project_id,\n",
    "                asset_id = asset_id,\n",
    "                value = round(values[i], 2),\n",
    "                unit_id = units[i],\n",
    "                source_id = source_id)"
   ]
  }
 ],
 "metadata": {
  "interpreter": {
   "hash": "b3ba2566441a7c06988d0923437866b63cedc61552a5af99d1f4fb67d367b25f"
  },
  "kernelspec": {
   "display_name": "Python 3 (ipykernel)",
   "language": "python",
   "name": "python3"
  },
  "language_info": {
   "codemirror_mode": {
    "name": "ipython",
    "version": 3
   },
   "file_extension": ".py",
   "mimetype": "text/x-python",
   "name": "python",
   "nbconvert_exporter": "python",
   "pygments_lexer": "ipython3",
   "version": "3.9.6"
  }
 },
 "nbformat": 4,
 "nbformat_minor": 2
}
