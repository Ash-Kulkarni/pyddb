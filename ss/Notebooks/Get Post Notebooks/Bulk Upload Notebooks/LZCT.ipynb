{
 "cells": [
  {
   "cell_type": "markdown",
   "id": "5fef76d7",
   "metadata": {},
   "source": [
    "# Imports & Authentication"
   ]
  },
  {
   "cell_type": "code",
   "execution_count": 1,
   "id": "859c9811",
   "metadata": {
    "scrolled": true
   },
   "outputs": [
    {
     "name": "stdout",
     "output_type": "stream",
     "text": [
      "Using default account: Ash.Kulkarni@arup.com\n"
     ]
    }
   ],
   "source": [
    "import sys\n",
    "sys.path.append('../../../Scripts')\n",
    "import pandas as pd\n",
    "from ddb_auth import DDBAuth #https://github.com/arup-group/ddbpy_auth\n",
    "import ddb_get_post as pyddb\n",
    "from ddb_jupyter import generate_df, upload_project\n",
    "import ipysheet\n",
    "import numpy\n",
    "import itertools\n",
    "import uuid"
   ]
  },
  {
   "cell_type": "markdown",
   "id": "b80b1bf8",
   "metadata": {},
   "source": [
    "## Inputs"
   ]
  },
  {
   "cell_type": "code",
   "execution_count": 2,
   "id": "b995774d",
   "metadata": {},
   "outputs": [],
   "source": [
    "pyddb.site = \"sandbox\"  # \"dev\", \"sandbox\", or \"prod\"\n",
    "job_numbers =  [\n",
    "    '27846500'\n",
    "]\n",
    "\n",
    "tag_projects = True\n",
    "project_tag = \"LZC Feasibility Study\"\n",
    "\n",
    "file_name = \"LZCT.xlsx\"\n",
    "file_path = \"..\\..\\..\\Templates\\LZCT\\\\\""
   ]
  },
  {
   "cell_type": "markdown",
   "id": "c05b4f6a",
   "metadata": {},
   "source": [
    "## Specific Spreadsheet Formatting\n",
    "\n",
    "The HVAC BoD Template has sheets with the following names and has 2 headers rows on each sheet."
   ]
  },
  {
   "cell_type": "code",
   "execution_count": 3,
   "id": "611b8e41",
   "metadata": {},
   "outputs": [],
   "source": [
    "header_rows = 1\n",
    "\n",
    "sheet_names = [\n",
    "    \"Project Parameters\",\n",
    "    \"Site Parameters\",\n",
    "    \"Building load and demand\",\n",
    "    \"Baseline Scenario\",\n",
    "    \"Solar thermal panels\",\n",
    "    \"PV panels\",\n",
    "    \"GSHP\",\n",
    "    \"ASHP\",\n",
    "    \"Biomass\",\n",
    "    \"Wind turbine\",\n",
    "    \"Hydroelectric turbine\"\n",
    "]"
   ]
  },
  {
   "cell_type": "markdown",
   "id": "4470a5f5",
   "metadata": {},
   "source": [
    "## Generate Dataframe"
   ]
  },
  {
   "cell_type": "code",
   "execution_count": 4,
   "id": "99b1c03f",
   "metadata": {},
   "outputs": [
    {
     "name": "stderr",
     "output_type": "stream",
     "text": [
      "C:\\Users\\Ash.Kulkarni\\Documents\\_dtd_venv\\JupyterTable\\lib\\site-packages\\openpyxl\\worksheet\\_reader.py:312: UserWarning: Data Validation extension is not supported and will be removed\n",
      "  warn(msg)\n"
     ]
    }
   ],
   "source": [
    "df = generate_df(file_path + file_name, sheet_names, header_rows)"
   ]
  },
  {
   "cell_type": "markdown",
   "id": "173230cd",
   "metadata": {},
   "source": [
    "## Upload to DDB"
   ]
  },
  {
   "cell_type": "code",
   "execution_count": 5,
   "id": "c03d6181",
   "metadata": {},
   "outputs": [
    {
     "name": "stdout",
     "output_type": "stream",
     "text": [
      "Creating project 27846500\n",
      "\n",
      "Existing Project Found.\n",
      "Posting assets...\n",
      "\n",
      "Posting sources...\n",
      "\n",
      "Posting parameters...\n",
      "\n",
      "Posting 131 new parameters:\n",
      "Batch 1 posted successfully.\n",
      "Errors in batch 1.\n",
      "Errors in batch 2.\n",
      "Errors in batch 3.\n",
      "Errors in batch 4.\n",
      "Errors in batch 5.\n",
      "Errors in batch 6.\n",
      "Errors in batch 7.\n",
      "Errors in batch 8.\n",
      "Errors in batch 9.\n",
      "Errors in batch 10.\n",
      "Errors in batch 11.\n",
      "Errors in batch 12.\n",
      "Errors in batch 13.\n",
      "Errors in batch 14.\n",
      "Errors in batch 15.\n",
      "Errors in batch 16.\n",
      "Errors in batch 17.\n",
      "Errors in batch 18.\n",
      "Errors in batch 19.\n",
      "Errors in batch 20.\n",
      "Errors in batch 21.\n",
      "Errors in batch 22.\n",
      "Errors in batch 23.\n",
      "Errors in batch 24.\n",
      "Errors in batch 25.\n",
      "There were errors posting the following (25) bodies: [{'parameters': [{'parameter_type_id': '6b0b49be-af5a-48c4-8e6b-e483ba9698fe', 'project_id': '3286cc10-921a-42f4-92d0-2e8d0f4cd79f', 'revision': {'source_id': 'f4f3511c-9497-4100-88b3-edaeb3ecb1a2', 'comment': 'Python Upload', 'location_in_source': 'Python', 'values': [{'value': 3.0, 'unit_id': None}]}, 'parent_ids': '845ff6d7-7311-4a30-a09f-be472b391572'}, {'parameter_type_id': 'cc4ec4a5-7f10-4088-9665-21ef82524d16', 'project_id': '3286cc10-921a-42f4-92d0-2e8d0f4cd79f', 'revision': {'source_id': 'a11a3d6e-e44e-4e47-bb7d-f3214df6c563', 'comment': 'Python Upload', 'location_in_source': 'Python', 'values': [{'value': 20.0, 'unit_id': '1c71167f-f2a9-4ffa-8316-7c96b3081ce0'}]}, 'parent_ids': 'ebee4193-4faf-4262-81bc-f2628453d103'}, {'parameter_type_id': '108a7f0e-e24e-43ce-b377-eb5840340bee', 'project_id': '3286cc10-921a-42f4-92d0-2e8d0f4cd79f', 'revision': {'source_id': '54348290-bb65-4a2b-a96b-87448717bfaa', 'comment': 'Python Upload', 'location_in_source': 'Python', 'values': [{'value': 0.7, 'unit_id': None}]}, 'parent_ids': 'ebee4193-4faf-4262-81bc-f2628453d103'}, {'parameter_type_id': 'a381ff95-cf01-4471-9288-24d73e7cd833', 'project_id': '3286cc10-921a-42f4-92d0-2e8d0f4cd79f', 'revision': {'source_id': '46cc376a-fc29-48a5-8c5f-9a401ac2fbb9', 'comment': 'Python Upload', 'location_in_source': 'Python', 'values': [{'value': 82.0, 'unit_id': '03252527-2667-4a4a-8f2f-c124233b6847'}]}, 'parent_ids': 'ebee4193-4faf-4262-81bc-f2628453d103'}]}, {'parameters': [{'parameter_type_id': 'ab4c2116-b9d0-42f9-89bc-e0db5727e64f', 'project_id': '3286cc10-921a-42f4-92d0-2e8d0f4cd79f', 'revision': {'source_id': '159622e7-f1d0-49db-8d72-c8d8cd132733', 'comment': 'Python Upload', 'location_in_source': 'Python', 'values': [{'value': 925.0, 'unit_id': '093e2d3f-f693-4dc1-9333-b93826600bb0'}]}, 'parent_ids': 'ebee4193-4faf-4262-81bc-f2628453d103'}, {'parameter_type_id': '51bca92b-fb0d-439a-8b5d-200e6e61f3de', 'project_id': '3286cc10-921a-42f4-92d0-2e8d0f4cd79f', 'revision': {'source_id': '159622e7-f1d0-49db-8d72-c8d8cd132733', 'comment': 'Python Upload', 'location_in_source': 'Python', 'values': [{'value': 18500.0, 'unit_id': '3c934d99-46ea-453b-9fe7-a0ea95cc19fc'}]}, 'parent_ids': 'ebee4193-4faf-4262-81bc-f2628453d103'}, {'parameter_type_id': '47caf59d-beeb-4130-86fd-731822ffb81c', 'project_id': '3286cc10-921a-42f4-92d0-2e8d0f4cd79f', 'revision': {'source_id': 'ff7c9adf-714f-4906-aa91-4b5b96f49223', 'comment': 'Python Upload', 'location_in_source': 'Python', 'values': [{'value': 4.65, 'unit_id': '093e2d3f-f693-4dc1-9333-b93826600bb0'}]}, 'parent_ids': 'ebee4193-4faf-4262-81bc-f2628453d103'}, {'parameter_type_id': '13c49b13-a566-45ec-8f9d-a17fb7ea5a2c', 'project_id': '3286cc10-921a-42f4-92d0-2e8d0f4cd79f', 'revision': {'source_id': 'ff7c9adf-714f-4906-aa91-4b5b96f49223', 'comment': 'Python Upload', 'location_in_source': 'Python', 'values': [{'value': 93.0, 'unit_id': '3c934d99-46ea-453b-9fe7-a0ea95cc19fc'}]}, 'parent_ids': 'ebee4193-4faf-4262-81bc-f2628453d103'}]}, {'parameters': [{'parameter_type_id': '6680ebe9-02b4-4bc0-ac36-b647770dddae', 'project_id': '3286cc10-921a-42f4-92d0-2e8d0f4cd79f', 'revision': {'source_id': '3ce0966a-0cc0-4255-9b15-31c070a69897', 'comment': 'Python Upload', 'location_in_source': 'Python', 'values': [{'value': 0.1112, 'unit_id': '38bcfaf2-0ed3-4581-8067-21a28ba415fc'}]}, 'parent_ids': 'ebee4193-4faf-4262-81bc-f2628453d103'}, {'parameter_type_id': '1f5998b8-b7e7-4c56-a9a4-9ca5be9a388f', 'project_id': '3286cc10-921a-42f4-92d0-2e8d0f4cd79f', 'revision': {'source_id': '3ce0966a-0cc0-4255-9b15-31c070a69897', 'comment': 'Python Upload', 'location_in_source': 'Python', 'values': [{'value': 20.0, 'unit_id': '8502c4c4-bedd-46dd-84ec-182eabb0b1be'}]}, 'parent_ids': 'ebee4193-4faf-4262-81bc-f2628453d103'}, {'parameter_type_id': '5884b811-22de-41e9-9fd9-67aae9fc459c', 'project_id': '3286cc10-921a-42f4-92d0-2e8d0f4cd79f', 'revision': {'source_id': '48c512da-7736-4447-858a-e2fa905910b9', 'comment': 'Python Upload', 'location_in_source': 'Python', 'values': [{'value': 8539.11, 'unit_id': 'bca3947e-b4ac-4a1c-af1d-442dd0b87873'}]}, 'parent_ids': 'ebee4193-4faf-4262-81bc-f2628453d103'}, {'parameter_type_id': '9a3466f9-fb12-425e-a43c-2e40f13230f5', 'project_id': '3286cc10-921a-42f4-92d0-2e8d0f4cd79f', 'revision': {'source_id': '04d09dae-aad1-4a84-97d3-eda4cdc45d65', 'comment': 'Python Upload', 'location_in_source': 'Python', 'values': [{'value': 1.0, 'unit_id': '8324f385-e0aa-46af-8fd8-6d41184b74e7'}]}, 'parent_ids': 'ebee4193-4faf-4262-81bc-f2628453d103'}]}, {'parameters': [{'parameter_type_id': 'f616e3d0-7e66-4e32-88ca-ca49524ca5c2', 'project_id': '3286cc10-921a-42f4-92d0-2e8d0f4cd79f', 'revision': {'source_id': 'd12fcb7d-4609-48b4-9ec4-4b849208ea3b', 'comment': 'Python Upload', 'location_in_source': 'Python', 'values': [{'value': 0.05, 'unit_id': '8502c4c4-bedd-46dd-84ec-182eabb0b1be'}]}, 'parent_ids': 'ebee4193-4faf-4262-81bc-f2628453d103'}, {'parameter_type_id': '5be0ab7d-a040-4aaf-9f3f-bffe65503a1d', 'project_id': '3286cc10-921a-42f4-92d0-2e8d0f4cd79f', 'revision': {'source_id': '456cb522-1b83-4b5d-b0be-9541b7aabaf8', 'comment': 'Python Upload', 'location_in_source': 'Python', 'values': [{'value': -405552.0, 'unit_id': '3c934d99-46ea-453b-9fe7-a0ea95cc19fc'}]}, 'parent_ids': 'ebee4193-4faf-4262-81bc-f2628453d103'}, {'parameter_type_id': '6492da43-1a5c-4be3-8252-93648f63b750', 'project_id': '3286cc10-921a-42f4-92d0-2e8d0f4cd79f', 'revision': {'source_id': 'b0121639-3db7-4ef0-a126-2b744bb9d6db', 'comment': 'Python Upload', 'location_in_source': 'Python', 'values': [{'value': 0.0, 'unit_id': None}]}, 'parent_ids': 'ebee4193-4faf-4262-81bc-f2628453d103'}, {'parameter_type_id': 'c043a281-05ec-4a97-bdd2-abe115833364', 'project_id': '3286cc10-921a-42f4-92d0-2e8d0f4cd79f', 'revision': {'source_id': 'abfee086-49e1-42fe-8fe0-06c34a5b5f8b', 'comment': 'Python Upload', 'location_in_source': 'Python', 'values': [{'value': 909.0, 'unit_id': '1c71167f-f2a9-4ffa-8316-7c96b3081ce0'}]}, 'parent_ids': 'dc346d7e-797d-4868-b69e-1699454a652a'}]}, {'parameters': [{'parameter_type_id': '029fb0d8-24c3-41dd-b55d-4636fa5b702a', 'project_id': '3286cc10-921a-42f4-92d0-2e8d0f4cd79f', 'revision': {'source_id': '5bde577e-f7a2-47fb-b69a-0dcaf89ef019', 'comment': 'Python Upload', 'location_in_source': 'Python', 'values': [{'value': 0.74, 'unit_id': None}]}, 'parent_ids': 'dc346d7e-797d-4868-b69e-1699454a652a'}, {'parameter_type_id': '90443b72-d852-4b8b-ba07-1dd463cd5c99', 'project_id': '3286cc10-921a-42f4-92d0-2e8d0f4cd79f', 'revision': {'source_id': '3f1bd03a-5a0e-449f-a1d1-68d3f928259b', 'comment': 'Python Upload', 'location_in_source': 'Python', 'values': [{'value': 7.0, 'unit_id': '1c71167f-f2a9-4ffa-8316-7c96b3081ce0'}]}, 'parent_ids': 'dc346d7e-797d-4868-b69e-1699454a652a'}, {'parameter_type_id': 'ab4c2116-b9d0-42f9-89bc-e0db5727e64f', 'project_id': '3286cc10-921a-42f4-92d0-2e8d0f4cd79f', 'revision': {'source_id': 'd9cbff2f-6ccb-4059-8170-2089710796d8', 'comment': 'Python Upload', 'location_in_source': 'Python', 'values': [{'value': 225.0, 'unit_id': '093e2d3f-f693-4dc1-9333-b93826600bb0'}]}, 'parent_ids': 'dc346d7e-797d-4868-b69e-1699454a652a'}, {'parameter_type_id': '51bca92b-fb0d-439a-8b5d-200e6e61f3de', 'project_id': '3286cc10-921a-42f4-92d0-2e8d0f4cd79f', 'revision': {'source_id': 'd9cbff2f-6ccb-4059-8170-2089710796d8', 'comment': 'Python Upload', 'location_in_source': 'Python', 'values': [{'value': 204525.0, 'unit_id': '3c934d99-46ea-453b-9fe7-a0ea95cc19fc'}]}, 'parent_ids': 'dc346d7e-797d-4868-b69e-1699454a652a'}]}, {'parameters': [{'parameter_type_id': '13c49b13-a566-45ec-8f9d-a17fb7ea5a2c', 'project_id': '3286cc10-921a-42f4-92d0-2e8d0f4cd79f', 'revision': {'source_id': '3f1bd03a-5a0e-449f-a1d1-68d3f928259b', 'comment': 'Python Upload', 'location_in_source': 'Python', 'values': [{'value': 690.15, 'unit_id': '3c934d99-46ea-453b-9fe7-a0ea95cc19fc'}]}, 'parent_ids': 'dc346d7e-797d-4868-b69e-1699454a652a'}, {'parameter_type_id': '646602e2-2c57-4381-891d-9251842485b3', 'project_id': '3286cc10-921a-42f4-92d0-2e8d0f4cd79f', 'revision': {'source_id': '3f1bd03a-5a0e-449f-a1d1-68d3f928259b', 'comment': 'Python Upload', 'location_in_source': 'Python', 'values': [{'value': 30.0, 'unit_id': None}]}, 'parent_ids': 'dc346d7e-797d-4868-b69e-1699454a652a'}, {'parameter_type_id': '81e240d9-dbec-4ebf-ae26-ad5c7676ba10', 'project_id': '3286cc10-921a-42f4-92d0-2e8d0f4cd79f', 'revision': {'source_id': 'e7d54b40-5c57-4ac7-911a-dcb4381f242e', 'comment': 'Python Upload', 'location_in_source': 'Python', 'values': [{'value': 130.0, 'unit_id': '2a029d23-0fcf-4170-93f0-285960937099'}]}, 'parent_ids': 'dc346d7e-797d-4868-b69e-1699454a652a'}, {'parameter_type_id': 'fdf7dbbf-1806-4c65-a358-5b6774204050', 'project_id': '3286cc10-921a-42f4-92d0-2e8d0f4cd79f', 'revision': {'source_id': '8ca23def-9d8c-4b1d-b587-11763345d2a4', 'comment': 'Python Upload', 'location_in_source': 'Python', 'values': [{'value': 115025.0, 'unit_id': 'bca3947e-b4ac-4a1c-af1d-442dd0b87873'}]}, 'parent_ids': 'dc346d7e-797d-4868-b69e-1699454a652a'}]}, {'parameters': [{'parameter_type_id': 'ee7e2fbd-dc80-488b-838e-c40a52507b1d', 'project_id': '3286cc10-921a-42f4-92d0-2e8d0f4cd79f', 'revision': {'source_id': '8ca23def-9d8c-4b1d-b587-11763345d2a4', 'comment': 'Python Upload', 'location_in_source': 'Python', 'values': [{'value': 15414.0, 'unit_id': '3c934d99-46ea-453b-9fe7-a0ea95cc19fc'}]}, 'parent_ids': 'dc346d7e-797d-4868-b69e-1699454a652a'}, {'parameter_type_id': 'f616e3d0-7e66-4e32-88ca-ca49524ca5c2', 'project_id': '3286cc10-921a-42f4-92d0-2e8d0f4cd79f', 'revision': {'source_id': '8ca23def-9d8c-4b1d-b587-11763345d2a4', 'comment': 'Python Upload', 'location_in_source': 'Python', 'values': [{'value': 13.27, 'unit_id': '8502c4c4-bedd-46dd-84ec-182eabb0b1be'}]}, 'parent_ids': 'dc346d7e-797d-4868-b69e-1699454a652a'}, {'parameter_type_id': '5be0ab7d-a040-4aaf-9f3f-bffe65503a1d', 'project_id': '3286cc10-921a-42f4-92d0-2e8d0f4cd79f', 'revision': {'source_id': '8ca23def-9d8c-4b1d-b587-11763345d2a4', 'comment': 'Python Upload', 'location_in_source': 'Python', 'values': [{'value': -352.0, 'unit_id': '3c934d99-46ea-453b-9fe7-a0ea95cc19fc'}]}, 'parent_ids': 'dc346d7e-797d-4868-b69e-1699454a652a'}, {'parameter_type_id': '6492da43-1a5c-4be3-8252-93648f63b750', 'project_id': '3286cc10-921a-42f4-92d0-2e8d0f4cd79f', 'revision': {'source_id': 'b0121639-3db7-4ef0-a126-2b744bb9d6db', 'comment': 'Python Upload', 'location_in_source': 'Python', 'values': [{'value': 1.0, 'unit_id': None}]}, 'parent_ids': 'dc346d7e-797d-4868-b69e-1699454a652a'}]}, {'parameters': [{'parameter_type_id': '6b0b49be-af5a-48c4-8e6b-e483ba9698fe', 'project_id': '3286cc10-921a-42f4-92d0-2e8d0f4cd79f', 'revision': {'source_id': '8f6aab87-e8e4-4ba0-8d41-9cc1d6767803', 'comment': 'Python Upload', 'location_in_source': 'Python', 'values': [{'value': 3, 'unit_id': None}]}, 'parent_ids': '9c36048d-1c7c-4376-aa0d-75091166c7ed'}, {'parameter_type_id': 'd50f1e21-25ef-414a-8417-babcc1284af5', 'project_id': '3286cc10-921a-42f4-92d0-2e8d0f4cd79f', 'revision': {'source_id': '63096284-e78e-4364-b65d-a3fa67c72304', 'comment': 'Python Upload', 'location_in_source': 'Python', 'values': [{'value': 'Vertical - Open Loop', 'unit_id': None}]}, 'parent_ids': '9c36048d-1c7c-4376-aa0d-75091166c7ed'}, {'parameter_type_id': '17d19f88-b493-4c4c-9283-eb4dc5688208', 'project_id': '3286cc10-921a-42f4-92d0-2e8d0f4cd79f', 'revision': {'source_id': '63096284-e78e-4364-b65d-a3fa67c72304', 'comment': 'Python Upload', 'location_in_source': 'Python', 'values': [{'value': 80, 'unit_id': '03252527-2667-4a4a-8f2f-c124233b6847'}]}, 'parent_ids': '9c36048d-1c7c-4376-aa0d-75091166c7ed'}, {'parameter_type_id': '76f564d9-0536-40ad-b42b-e70ae7858dd9', 'project_id': '3286cc10-921a-42f4-92d0-2e8d0f4cd79f', 'revision': {'source_id': '63096284-e78e-4364-b65d-a3fa67c72304', 'comment': 'Python Upload', 'location_in_source': 'Python', 'values': [{'value': 0, 'unit_id': '03252527-2667-4a4a-8f2f-c124233b6847'}]}, 'parent_ids': '9c36048d-1c7c-4376-aa0d-75091166c7ed'}]}, {'parameters': [{'parameter_type_id': '1440b16b-aee8-4e7c-94ac-c02d399a4bc3', 'project_id': '3286cc10-921a-42f4-92d0-2e8d0f4cd79f', 'revision': {'source_id': '63096284-e78e-4364-b65d-a3fa67c72304', 'comment': 'Python Upload', 'location_in_source': 'Python', 'values': [{'value': 0, 'unit_id': '03252527-2667-4a4a-8f2f-c124233b6847'}]}, 'parent_ids': '9c36048d-1c7c-4376-aa0d-75091166c7ed'}, {'parameter_type_id': '2cb48703-cfd4-42f3-ac16-f3bc19406a43', 'project_id': '3286cc10-921a-42f4-92d0-2e8d0f4cd79f', 'revision': {'source_id': '098d37ff-cd81-4e97-a20e-48a1a351cb5f', 'comment': 'Python Upload', 'location_in_source': 'Python', 'values': [{'value': 1116, 'unit_id': '2a029d23-0fcf-4170-93f0-285960937099'}]}, 'parent_ids': '9c36048d-1c7c-4376-aa0d-75091166c7ed'}, {'parameter_type_id': '5b53804d-b9c4-4cbb-86a6-2e27f282b1bd', 'project_id': '3286cc10-921a-42f4-92d0-2e8d0f4cd79f', 'revision': {'source_id': '63096284-e78e-4364-b65d-a3fa67c72304', 'comment': 'Python Upload', 'location_in_source': 'Python', 'values': [{'value': '3 x 400kW(thermal) pumps and Vertical - Open Loop', 'unit_id': None}]}, 'parent_ids': '9c36048d-1c7c-4376-aa0d-75091166c7ed'}, {'parameter_type_id': '0bf96edc-7f60-4c28-8ed6-a2a644fed9e7', 'project_id': '3286cc10-921a-42f4-92d0-2e8d0f4cd79f', 'revision': {'source_id': 'fb977e7e-5ec3-4afe-a2ee-b3c7c02f2b6b', 'comment': 'Python Upload', 'location_in_source': 'Python', 'values': [{'value': 2182500, 'unit_id': '3c934d99-46ea-453b-9fe7-a0ea95cc19fc'}]}, 'parent_ids': '9c36048d-1c7c-4376-aa0d-75091166c7ed'}]}, {'parameters': [{'parameter_type_id': '51bca92b-fb0d-439a-8b5d-200e6e61f3de', 'project_id': '3286cc10-921a-42f4-92d0-2e8d0f4cd79f', 'revision': {'source_id': 'fb977e7e-5ec3-4afe-a2ee-b3c7c02f2b6b', 'comment': 'Python Upload', 'location_in_source': 'Python', 'values': [{'value': 2254500, 'unit_id': '3c934d99-46ea-453b-9fe7-a0ea95cc19fc'}]}, 'parent_ids': '9c36048d-1c7c-4376-aa0d-75091166c7ed'}, {'parameter_type_id': '13c49b13-a566-45ec-8f9d-a17fb7ea5a2c', 'project_id': '3286cc10-921a-42f4-92d0-2e8d0f4cd79f', 'revision': {'source_id': 'd47f971e-36fa-4d2d-81a3-1d9cd61b5f63', 'comment': 'Python Upload', 'location_in_source': 'Python', 'values': [{'value': 1000, 'unit_id': '3c934d99-46ea-453b-9fe7-a0ea95cc19fc'}]}, 'parent_ids': '9c36048d-1c7c-4376-aa0d-75091166c7ed'}, {'parameter_type_id': '646602e2-2c57-4381-891d-9251842485b3', 'project_id': '3286cc10-921a-42f4-92d0-2e8d0f4cd79f', 'revision': {'source_id': 'd47f971e-36fa-4d2d-81a3-1d9cd61b5f63', 'comment': 'Python Upload', 'location_in_source': 'Python', 'values': [{'value': 100, 'unit_id': None}]}, 'parent_ids': '9c36048d-1c7c-4376-aa0d-75091166c7ed'}, {'parameter_type_id': '346aba71-b837-4997-b691-71ff78925210', 'project_id': '3286cc10-921a-42f4-92d0-2e8d0f4cd79f', 'revision': {'source_id': '469a5d59-f43a-4c02-bf0f-bc23e9f3b3d9', 'comment': 'Python Upload', 'location_in_source': 'Python', 'values': [{'value': 0.0446, 'unit_id': '38bcfaf2-0ed3-4581-8067-21a28ba415fc'}]}, 'parent_ids': '9c36048d-1c7c-4376-aa0d-75091166c7ed'}]}, {'parameters': [{'parameter_type_id': '875eeb20-9fe8-4b2d-9f74-90de08274faa', 'project_id': '3286cc10-921a-42f4-92d0-2e8d0f4cd79f', 'revision': {'source_id': 'a3d8f074-e375-4027-96a2-3aedb2edafee', 'comment': 'Python Upload', 'location_in_source': 'Python', 'values': [{'value': 400000, 'unit_id': 'bca3947e-b4ac-4a1c-af1d-442dd0b87873'}]}, 'parent_ids': '9c36048d-1c7c-4376-aa0d-75091166c7ed'}, {'parameter_type_id': '7df8d6cd-888e-4cbd-beb5-535512adeeb9', 'project_id': '3286cc10-921a-42f4-92d0-2e8d0f4cd79f', 'revision': {'source_id': 'b7e5594a-d3e7-41c5-9833-620b5966a89f', 'comment': 'Python Upload', 'location_in_source': 'Python', 'values': [{'value': 2901496, 'unit_id': 'bca3947e-b4ac-4a1c-af1d-442dd0b87873'}]}, 'parent_ids': '9c36048d-1c7c-4376-aa0d-75091166c7ed'}, {'parameter_type_id': '9a3466f9-fb12-425e-a43c-2e40f13230f5', 'project_id': '3286cc10-921a-42f4-92d0-2e8d0f4cd79f', 'revision': {'source_id': 'aaeca1d1-c88e-46ab-9781-aaea0caea4d6', 'comment': 'Python Upload', 'location_in_source': 'Python', 'values': [{'value': 471.56, 'unit_id': '8324f385-e0aa-46af-8fd8-6d41184b74e7'}]}, 'parent_ids': '9c36048d-1c7c-4376-aa0d-75091166c7ed'}, {'parameter_type_id': 'ee7e2fbd-dc80-488b-838e-c40a52507b1d', 'project_id': '3286cc10-921a-42f4-92d0-2e8d0f4cd79f', 'revision': {'source_id': '12e5ce48-e70d-4087-b5fe-2266fe45e088', 'comment': 'Python Upload', 'location_in_source': 'Python', 'values': [{'value': 175444, 'unit_id': '3c934d99-46ea-453b-9fe7-a0ea95cc19fc'}]}, 'parent_ids': '9c36048d-1c7c-4376-aa0d-75091166c7ed'}]}, {'parameters': [{'parameter_type_id': '5be0ab7d-a040-4aaf-9f3f-bffe65503a1d', 'project_id': '3286cc10-921a-42f4-92d0-2e8d0f4cd79f', 'revision': {'source_id': '12e5ce48-e70d-4087-b5fe-2266fe45e088', 'comment': 'Python Upload', 'location_in_source': 'Python', 'values': [{'value': -134, 'unit_id': '3c934d99-46ea-453b-9fe7-a0ea95cc19fc'}]}, 'parent_ids': '9c36048d-1c7c-4376-aa0d-75091166c7ed'}, {'parameter_type_id': '6492da43-1a5c-4be3-8252-93648f63b750', 'project_id': '3286cc10-921a-42f4-92d0-2e8d0f4cd79f', 'revision': {'source_id': 'b0121639-3db7-4ef0-a126-2b744bb9d6db', 'comment': 'Python Upload', 'location_in_source': 'Python', 'values': [{'value': 0, 'unit_id': None}]}, 'parent_ids': '9c36048d-1c7c-4376-aa0d-75091166c7ed'}, {'parameter_type_id': 'ae6f042b-8a0f-43fc-b61b-2fa6c5af0e73', 'project_id': '3286cc10-921a-42f4-92d0-2e8d0f4cd79f', 'revision': {'source_id': '9d381a76-5cc8-4be6-984a-ab0ca0ab8e80', 'comment': 'Python Upload', 'location_in_source': 'Python', 'values': [{'value': 3, 'unit_id': None}]}, 'parent_ids': '92641c5f-a662-4d36-a26c-24d31a3fa826'}, {'parameter_type_id': '6b0b49be-af5a-48c4-8e6b-e483ba9698fe', 'project_id': '3286cc10-921a-42f4-92d0-2e8d0f4cd79f', 'revision': {'source_id': 'f1aee4ed-a0b9-4d90-9697-8dd3632d3b8d', 'comment': 'Python Upload', 'location_in_source': 'Python', 'values': [{'value': 2, 'unit_id': None}]}, 'parent_ids': '92641c5f-a662-4d36-a26c-24d31a3fa826'}]}, {'parameters': [{'parameter_type_id': '76f564d9-0536-40ad-b42b-e70ae7858dd9', 'project_id': '3286cc10-921a-42f4-92d0-2e8d0f4cd79f', 'revision': {'source_id': '63096284-e78e-4364-b65d-a3fa67c72304', 'comment': 'Python Upload', 'location_in_source': 'Python', 'values': [{'value': 0, 'unit_id': '03252527-2667-4a4a-8f2f-c124233b6847'}]}, 'parent_ids': '92641c5f-a662-4d36-a26c-24d31a3fa826'}, {'parameter_type_id': 'ecf55df4-dc60-468c-a8f7-a9972806865d', 'project_id': '3286cc10-921a-42f4-92d0-2e8d0f4cd79f', 'revision': {'source_id': '63096284-e78e-4364-b65d-a3fa67c72304', 'comment': 'Python Upload', 'location_in_source': 'Python', 'values': [{'value': 100, 'unit_id': '03252527-2667-4a4a-8f2f-c124233b6847'}]}, 'parent_ids': '92641c5f-a662-4d36-a26c-24d31a3fa826'}, {'parameter_type_id': '1440b16b-aee8-4e7c-94ac-c02d399a4bc3', 'project_id': '3286cc10-921a-42f4-92d0-2e8d0f4cd79f', 'revision': {'source_id': '63096284-e78e-4364-b65d-a3fa67c72304', 'comment': 'Python Upload', 'location_in_source': 'Python', 'values': [{'value': 0, 'unit_id': '03252527-2667-4a4a-8f2f-c124233b6847'}]}, 'parent_ids': '92641c5f-a662-4d36-a26c-24d31a3fa826'}, {'parameter_type_id': '2cb48703-cfd4-42f3-ac16-f3bc19406a43', 'project_id': '3286cc10-921a-42f4-92d0-2e8d0f4cd79f', 'revision': {'source_id': '4a8e6ab7-0142-4779-9bb6-54283047a886', 'comment': 'Python Upload', 'location_in_source': 'Python', 'values': [{'value': 1116, 'unit_id': '2a029d23-0fcf-4170-93f0-285960937099'}]}, 'parent_ids': '92641c5f-a662-4d36-a26c-24d31a3fa826'}]}, {'parameters': [{'parameter_type_id': '51bca92b-fb0d-439a-8b5d-200e6e61f3de', 'project_id': '3286cc10-921a-42f4-92d0-2e8d0f4cd79f', 'revision': {'source_id': 'a45df8dd-ca34-4820-857b-ef82c20a537b', 'comment': 'Python Upload', 'location_in_source': 'Python', 'values': [{'value': 279000, 'unit_id': '3c934d99-46ea-453b-9fe7-a0ea95cc19fc'}]}, 'parent_ids': '92641c5f-a662-4d36-a26c-24d31a3fa826'}, {'parameter_type_id': '13c49b13-a566-45ec-8f9d-a17fb7ea5a2c', 'project_id': '3286cc10-921a-42f4-92d0-2e8d0f4cd79f', 'revision': {'source_id': 'ff7c9adf-714f-4906-aa91-4b5b96f49223', 'comment': 'Python Upload', 'location_in_source': 'Python', 'values': [{'value': 350, 'unit_id': '3c934d99-46ea-453b-9fe7-a0ea95cc19fc'}]}, 'parent_ids': '92641c5f-a662-4d36-a26c-24d31a3fa826'}, {'parameter_type_id': '646602e2-2c57-4381-891d-9251842485b3', 'project_id': '3286cc10-921a-42f4-92d0-2e8d0f4cd79f', 'revision': {'source_id': 'ff7c9adf-714f-4906-aa91-4b5b96f49223', 'comment': 'Python Upload', 'location_in_source': 'Python', 'values': [{'value': 30, 'unit_id': None}]}, 'parent_ids': '92641c5f-a662-4d36-a26c-24d31a3fa826'}, {'parameter_type_id': '6680ebe9-02b4-4bc0-ac36-b647770dddae', 'project_id': '3286cc10-921a-42f4-92d0-2e8d0f4cd79f', 'revision': {'source_id': '3ce0966a-0cc0-4255-9b15-31c070a69897', 'comment': 'Python Upload', 'location_in_source': 'Python', 'values': [{'value': 0.0279, 'unit_id': '38bcfaf2-0ed3-4581-8067-21a28ba415fc'}]}, 'parent_ids': '92641c5f-a662-4d36-a26c-24d31a3fa826'}]}, {'parameters': [{'parameter_type_id': '424beeff-12bc-43e2-a2c5-61743313c7e0', 'project_id': '3286cc10-921a-42f4-92d0-2e8d0f4cd79f', 'revision': {'source_id': '8ba4d328-bc88-4a3a-aefe-86ae0ef93928', 'comment': 'Python Upload', 'location_in_source': 'Python', 'values': [{'value': 0, 'unit_id': 'bca3947e-b4ac-4a1c-af1d-442dd0b87873'}]}, 'parent_ids': '92641c5f-a662-4d36-a26c-24d31a3fa826'}, {'parameter_type_id': '9a3466f9-fb12-425e-a43c-2e40f13230f5', 'project_id': '3286cc10-921a-42f4-92d0-2e8d0f4cd79f', 'revision': {'source_id': '5cd6bf8f-0a76-4db7-bb1c-c3acee5e98f1', 'comment': 'Python Upload', 'location_in_source': 'Python', 'values': [{'value': 471.56, 'unit_id': '8324f385-e0aa-46af-8fd8-6d41184b74e7'}]}, 'parent_ids': '92641c5f-a662-4d36-a26c-24d31a3fa826'}, {'parameter_type_id': 'ee7e2fbd-dc80-488b-838e-c40a52507b1d', 'project_id': '3286cc10-921a-42f4-92d0-2e8d0f4cd79f', 'revision': {'source_id': '5cd6bf8f-0a76-4db7-bb1c-c3acee5e98f1', 'comment': 'Python Upload', 'location_in_source': 'Python', 'values': [{'value': 31577, 'unit_id': '3c934d99-46ea-453b-9fe7-a0ea95cc19fc'}]}, 'parent_ids': '92641c5f-a662-4d36-a26c-24d31a3fa826'}, {'parameter_type_id': 'f616e3d0-7e66-4e32-88ca-ca49524ca5c2', 'project_id': '3286cc10-921a-42f4-92d0-2e8d0f4cd79f', 'revision': {'source_id': '5cd6bf8f-0a76-4db7-bb1c-c3acee5e98f1', 'comment': 'Python Upload', 'location_in_source': 'Python', 'values': [{'value': 9, 'unit_id': '8502c4c4-bedd-46dd-84ec-182eabb0b1be'}]}, 'parent_ids': '92641c5f-a662-4d36-a26c-24d31a3fa826'}]}, {'parameters': [{'parameter_type_id': '6492da43-1a5c-4be3-8252-93648f63b750', 'project_id': '3286cc10-921a-42f4-92d0-2e8d0f4cd79f', 'revision': {'source_id': 'b0121639-3db7-4ef0-a126-2b744bb9d6db', 'comment': 'Python Upload', 'location_in_source': 'Python', 'values': [{'value': True, 'unit_id': None}]}, 'parent_ids': '92641c5f-a662-4d36-a26c-24d31a3fa826'}, {'parameter_type_id': '394f0f47-b4a4-4d00-a19c-a15019688f6f', 'project_id': '3286cc10-921a-42f4-92d0-2e8d0f4cd79f', 'revision': {'source_id': '63096284-e78e-4364-b65d-a3fa67c72304', 'comment': 'Python Upload', 'location_in_source': 'Python', 'values': [{'value': 'Wood Pellets', 'unit_id': None}]}, 'parent_ids': '01900343-d4ba-490f-86f7-d60878e3f32b'}, {'parameter_type_id': 'd47417e2-09f1-49d9-b600-375952417896', 'project_id': '3286cc10-921a-42f4-92d0-2e8d0f4cd79f', 'revision': {'source_id': 'aad21330-d698-4ca5-9bcb-0e112642f7f3', 'comment': 'Python Upload', 'location_in_source': 'Python', 'values': [{'value': 0.025, 'unit_id': '58571e6f-3d93-496b-95e6-d038f62d35ff'}]}, 'parent_ids': '01900343-d4ba-490f-86f7-d60878e3f32b'}, {'parameter_type_id': '11fca00b-ed93-48a6-8a53-04647ea272fc', 'project_id': '3286cc10-921a-42f4-92d0-2e8d0f4cd79f', 'revision': {'source_id': '1bd9c9c4-8384-499c-8c27-419f91ff88ea', 'comment': 'Python Upload', 'location_in_source': 'Python', 'values': [{'value': 87, 'unit_id': '03252527-2667-4a4a-8f2f-c124233b6847'}]}, 'parent_ids': '01900343-d4ba-490f-86f7-d60878e3f32b'}]}, {'parameters': [{'parameter_type_id': 'ecf55df4-dc60-468c-a8f7-a9972806865d', 'project_id': '3286cc10-921a-42f4-92d0-2e8d0f4cd79f', 'revision': {'source_id': '63096284-e78e-4364-b65d-a3fa67c72304', 'comment': 'Python Upload', 'location_in_source': 'Python', 'values': [{'value': 100, 'unit_id': '03252527-2667-4a4a-8f2f-c124233b6847'}]}, 'parent_ids': '01900343-d4ba-490f-86f7-d60878e3f32b'}, {'parameter_type_id': '2cb48703-cfd4-42f3-ac16-f3bc19406a43', 'project_id': '3286cc10-921a-42f4-92d0-2e8d0f4cd79f', 'revision': {'source_id': '022fae01-3478-4325-8bff-9dcfd1cf9f29', 'comment': 'Python Upload', 'location_in_source': 'Python', 'values': [{'value': 418.5, 'unit_id': '2a029d23-0fcf-4170-93f0-285960937099'}]}, 'parent_ids': '01900343-d4ba-490f-86f7-d60878e3f32b'}, {'parameter_type_id': '72fec946-9c96-48d0-81af-05f638dd3c7e', 'project_id': '3286cc10-921a-42f4-92d0-2e8d0f4cd79f', 'revision': {'source_id': 'aad21330-d698-4ca5-9bcb-0e112642f7f3', 'comment': 'Python Upload', 'location_in_source': 'Python', 'values': [{'value': 235, 'unit_id': '1215796c-e7a3-409d-84a3-7053fa6eba56'}]}, 'parent_ids': '01900343-d4ba-490f-86f7-d60878e3f32b'}, {'parameter_type_id': 'f602af0d-0b5b-4c72-a724-1729b64ea4a0', 'project_id': '3286cc10-921a-42f4-92d0-2e8d0f4cd79f', 'revision': {'source_id': 'a213c398-52c5-46a2-9b2e-ced197a04c65', 'comment': 'Python Upload', 'location_in_source': 'Python', 'values': [{'value': 4800, 'unit_id': '18481bdc-3347-46d9-a119-ae6a01de709a'}]}, 'parent_ids': '01900343-d4ba-490f-86f7-d60878e3f32b'}]}, {'parameters': [{'parameter_type_id': '51bca92b-fb0d-439a-8b5d-200e6e61f3de', 'project_id': '3286cc10-921a-42f4-92d0-2e8d0f4cd79f', 'revision': {'source_id': '1e267c87-6fc7-4534-a989-158d458fde87', 'comment': 'Python Upload', 'location_in_source': 'Python', 'values': [{'value': 186232.5, 'unit_id': '3c934d99-46ea-453b-9fe7-a0ea95cc19fc'}]}, 'parent_ids': '01900343-d4ba-490f-86f7-d60878e3f32b'}, {'parameter_type_id': '9eab70a5-3e03-4e18-9940-8be4b4b7d52f', 'project_id': '3286cc10-921a-42f4-92d0-2e8d0f4cd79f', 'revision': {'source_id': '1e267c87-6fc7-4534-a989-158d458fde87', 'comment': 'Python Upload', 'location_in_source': 'Python', 'values': [{'value': 2, 'unit_id': '03252527-2667-4a4a-8f2f-c124233b6847'}]}, 'parent_ids': '01900343-d4ba-490f-86f7-d60878e3f32b'}, {'parameter_type_id': '646602e2-2c57-4381-891d-9251842485b3', 'project_id': '3286cc10-921a-42f4-92d0-2e8d0f4cd79f', 'revision': {'source_id': '1e267c87-6fc7-4534-a989-158d458fde87', 'comment': 'Python Upload', 'location_in_source': 'Python', 'values': [{'value': 30, 'unit_id': None}]}, 'parent_ids': '01900343-d4ba-490f-86f7-d60878e3f32b'}, {'parameter_type_id': '346aba71-b837-4997-b691-71ff78925210', 'project_id': '3286cc10-921a-42f4-92d0-2e8d0f4cd79f', 'revision': {'source_id': '769af214-b5a6-470b-992e-1b9815807c86', 'comment': 'Python Upload', 'location_in_source': 'Python', 'values': [{'value': 0.0315, 'unit_id': '38bcfaf2-0ed3-4581-8067-21a28ba415fc'}]}, 'parent_ids': '01900343-d4ba-490f-86f7-d60878e3f32b'}]}, {'parameters': [{'parameter_type_id': '875eeb20-9fe8-4b2d-9f74-90de08274faa', 'project_id': '3286cc10-921a-42f4-92d0-2e8d0f4cd79f', 'revision': {'source_id': '927f10cd-8f91-4bf8-9ef1-2ec1c3b564be', 'comment': 'Python Upload', 'location_in_source': 'Python', 'values': [{'value': 400000, 'unit_id': 'bca3947e-b4ac-4a1c-af1d-442dd0b87873'}]}, 'parent_ids': '01900343-d4ba-490f-86f7-d60878e3f32b'}, {'parameter_type_id': '7df8d6cd-888e-4cbd-beb5-535512adeeb9', 'project_id': '3286cc10-921a-42f4-92d0-2e8d0f4cd79f', 'revision': {'source_id': 'c25d6713-f28b-4712-913f-d4a257a44088', 'comment': 'Python Upload', 'location_in_source': 'Python', 'values': [{'value': 2901496, 'unit_id': 'bca3947e-b4ac-4a1c-af1d-442dd0b87873'}]}, 'parent_ids': '01900343-d4ba-490f-86f7-d60878e3f32b'}, {'parameter_type_id': '9a3466f9-fb12-425e-a43c-2e40f13230f5', 'project_id': '3286cc10-921a-42f4-92d0-2e8d0f4cd79f', 'revision': {'source_id': 'f7168653-5530-47c6-be7a-9cf190e8a9f7', 'comment': 'Python Upload', 'location_in_source': 'Python', 'values': [{'value': 593.54, 'unit_id': '8324f385-e0aa-46af-8fd8-6d41184b74e7'}]}, 'parent_ids': '01900343-d4ba-490f-86f7-d60878e3f32b'}, {'parameter_type_id': 'ee7e2fbd-dc80-488b-838e-c40a52507b1d', 'project_id': '3286cc10-921a-42f4-92d0-2e8d0f4cd79f', 'revision': {'source_id': '5cd6bf8f-0a76-4db7-bb1c-c3acee5e98f1', 'comment': 'Python Upload', 'location_in_source': 'Python', 'values': [{'value': -156792.3, 'unit_id': '3c934d99-46ea-453b-9fe7-a0ea95cc19fc'}]}, 'parent_ids': '01900343-d4ba-490f-86f7-d60878e3f32b'}]}, {'parameters': [{'parameter_type_id': '5be0ab7d-a040-4aaf-9f3f-bffe65503a1d', 'project_id': '3286cc10-921a-42f4-92d0-2e8d0f4cd79f', 'revision': {'source_id': '5cd6bf8f-0a76-4db7-bb1c-c3acee5e98f1', 'comment': 'Python Upload', 'location_in_source': 'Python', 'values': [{'value': 694.7, 'unit_id': '3c934d99-46ea-453b-9fe7-a0ea95cc19fc'}]}, 'parent_ids': '01900343-d4ba-490f-86f7-d60878e3f32b'}, {'parameter_type_id': '6492da43-1a5c-4be3-8252-93648f63b750', 'project_id': '3286cc10-921a-42f4-92d0-2e8d0f4cd79f', 'revision': {'source_id': 'b0121639-3db7-4ef0-a126-2b744bb9d6db', 'comment': 'Python Upload', 'location_in_source': 'Python', 'values': [{'value': False, 'unit_id': None}]}, 'parent_ids': '01900343-d4ba-490f-86f7-d60878e3f32b'}, {'parameter_type_id': '686cfda8-bf84-4d37-9ca5-fec01acd91de', 'project_id': '3286cc10-921a-42f4-92d0-2e8d0f4cd79f', 'revision': {'source_id': '63096284-e78e-4364-b65d-a3fa67c72304', 'comment': 'Python Upload', 'location_in_source': 'Python', 'values': [{'value': 1.1, 'unit_id': '8e97e911-4624-41b3-8775-4c3ca14076a9'}]}, 'parent_ids': '9564953f-fede-42c3-a3fd-5a395cb9d242'}, {'parameter_type_id': 'ed88200f-85c9-4e8e-82fe-2a26707e0d9b', 'project_id': '3286cc10-921a-42f4-92d0-2e8d0f4cd79f', 'revision': {'source_id': '66bda3f5-96a7-4109-ab16-5afd53eca9f1', 'comment': 'Python Upload', 'location_in_source': 'Python', 'values': [{'value': 59.0, 'unit_id': '03252527-2667-4a4a-8f2f-c124233b6847'}]}, 'parent_ids': '9564953f-fede-42c3-a3fd-5a395cb9d242'}]}, {'parameters': [{'parameter_type_id': 'efa483ab-d40f-48b7-b735-19cec47273bc', 'project_id': '3286cc10-921a-42f4-92d0-2e8d0f4cd79f', 'revision': {'source_id': '9a4f6d69-10f0-46bf-9fd4-8569ca899a59', 'comment': 'Python Upload', 'location_in_source': 'Python', 'values': [{'value': 0.57, 'unit_id': None}]}, 'parent_ids': '9564953f-fede-42c3-a3fd-5a395cb9d242'}, {'parameter_type_id': '2cb48703-cfd4-42f3-ac16-f3bc19406a43', 'project_id': '3286cc10-921a-42f4-92d0-2e8d0f4cd79f', 'revision': {'source_id': '47370fe5-57cc-4bd4-b766-a0a83e1b5e03', 'comment': 'Python Upload', 'location_in_source': 'Python', 'values': [{'value': 0.036000000000000004, 'unit_id': '2a029d23-0fcf-4170-93f0-285960937099'}]}, 'parent_ids': '9564953f-fede-42c3-a3fd-5a395cb9d242'}, {'parameter_type_id': '96c20918-74d7-48b6-aebf-1ff034cd1290', 'project_id': '3286cc10-921a-42f4-92d0-2e8d0f4cd79f', 'revision': {'source_id': '159622e7-f1d0-49db-8d72-c8d8cd132733', 'comment': 'Python Upload', 'location_in_source': 'Python', 'values': [{'value': 4500.0, 'unit_id': '78e8db5b-7cfe-48ef-8e63-a01de132db6c'}]}, 'parent_ids': '9564953f-fede-42c3-a3fd-5a395cb9d242'}, {'parameter_type_id': '51bca92b-fb0d-439a-8b5d-200e6e61f3de', 'project_id': '3286cc10-921a-42f4-92d0-2e8d0f4cd79f', 'revision': {'source_id': '159622e7-f1d0-49db-8d72-c8d8cd132733', 'comment': 'Python Upload', 'location_in_source': 'Python', 'values': [{'value': 162.0, 'unit_id': '3c934d99-46ea-453b-9fe7-a0ea95cc19fc'}]}, 'parent_ids': '9564953f-fede-42c3-a3fd-5a395cb9d242'}]}, {'parameters': [{'parameter_type_id': '646602e2-2c57-4381-891d-9251842485b3', 'project_id': '3286cc10-921a-42f4-92d0-2e8d0f4cd79f', 'revision': {'source_id': 'd9a35915-315c-45d6-a503-56673d880b73', 'comment': 'Python Upload', 'location_in_source': 'Python', 'values': [{'value': 30.0, 'unit_id': None}]}, 'parent_ids': '9564953f-fede-42c3-a3fd-5a395cb9d242'}, {'parameter_type_id': '9a3466f9-fb12-425e-a43c-2e40f13230f5', 'project_id': '3286cc10-921a-42f4-92d0-2e8d0f4cd79f', 'revision': {'source_id': '0250f981-1591-4ebc-8056-efa26566ce1c', 'comment': 'Python Upload', 'location_in_source': 'Python', 'values': [{'value': 0.02, 'unit_id': '8324f385-e0aa-46af-8fd8-6d41184b74e7'}]}, 'parent_ids': '9564953f-fede-42c3-a3fd-5a395cb9d242'}, {'parameter_type_id': 'ee7e2fbd-dc80-488b-838e-c40a52507b1d', 'project_id': '3286cc10-921a-42f4-92d0-2e8d0f4cd79f', 'revision': {'source_id': '0250f981-1591-4ebc-8056-efa26566ce1c', 'comment': 'Python Upload', 'location_in_source': 'Python', 'values': [{'value': -338.0, 'unit_id': '3c934d99-46ea-453b-9fe7-a0ea95cc19fc'}]}, 'parent_ids': '9564953f-fede-42c3-a3fd-5a395cb9d242'}, {'parameter_type_id': 'f616e3d0-7e66-4e32-88ca-ca49524ca5c2', 'project_id': '3286cc10-921a-42f4-92d0-2e8d0f4cd79f', 'revision': {'source_id': '0250f981-1591-4ebc-8056-efa26566ce1c', 'comment': 'Python Upload', 'location_in_source': 'Python', 'values': [{'value': -0.48, 'unit_id': '8502c4c4-bedd-46dd-84ec-182eabb0b1be'}]}, 'parent_ids': '9564953f-fede-42c3-a3fd-5a395cb9d242'}]}, {'parameters': [{'parameter_type_id': '6492da43-1a5c-4be3-8252-93648f63b750', 'project_id': '3286cc10-921a-42f4-92d0-2e8d0f4cd79f', 'revision': {'source_id': 'b0121639-3db7-4ef0-a126-2b744bb9d6db', 'comment': 'Python Upload', 'location_in_source': 'Python', 'values': [{'value': 0.0, 'unit_id': None}]}, 'parent_ids': '9564953f-fede-42c3-a3fd-5a395cb9d242'}, {'parameter_type_id': '1b5472ae-08a6-4918-b8b8-26e074b38e12', 'project_id': '3286cc10-921a-42f4-92d0-2e8d0f4cd79f', 'revision': {'source_id': '63096284-e78e-4364-b65d-a3fa67c72304', 'comment': 'Python Upload', 'location_in_source': 'Python', 'values': [{'value': 'RunOfRiver', 'unit_id': None}]}, 'parent_ids': '515f8948-2fa8-4fd0-b4b7-c028e9fc295b'}, {'parameter_type_id': '411d9876-21e7-468a-8810-428937d57286', 'project_id': '3286cc10-921a-42f4-92d0-2e8d0f4cd79f', 'revision': {'source_id': '63096284-e78e-4364-b65d-a3fa67c72304', 'comment': 'Python Upload', 'location_in_source': 'Python', 'values': [{'value': 1.2, 'unit_id': '8e97e911-4624-41b3-8775-4c3ca14076a9'}]}, 'parent_ids': '515f8948-2fa8-4fd0-b4b7-c028e9fc295b'}, {'parameter_type_id': '1558df13-f0f2-4e3b-84ff-a7bb1940db6a', 'project_id': '3286cc10-921a-42f4-92d0-2e8d0f4cd79f', 'revision': {'source_id': '63096284-e78e-4364-b65d-a3fa67c72304', 'comment': 'Python Upload', 'location_in_source': 'Python', 'values': [{'value': 0.1, 'unit_id': '1c71167f-f2a9-4ffa-8316-7c96b3081ce0'}]}, 'parent_ids': '515f8948-2fa8-4fd0-b4b7-c028e9fc295b'}]}, {'parameters': [{'parameter_type_id': '2cb48703-cfd4-42f3-ac16-f3bc19406a43', 'project_id': '3286cc10-921a-42f4-92d0-2e8d0f4cd79f', 'revision': {'source_id': 'b4d52e97-389d-476e-889d-055323893754', 'comment': 'Python Upload', 'location_in_source': 'Python', 'values': [{'value': 2.88, 'unit_id': '2a029d23-0fcf-4170-93f0-285960937099'}]}, 'parent_ids': '515f8948-2fa8-4fd0-b4b7-c028e9fc295b'}, {'parameter_type_id': '51bca92b-fb0d-439a-8b5d-200e6e61f3de', 'project_id': '3286cc10-921a-42f4-92d0-2e8d0f4cd79f', 'revision': {'source_id': 'd47f971e-36fa-4d2d-81a3-1d9cd61b5f63', 'comment': 'Python Upload', 'location_in_source': 'Python', 'values': [{'value': 6192, 'unit_id': '3c934d99-46ea-453b-9fe7-a0ea95cc19fc'}]}, 'parent_ids': '515f8948-2fa8-4fd0-b4b7-c028e9fc295b'}, {'parameter_type_id': '9eab70a5-3e03-4e18-9940-8be4b4b7d52f', 'project_id': '3286cc10-921a-42f4-92d0-2e8d0f4cd79f', 'revision': {'source_id': 'd47f971e-36fa-4d2d-81a3-1d9cd61b5f63', 'comment': 'Python Upload', 'location_in_source': 'Python', 'values': [{'value': 1.7, 'unit_id': '03252527-2667-4a4a-8f2f-c124233b6847'}]}, 'parent_ids': '515f8948-2fa8-4fd0-b4b7-c028e9fc295b'}, {'parameter_type_id': '13c49b13-a566-45ec-8f9d-a17fb7ea5a2c', 'project_id': '3286cc10-921a-42f4-92d0-2e8d0f4cd79f', 'revision': {'source_id': 'd47f971e-36fa-4d2d-81a3-1d9cd61b5f63', 'comment': 'Python Upload', 'location_in_source': 'Python', 'values': [{'value': 105.26400000000001, 'unit_id': '3c934d99-46ea-453b-9fe7-a0ea95cc19fc'}]}, 'parent_ids': '515f8948-2fa8-4fd0-b4b7-c028e9fc295b'}]}, {'parameters': [{'parameter_type_id': 'fdf7dbbf-1806-4c65-a358-5b6774204050', 'project_id': '3286cc10-921a-42f4-92d0-2e8d0f4cd79f', 'revision': {'source_id': 'b4d52e97-389d-476e-889d-055323893754', 'comment': 'Python Upload', 'location_in_source': 'Python', 'values': [{'value': 25228.8, 'unit_id': 'bca3947e-b4ac-4a1c-af1d-442dd0b87873'}]}, 'parent_ids': '515f8948-2fa8-4fd0-b4b7-c028e9fc295b'}, {'parameter_type_id': '9a3466f9-fb12-425e-a43c-2e40f13230f5', 'project_id': '3286cc10-921a-42f4-92d0-2e8d0f4cd79f', 'revision': {'source_id': '725a0501-cd37-43e2-92ac-9dcce19e3a69', 'comment': 'Python Upload', 'location_in_source': 'Python', 'values': [{'value': 5.359999999999999, 'unit_id': '8324f385-e0aa-46af-8fd8-6d41184b74e7'}]}, 'parent_ids': '515f8948-2fa8-4fd0-b4b7-c028e9fc295b'}, {'parameter_type_id': 'ee7e2fbd-dc80-488b-838e-c40a52507b1d', 'project_id': '3286cc10-921a-42f4-92d0-2e8d0f4cd79f', 'revision': {'source_id': '88986414-1e63-4112-b95f-7f8646c520f2', 'comment': 'Python Upload', 'location_in_source': 'Python', 'values': [{'value': 3427, 'unit_id': '3c934d99-46ea-453b-9fe7-a0ea95cc19fc'}]}, 'parent_ids': '515f8948-2fa8-4fd0-b4b7-c028e9fc295b'}, {'parameter_type_id': 'f616e3d0-7e66-4e32-88ca-ca49524ca5c2', 'project_id': '3286cc10-921a-42f4-92d0-2e8d0f4cd79f', 'revision': {'source_id': '88986414-1e63-4112-b95f-7f8646c520f2', 'comment': 'Python Upload', 'location_in_source': 'Python', 'values': [{'value': 2, 'unit_id': '8502c4c4-bedd-46dd-84ec-182eabb0b1be'}]}, 'parent_ids': '515f8948-2fa8-4fd0-b4b7-c028e9fc295b'}]}]\n",
      "Updating 0 parameters:\n",
      "There were errors posting the following (0) bodies: []\n",
      "None\n"
     ]
    }
   ],
   "source": [
    "print(upload_project(job_numbers, df, tag_projects, project_tag))"
   ]
  },
  {
   "cell_type": "code",
   "execution_count": null,
   "id": "ff1b1045",
   "metadata": {},
   "outputs": [],
   "source": []
  }
 ],
 "metadata": {
  "kernelspec": {
   "display_name": "Python 3 (ipykernel)",
   "language": "python",
   "name": "python3"
  },
  "language_info": {
   "codemirror_mode": {
    "name": "ipython",
    "version": 3
   },
   "file_extension": ".py",
   "mimetype": "text/x-python",
   "name": "python",
   "nbconvert_exporter": "python",
   "pygments_lexer": "ipython3",
   "version": "3.9.6"
  }
 },
 "nbformat": 4,
 "nbformat_minor": 5
}
