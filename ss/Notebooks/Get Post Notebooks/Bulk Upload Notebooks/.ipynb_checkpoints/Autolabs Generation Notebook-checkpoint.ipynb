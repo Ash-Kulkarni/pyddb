{
 "cells": [
  {
   "cell_type": "markdown",
   "id": "5fef76d7",
   "metadata": {},
   "source": [
    "# Imports & Authentication"
   ]
  },
  {
   "cell_type": "code",
   "execution_count": 1,
   "id": "859c9811",
   "metadata": {},
   "outputs": [
    {
     "name": "stdout",
     "output_type": "stream",
     "text": [
      "Using default account: Ash.Kulkarni@arup.com\n"
     ]
    }
   ],
   "source": [
    "import sys\n",
    "sys.path.append('../../../Scripts')\n",
    "import pandas as pd\n",
    "from ddb_auth import DDBAuth #https://github.com/arup-group/ddbpy_auth\n",
    "import ddb_get_post as pyddb\n",
    "from ddb_jupyter import generate_df, upload_project\n",
    "import ipysheet\n",
    "import numpy\n",
    "import itertools\n",
    "import uuid"
   ]
  },
  {
   "cell_type": "markdown",
   "id": "b80b1bf8",
   "metadata": {},
   "source": [
    "## Inputs"
   ]
  },
  {
   "cell_type": "code",
   "execution_count": 2,
   "id": "b995774d",
   "metadata": {},
   "outputs": [],
   "source": [
    "pyddb.site = \"dev\"  # \"dev\", \"sandbox\", or \"prod\"\n",
    "\n",
    "job_numbers =  [\n",
    "    \"07869129\",\n",
    "    \"07869130\",\n",
    "    \"07869131\",\n",
    "    \"07869133\",\n",
    "    \"07869134\",\n",
    "    \"07869138\",\n",
    "    \"07869139\",\n",
    "    \"07869140\",\n",
    "    \"07869141\",\n",
    "    \"07869145\",\n",
    "    \"07869146\",\n",
    "    \"07869153\",\n",
    "    \"07869167\",\n",
    "    \"07869168\",\n",
    "    \"07869169\",\n",
    "    \"07869170\",\n",
    "    \"07869171\",\n",
    "    \"07869173\",\n",
    "    \"07869178\",\n",
    "    \"07869179\",\n",
    "    \"07869180\",\n",
    "    \"07869181\",\n",
    "    \"07869186\",\n",
    "]\n",
    "\n",
    "job_numbers = [\"60287547\"]\n",
    "\n",
    "tag_projects = True\n",
    "project_tag = \"Embodied carbon due to transport\"\n",
    "\n",
    "file_name = \"Automation Labs Setup 2.xlsx\"\n",
    "file_path = \"..\\..\\..\\Templates\\Automation Labs\\\\\""
   ]
  },
  {
   "cell_type": "markdown",
   "id": "c05b4f6a",
   "metadata": {},
   "source": [
    "## Specific Spreadsheet Formatting\n",
    "\n",
    "The Autolab Template has sheets with the following names and has 0 headers rows on the sheet."
   ]
  },
  {
   "cell_type": "code",
   "execution_count": 3,
   "id": "611b8e41",
   "metadata": {},
   "outputs": [],
   "source": [
    "header_rows = 0\n",
    "\n",
    "sheet_names = [\n",
    "    \"Data Transformation\"\n",
    "]"
   ]
  },
  {
   "cell_type": "markdown",
   "id": "4470a5f5",
   "metadata": {},
   "source": [
    "## Generate Dataframe"
   ]
  },
  {
   "cell_type": "code",
   "execution_count": 4,
   "id": "99b1c03f",
   "metadata": {},
   "outputs": [],
   "source": [
    "df = generate_df(file_path + file_name, sheet_names, header_rows)"
   ]
  },
  {
   "cell_type": "markdown",
   "id": "173230cd",
   "metadata": {},
   "source": [
    "## Upload to DDB"
   ]
  },
  {
   "cell_type": "code",
   "execution_count": 5,
   "id": "1140320f",
   "metadata": {},
   "outputs": [
    {
     "name": "stdout",
     "output_type": "stream",
     "text": [
      "Creating project 28456300\n",
      "\n",
      "Unknown error.\n",
      "Posting assets...\n",
      "\n",
      "Posting sources...\n",
      "\n",
      "Source created successfully.\n",
      "Posting parameters...\n",
      "\n",
      "Posting 11 new parameters:\n",
      "{'parameters': [{'parameter_type_id': 'b8cb0fd1-d554-4a48-b7de-664a0e922833', 'project_id': 'd3a3e865-a4a1-48d6-9f2f-5889a18fab31', 'revision': {'source_id': 'caaba68c-59e3-4371-8fac-5551d0f4aecc', 'comment': 'Python Upload', 'location_in_source': 'Python', 'values': [{'value': 'Zero Carbon Project ', 'unit_id': None}]}}, {'parameter_type_id': '6727ae81-696a-45d7-8661-b56743f57904', 'project_id': 'd3a3e865-a4a1-48d6-9f2f-5889a18fab31', 'revision': {'source_id': 'caaba68c-59e3-4371-8fac-5551d0f4aecc', 'comment': 'Python Upload', 'location_in_source': 'Python', 'values': [{'value': '0.25', 'unit_id': '0563030f-bda5-4209-8a7c-7e10218066c8'}]}}, {'parameter_type_id': '4882f403-cd9e-4d58-830c-4df5d8ca0fb3', 'project_id': 'd3a3e865-a4a1-48d6-9f2f-5889a18fab31', 'revision': {'source_id': 'caaba68c-59e3-4371-8fac-5551d0f4aecc', 'comment': 'Python Upload', 'location_in_source': 'Python', 'values': [{'value': 'Glasgow', 'unit_id': None}]}}, {'parameter_type_id': 'fdb85750-6c8a-4033-94e4-d91d5825e788', 'project_id': 'd3a3e865-a4a1-48d6-9f2f-5889a18fab31', 'revision': {'source_id': 'caaba68c-59e3-4371-8fac-5551d0f4aecc', 'comment': 'Python Upload', 'location_in_source': 'Python', 'values': [{'value': 11, 'unit_id': '2ae7438a-4b8c-4f66-be4f-01315dc0cb8d'}]}, 'parent_ids': '02030f4a-7d7f-440f-991d-e2dab964a090'}, {'parameter_type_id': '6cbf4335-35f7-4a17-b214-d6c3aaa53685', 'project_id': 'd3a3e865-a4a1-48d6-9f2f-5889a18fab31', 'revision': {'source_id': 'caaba68c-59e3-4371-8fac-5551d0f4aecc', 'comment': 'Python Upload', 'location_in_source': 'Python', 'values': [{'value': 10, 'unit_id': 'c85f4e6e-4752-476e-816a-9525d3bbc129'}]}, 'parent_ids': '02030f4a-7d7f-440f-991d-e2dab964a090'}, {'parameter_type_id': 'cc9c7e85-60c1-4c3f-a133-cdfd54bc418a', 'project_id': 'd3a3e865-a4a1-48d6-9f2f-5889a18fab31', 'revision': {'source_id': 'caaba68c-59e3-4371-8fac-5551d0f4aecc', 'comment': 'Python Upload', 'location_in_source': 'Python', 'values': [{'value': 40, 'unit_id': 'd90385c5-6778-4f80-9339-6fbc8ca30441'}]}, 'parent_ids': '02030f4a-7d7f-440f-991d-e2dab964a090'}, {'parameter_type_id': '77f5f67d-93bc-4c54-808e-d5e98a09cf7d', 'project_id': 'd3a3e865-a4a1-48d6-9f2f-5889a18fab31', 'revision': {'source_id': 'caaba68c-59e3-4371-8fac-5551d0f4aecc', 'comment': 'Python Upload', 'location_in_source': 'Python', 'values': [{'value': 2400, 'unit_id': 'e749475e-f19c-4d4f-9d46-360d733c461c'}]}, 'parent_ids': '02030f4a-7d7f-440f-991d-e2dab964a090'}, {'parameter_type_id': 'fdb85750-6c8a-4033-94e4-d91d5825e788', 'project_id': 'd3a3e865-a4a1-48d6-9f2f-5889a18fab31', 'revision': {'source_id': 'caaba68c-59e3-4371-8fac-5551d0f4aecc', 'comment': 'Python Upload', 'location_in_source': 'Python', 'values': [{'value': 10, 'unit_id': '2ae7438a-4b8c-4f66-be4f-01315dc0cb8d'}]}, 'parent_ids': '3a47951a-0d6f-457b-82b6-f58aafd65f6e'}, {'parameter_type_id': '6cbf4335-35f7-4a17-b214-d6c3aaa53685', 'project_id': 'd3a3e865-a4a1-48d6-9f2f-5889a18fab31', 'revision': {'source_id': 'caaba68c-59e3-4371-8fac-5551d0f4aecc', 'comment': 'Python Upload', 'location_in_source': 'Python', 'values': [{'value': 120, 'unit_id': 'c85f4e6e-4752-476e-816a-9525d3bbc129'}]}, 'parent_ids': '3a47951a-0d6f-457b-82b6-f58aafd65f6e'}, {'parameter_type_id': 'cc9c7e85-60c1-4c3f-a133-cdfd54bc418a', 'project_id': 'd3a3e865-a4a1-48d6-9f2f-5889a18fab31', 'revision': {'source_id': 'caaba68c-59e3-4371-8fac-5551d0f4aecc', 'comment': 'Python Upload', 'location_in_source': 'Python', 'values': [{'value': 125, 'unit_id': 'd90385c5-6778-4f80-9339-6fbc8ca30441'}]}, 'parent_ids': '3a47951a-0d6f-457b-82b6-f58aafd65f6e'}]}\n"
     ]
    },
    {
     "ename": "UnboundLocalError",
     "evalue": "local variable 'res' referenced before assignment",
     "output_type": "error",
     "traceback": [
      "\u001b[1;31m---------------------------------------------------------------------------\u001b[0m",
      "\u001b[1;31mUnboundLocalError\u001b[0m                         Traceback (most recent call last)",
      "\u001b[1;32mC:\\Users\\ASH~1.KUL\\AppData\\Local\\Temp/ipykernel_68944/150132297.py\u001b[0m in \u001b[0;36m<module>\u001b[1;34m\u001b[0m\n\u001b[1;32m----> 1\u001b[1;33m \u001b[0mupload_project\u001b[0m\u001b[1;33m(\u001b[0m\u001b[0mjob_numbers\u001b[0m\u001b[1;33m,\u001b[0m \u001b[0mdf\u001b[0m\u001b[1;33m,\u001b[0m \u001b[0mtag_projects\u001b[0m\u001b[1;33m,\u001b[0m \u001b[0mproject_tag\u001b[0m\u001b[1;33m)\u001b[0m\u001b[1;33m\u001b[0m\u001b[1;33m\u001b[0m\u001b[0m\n\u001b[0m",
      "\u001b[1;32m~\\Desktop\\DDB\\Repos\\ddb-jupyter\\Notebooks\\Notebooks\\Get Post Notebooks\\Bulk Upload Notebooks\\../../../Scripts\\ddb_jupyter.py\u001b[0m in \u001b[0;36mupload_project\u001b[1;34m(job_numbers, df, tag_projects, project_tag)\u001b[0m\n\u001b[0;32m    759\u001b[0m         \u001b[0msource_dict\u001b[0m \u001b[1;33m=\u001b[0m \u001b[0mpost_all_sources\u001b[0m\u001b[1;33m(\u001b[0m\u001b[0mdf\u001b[0m\u001b[1;33m,\u001b[0m \u001b[0mproject_id\u001b[0m\u001b[1;33m,\u001b[0m \u001b[0msource_types\u001b[0m\u001b[1;33m)\u001b[0m\u001b[1;33m\u001b[0m\u001b[1;33m\u001b[0m\u001b[0m\n\u001b[0;32m    760\u001b[0m         \u001b[0mprint\u001b[0m\u001b[1;33m(\u001b[0m\u001b[1;34m\"Posting parameters...\\n\"\u001b[0m\u001b[1;33m)\u001b[0m\u001b[1;33m\u001b[0m\u001b[1;33m\u001b[0m\u001b[0m\n\u001b[1;32m--> 761\u001b[1;33m         upload_parameters(\n\u001b[0m\u001b[0;32m    762\u001b[0m             \u001b[0mdf\u001b[0m\u001b[1;33m,\u001b[0m \u001b[0mproject_id\u001b[0m\u001b[1;33m,\u001b[0m \u001b[0mparameter_types\u001b[0m\u001b[1;33m,\u001b[0m \u001b[0masset_dict\u001b[0m\u001b[1;33m,\u001b[0m \u001b[0munits\u001b[0m\u001b[1;33m,\u001b[0m \u001b[0msource_dict\u001b[0m\u001b[1;33m\u001b[0m\u001b[1;33m\u001b[0m\u001b[0m\n\u001b[0;32m    763\u001b[0m         )\n",
      "\u001b[1;32m~\\Desktop\\DDB\\Repos\\ddb-jupyter\\Notebooks\\Notebooks\\Get Post Notebooks\\Bulk Upload Notebooks\\../../../Scripts\\ddb_jupyter.py\u001b[0m in \u001b[0;36mupload_parameters\u001b[1;34m(df, project_id, parameter_types, asset_dict, units, source_dict)\u001b[0m\n\u001b[0;32m    640\u001b[0m             \u001b[0mprint\u001b[0m\u001b[1;33m(\u001b[0m\u001b[0mbody\u001b[0m\u001b[1;33m)\u001b[0m\u001b[1;33m\u001b[0m\u001b[1;33m\u001b[0m\u001b[0m\n\u001b[0;32m    641\u001b[0m             \u001b[1;31m# print(res)\u001b[0m\u001b[1;33m\u001b[0m\u001b[1;33m\u001b[0m\u001b[1;33m\u001b[0m\u001b[0m\n\u001b[1;32m--> 642\u001b[1;33m             \u001b[1;32mif\u001b[0m \u001b[1;34m\"msg\"\u001b[0m \u001b[1;32min\u001b[0m \u001b[0mres\u001b[0m\u001b[1;33m:\u001b[0m\u001b[1;33m\u001b[0m\u001b[1;33m\u001b[0m\u001b[0m\n\u001b[0m\u001b[0;32m    643\u001b[0m                 \u001b[0mprint\u001b[0m\u001b[1;33m(\u001b[0m\u001b[1;34mf\"Errors in batch {i}.\"\u001b[0m\u001b[1;33m)\u001b[0m\u001b[1;33m\u001b[0m\u001b[1;33m\u001b[0m\u001b[0m\n\u001b[0;32m    644\u001b[0m                 \u001b[0merrors\u001b[0m\u001b[1;33m.\u001b[0m\u001b[0mappend\u001b[0m\u001b[1;33m(\u001b[0m\u001b[0mbody\u001b[0m\u001b[1;33m)\u001b[0m\u001b[1;33m\u001b[0m\u001b[1;33m\u001b[0m\u001b[0m\n",
      "\u001b[1;31mUnboundLocalError\u001b[0m: local variable 'res' referenced before assignment"
     ]
    }
   ],
   "source": [
    "upload_project(job_numbers, df, tag_projects, project_tag)"
   ]
  },
  {
   "cell_type": "code",
   "execution_count": null,
   "id": "ed29f17f",
   "metadata": {},
   "outputs": [],
   "source": []
  }
 ],
 "metadata": {
  "kernelspec": {
   "display_name": "Python 3 (ipykernel)",
   "language": "python",
   "name": "python3"
  },
  "language_info": {
   "codemirror_mode": {
    "name": "ipython",
    "version": 3
   },
   "file_extension": ".py",
   "mimetype": "text/x-python",
   "name": "python",
   "nbconvert_exporter": "python",
   "pygments_lexer": "ipython3",
   "version": "3.9.6"
  }
 },
 "nbformat": 4,
 "nbformat_minor": 5
}
