{
 "cells": [
  {
   "cell_type": "markdown",
   "id": "5fef76d7",
   "metadata": {},
   "source": [
    "# Imports & Authentication"
   ]
  },
  {
   "cell_type": "code",
   "execution_count": 1,
   "id": "859c9811",
   "metadata": {},
   "outputs": [
    {
     "name": "stdout",
     "output_type": "stream",
     "text": [
      "Using default account: Ash.Kulkarni@arup.com\n"
     ]
    }
   ],
   "source": [
    "import sys\n",
    "sys.path.append('../../../Scripts')\n",
    "import pandas as pd\n",
    "from ddb_auth import DDBAuth #https://github.com/arup-group/ddbpy_auth\n",
    "import ddb_get_post as pyddb\n",
    "from ddb_jupyter import generate_df, upload_project\n",
    "import ipysheet\n",
    "import numpy\n",
    "import itertools\n",
    "import uuid"
   ]
  },
  {
   "cell_type": "markdown",
   "id": "b80b1bf8",
   "metadata": {},
   "source": [
    "## Inputs"
   ]
  },
  {
   "cell_type": "code",
   "execution_count": 2,
   "id": "ee4c5b68",
   "metadata": {},
   "outputs": [],
   "source": [
    "pyddb.site = \"sandbox\"  # \"dev\", \"sandbox\", or \"prod\"\n",
    "job_numbers =  [\n",
    "    '11252300'\n",
    "]\n",
    "\n",
    "tag_projects = False\n",
    "project_tag = \"Electrical Basis of Design\"\n",
    "\n",
    "file_name = \"Revit Sample Data 2.xlsx\"\n",
    "file_path = \"..\\..\\..\\Templates\\FCU\\\\\"\n",
    "\n",
    "sheet_name = \"Data Transformation\""
   ]
  },
  {
   "cell_type": "markdown",
   "id": "ef9f1920",
   "metadata": {},
   "source": [
    "## Specific Spreadsheet Formatting\n",
    "\n",
    "The generic upload Template has a sheet with the following name and has 0 headers rows on the sheet."
   ]
  },
  {
   "cell_type": "code",
   "execution_count": 3,
   "id": "a1fba8bf",
   "metadata": {},
   "outputs": [],
   "source": [
    "header_rows = 0\n",
    "\n",
    "sheet_names = [\n",
    "    \"Data Transformation\"\n",
    "]"
   ]
  },
  {
   "cell_type": "markdown",
   "id": "cdb7df2d",
   "metadata": {},
   "source": [
    "## Generate Dataframe"
   ]
  },
  {
   "cell_type": "code",
   "execution_count": 4,
   "id": "96725ad5",
   "metadata": {},
   "outputs": [],
   "source": [
    "df = generate_df(file_path + file_name, sheet_names, header_rows)"
   ]
  },
  {
   "cell_type": "markdown",
   "id": "85384752",
   "metadata": {},
   "source": [
    "## Upload to DDB"
   ]
  },
  {
   "cell_type": "code",
   "execution_count": 5,
   "id": "f131bd8f",
   "metadata": {},
   "outputs": [
    {
     "name": "stdout",
     "output_type": "stream",
     "text": [
      "Creating project 11252300\n",
      "\n",
      "Existing Project Found.\n",
      "Posting assets...\n",
      "\n",
      "Posting sources...\n",
      "\n",
      "Posting parameters...\n",
      "\n",
      "Posting 24 new parameters:\n",
      "Batch 1 posted successfully.\n",
      "All parameters posted successfully.\n",
      "Updating 0 parameters:\n"
     ]
    }
   ],
   "source": [
    "upload_project(job_numbers, df, tag_projects, project_tag)"
   ]
  },
  {
   "cell_type": "code",
   "execution_count": null,
   "id": "1cc4c23a",
   "metadata": {},
   "outputs": [],
   "source": []
  }
 ],
 "metadata": {
  "kernelspec": {
   "display_name": "Python 3 (ipykernel)",
   "language": "python",
   "name": "python3"
  },
  "language_info": {
   "codemirror_mode": {
    "name": "ipython",
    "version": 3
   },
   "file_extension": ".py",
   "mimetype": "text/x-python",
   "name": "python",
   "nbconvert_exporter": "python",
   "pygments_lexer": "ipython3",
   "version": "3.9.6"
  }
 },
 "nbformat": 4,
 "nbformat_minor": 5
}
