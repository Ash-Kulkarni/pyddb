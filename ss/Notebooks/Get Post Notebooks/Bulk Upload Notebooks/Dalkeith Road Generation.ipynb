{
 "cells": [
  {
   "cell_type": "markdown",
   "id": "5fef76d7",
   "metadata": {},
   "source": [
    "# Imports & Authentication"
   ]
  },
  {
   "cell_type": "code",
   "execution_count": 1,
   "id": "859c9811",
   "metadata": {},
   "outputs": [
    {
     "name": "stdout",
     "output_type": "stream",
     "text": [
      "Using default account: Ash.Kulkarni@arup.com\n"
     ]
    }
   ],
   "source": [
    "import sys\n",
    "sys.path.append('../../../Scripts')\n",
    "import pandas as pd\n",
    "from ddb_auth import DDBAuth #https://github.com/arup-group/ddbpy_auth\n",
    "import ddb_get_post as pyddb\n",
    "from ddb_jupyter import generate_df, upload_project\n",
    "import ipysheet\n",
    "import numpy\n",
    "import itertools\n",
    "import uuid"
   ]
  },
  {
   "cell_type": "markdown",
   "id": "b80b1bf8",
   "metadata": {},
   "source": [
    "## Inputs"
   ]
  },
  {
   "cell_type": "code",
   "execution_count": 2,
   "id": "ee4c5b68",
   "metadata": {},
   "outputs": [],
   "source": [
    "pyddb.site = \"dev\"  # \"dev\", \"sandbox\", or \"prod\"\n",
    "job_numbers =  [\n",
    "    '27846500'\n",
    "]\n",
    "\n",
    "tag_projects = False\n",
    "project_tag = \"Electrical Basis of Design\"\n",
    "\n",
    "file_name = \"DR DDB Data 2.xlsx\"\n",
    "file_path = \"..\\..\\..\\Templates\\Dalkeith Road\\\\\"\n",
    "\n",
    "sheet_name = \"Data Transformation\""
   ]
  },
  {
   "cell_type": "markdown",
   "id": "ef9f1920",
   "metadata": {},
   "source": [
    "## Specific Spreadsheet Formatting\n",
    "\n",
    "The generic upload Template has a sheet with the following name and has 0 headers rows on the sheet."
   ]
  },
  {
   "cell_type": "code",
   "execution_count": 3,
   "id": "a1fba8bf",
   "metadata": {},
   "outputs": [],
   "source": [
    "header_rows = 0\n",
    "\n",
    "sheet_names = [\n",
    "    \"Data Transformation\"\n",
    "]"
   ]
  },
  {
   "cell_type": "markdown",
   "id": "cdb7df2d",
   "metadata": {},
   "source": [
    "## Generate Dataframe"
   ]
  },
  {
   "cell_type": "code",
   "execution_count": 4,
   "id": "96725ad5",
   "metadata": {},
   "outputs": [],
   "source": [
    "df = generate_df(file_path + file_name, sheet_names, header_rows)"
   ]
  },
  {
   "cell_type": "markdown",
   "id": "85384752",
   "metadata": {},
   "source": [
    "## Upload to DDB"
   ]
  },
  {
   "cell_type": "code",
   "execution_count": 5,
   "id": "f131bd8f",
   "metadata": {},
   "outputs": [
    {
     "name": "stdout",
     "output_type": "stream",
     "text": [
      "Creating project 27846500\n",
      "\n",
      "Unknown error.\n",
      "Posting assets...\n",
      "\n",
      "Posting sources...\n",
      "\n",
      "Source created successfully.\n",
      "Posting parameters...\n",
      "\n"
     ]
    },
    {
     "ename": "KeyError",
     "evalue": "'Area'",
     "output_type": "error",
     "traceback": [
      "\u001b[1;31m---------------------------------------------------------------------------\u001b[0m",
      "\u001b[1;31mKeyError\u001b[0m                                  Traceback (most recent call last)",
      "\u001b[1;32mC:\\Users\\ASH~1.KUL\\AppData\\Local\\Temp/ipykernel_37892/150132297.py\u001b[0m in \u001b[0;36m<module>\u001b[1;34m\u001b[0m\n\u001b[1;32m----> 1\u001b[1;33m \u001b[0mupload_project\u001b[0m\u001b[1;33m(\u001b[0m\u001b[0mjob_numbers\u001b[0m\u001b[1;33m,\u001b[0m \u001b[0mdf\u001b[0m\u001b[1;33m,\u001b[0m \u001b[0mtag_projects\u001b[0m\u001b[1;33m,\u001b[0m \u001b[0mproject_tag\u001b[0m\u001b[1;33m)\u001b[0m\u001b[1;33m\u001b[0m\u001b[1;33m\u001b[0m\u001b[0m\n\u001b[0m",
      "\u001b[1;32m~\\Desktop\\DDB\\Repos\\ddb-jupyter\\Notebooks\\Notebooks\\Get Post Notebooks\\Bulk Upload Notebooks\\../../../Scripts\\ddb_jupyter.py\u001b[0m in \u001b[0;36mupload_project\u001b[1;34m(job_numbers, df, tag_projects, project_tag)\u001b[0m\n\u001b[0;32m    759\u001b[0m         \u001b[0msource_dict\u001b[0m \u001b[1;33m=\u001b[0m \u001b[0mpost_all_sources\u001b[0m\u001b[1;33m(\u001b[0m\u001b[0mdf\u001b[0m\u001b[1;33m,\u001b[0m \u001b[0mproject_id\u001b[0m\u001b[1;33m,\u001b[0m \u001b[0msource_types\u001b[0m\u001b[1;33m)\u001b[0m\u001b[1;33m\u001b[0m\u001b[1;33m\u001b[0m\u001b[0m\n\u001b[0;32m    760\u001b[0m         \u001b[0mprint\u001b[0m\u001b[1;33m(\u001b[0m\u001b[1;34m\"Posting parameters...\\n\"\u001b[0m\u001b[1;33m)\u001b[0m\u001b[1;33m\u001b[0m\u001b[1;33m\u001b[0m\u001b[0m\n\u001b[1;32m--> 761\u001b[1;33m         upload_parameters(\n\u001b[0m\u001b[0;32m    762\u001b[0m             \u001b[0mdf\u001b[0m\u001b[1;33m,\u001b[0m \u001b[0mproject_id\u001b[0m\u001b[1;33m,\u001b[0m \u001b[0mparameter_types\u001b[0m\u001b[1;33m,\u001b[0m \u001b[0masset_dict\u001b[0m\u001b[1;33m,\u001b[0m \u001b[0munits\u001b[0m\u001b[1;33m,\u001b[0m \u001b[0msource_dict\u001b[0m\u001b[1;33m\u001b[0m\u001b[1;33m\u001b[0m\u001b[0m\n\u001b[0;32m    763\u001b[0m         )\n",
      "\u001b[1;32m~\\Desktop\\DDB\\Repos\\ddb-jupyter\\Notebooks\\Notebooks\\Get Post Notebooks\\Bulk Upload Notebooks\\../../../Scripts\\ddb_jupyter.py\u001b[0m in \u001b[0;36mupload_parameters\u001b[1;34m(df, project_id, parameter_types, asset_dict, units, source_dict)\u001b[0m\n\u001b[0;32m    513\u001b[0m     \u001b[1;31m# all parameters in spreadsheet\u001b[0m\u001b[1;33m\u001b[0m\u001b[1;33m\u001b[0m\u001b[1;33m\u001b[0m\u001b[0m\n\u001b[0;32m    514\u001b[0m \u001b[1;33m\u001b[0m\u001b[0m\n\u001b[1;32m--> 515\u001b[1;33m     all_parameters = [\n\u001b[0m\u001b[0;32m    516\u001b[0m         [\n\u001b[0;32m    517\u001b[0m             \u001b[0mparameter_types\u001b[0m\u001b[1;33m[\u001b[0m\u001b[0mx\u001b[0m\u001b[1;33m[\u001b[0m\u001b[1;36m0\u001b[0m\u001b[1;33m]\u001b[0m\u001b[1;33m.\u001b[0m\u001b[0mreplace\u001b[0m\u001b[1;33m(\u001b[0m\u001b[1;34m\"\\xa0\"\u001b[0m\u001b[1;33m,\u001b[0m \u001b[1;34m\" \"\u001b[0m\u001b[1;33m)\u001b[0m\u001b[1;33m]\u001b[0m\u001b[1;33m,\u001b[0m  \u001b[1;31m# parameter type id\u001b[0m\u001b[1;33m\u001b[0m\u001b[1;33m\u001b[0m\u001b[0m\n",
      "\u001b[1;32m~\\Desktop\\DDB\\Repos\\ddb-jupyter\\Notebooks\\Notebooks\\Get Post Notebooks\\Bulk Upload Notebooks\\../../../Scripts\\ddb_jupyter.py\u001b[0m in \u001b[0;36m<listcomp>\u001b[1;34m(.0)\u001b[0m\n\u001b[0;32m    515\u001b[0m     all_parameters = [\n\u001b[0;32m    516\u001b[0m         [\n\u001b[1;32m--> 517\u001b[1;33m             \u001b[0mparameter_types\u001b[0m\u001b[1;33m[\u001b[0m\u001b[0mx\u001b[0m\u001b[1;33m[\u001b[0m\u001b[1;36m0\u001b[0m\u001b[1;33m]\u001b[0m\u001b[1;33m.\u001b[0m\u001b[0mreplace\u001b[0m\u001b[1;33m(\u001b[0m\u001b[1;34m\"\\xa0\"\u001b[0m\u001b[1;33m,\u001b[0m \u001b[1;34m\" \"\u001b[0m\u001b[1;33m)\u001b[0m\u001b[1;33m]\u001b[0m\u001b[1;33m,\u001b[0m  \u001b[1;31m# parameter type id\u001b[0m\u001b[1;33m\u001b[0m\u001b[1;33m\u001b[0m\u001b[0m\n\u001b[0m\u001b[0;32m    518\u001b[0m             \u001b[0masset_dict\u001b[0m\u001b[1;33m[\u001b[0m\u001b[0mx\u001b[0m\u001b[1;33m[\u001b[0m\u001b[1;36m2\u001b[0m\u001b[1;33m]\u001b[0m \u001b[1;33m+\u001b[0m \u001b[0mx\u001b[0m\u001b[1;33m[\u001b[0m\u001b[1;36m1\u001b[0m\u001b[1;33m]\u001b[0m\u001b[1;33m]\u001b[0m\u001b[1;33m,\u001b[0m  \u001b[1;31m# asset id\u001b[0m\u001b[1;33m\u001b[0m\u001b[1;33m\u001b[0m\u001b[0m\n\u001b[0;32m    519\u001b[0m             \u001b[0mx\u001b[0m\u001b[1;33m[\u001b[0m\u001b[1;36m3\u001b[0m\u001b[1;33m]\u001b[0m\u001b[1;33m,\u001b[0m  \u001b[1;31m# value\u001b[0m\u001b[1;33m\u001b[0m\u001b[1;33m\u001b[0m\u001b[0m\n",
      "\u001b[1;31mKeyError\u001b[0m: 'Area'"
     ]
    }
   ],
   "source": [
    "upload_project(job_numbers, df, tag_projects, project_tag)"
   ]
  },
  {
   "cell_type": "code",
   "execution_count": null,
   "id": "1cc4c23a",
   "metadata": {},
   "outputs": [],
   "source": []
  }
 ],
 "metadata": {
  "kernelspec": {
   "display_name": "Python 3 (ipykernel)",
   "language": "python",
   "name": "python3"
  },
  "language_info": {
   "codemirror_mode": {
    "name": "ipython",
    "version": 3
   },
   "file_extension": ".py",
   "mimetype": "text/x-python",
   "name": "python",
   "nbconvert_exporter": "python",
   "pygments_lexer": "ipython3",
   "version": "3.9.6"
  }
 },
 "nbformat": 4,
 "nbformat_minor": 5
}
