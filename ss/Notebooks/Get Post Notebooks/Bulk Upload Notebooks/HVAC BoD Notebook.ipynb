{
 "cells": [
  {
   "cell_type": "markdown",
   "id": "5fef76d7",
   "metadata": {},
   "source": [
    "# Imports & Authentication"
   ]
  },
  {
   "cell_type": "code",
   "execution_count": 1,
   "id": "859c9811",
   "metadata": {
    "scrolled": true
   },
   "outputs": [
    {
     "name": "stdout",
     "output_type": "stream",
     "text": [
      "Using default account: Ash.Kulkarni@arup.com\n"
     ]
    }
   ],
   "source": [
    "import sys\n",
    "sys.path.append('../../../Scripts')\n",
    "import pandas as pd\n",
    "from ddb_auth import DDBAuth #https://github.com/arup-group/ddbpy_auth\n",
    "import ddb_get_post as pyddb\n",
    "from ddb_jupyter import generate_df, upload_project\n",
    "import ipysheet\n",
    "import numpy\n",
    "import itertools\n",
    "import uuid"
   ]
  },
  {
   "cell_type": "markdown",
   "id": "b80b1bf8",
   "metadata": {},
   "source": [
    "## Inputs"
   ]
  },
  {
   "cell_type": "code",
   "execution_count": 2,
   "id": "b995774d",
   "metadata": {},
   "outputs": [],
   "source": [
    "pyddb.site = \"dev\"  # \"dev\", \"sandbox\", or \"prod\"\n",
    "job_numbers =  [\n",
    "    '00000000'\n",
    "]\n",
    "\n",
    "tag_projects = False\n",
    "project_tag = \"HVAC BoD 2\"\n",
    "\n",
    "file_name = \"HVAC BoD - Rothesay.xlsx\"\n",
    "file_path = \"..\\..\\..\\Templates\\Karsten\\\\\""
   ]
  },
  {
   "cell_type": "markdown",
   "id": "c05b4f6a",
   "metadata": {},
   "source": [
    "## Specific Spreadsheet Formatting\n",
    "\n",
    "The HVAC BoD Template has sheets with the following names and has 2 headers rows on each sheet."
   ]
  },
  {
   "cell_type": "code",
   "execution_count": 3,
   "id": "611b8e41",
   "metadata": {},
   "outputs": [],
   "source": [
    "header_rows = 2\n",
    "\n",
    "sheet_names = [\n",
    "    \"Project Parameters\",\n",
    "    \"Site Parameters\",\n",
    "    \"Building Parameters\",\n",
    "    \"Room Type Parameters\",\n",
    "    \"Building Envelope Parameters\"\n",
    "]"
   ]
  },
  {
   "cell_type": "markdown",
   "id": "4470a5f5",
   "metadata": {},
   "source": [
    "## Generate Dataframe"
   ]
  },
  {
   "cell_type": "code",
   "execution_count": 4,
   "id": "99b1c03f",
   "metadata": {},
   "outputs": [
    {
     "name": "stderr",
     "output_type": "stream",
     "text": [
      "C:\\Users\\Ash.Kulkarni\\Documents\\_dtd_venv\\JupyterTable\\lib\\site-packages\\openpyxl\\worksheet\\_reader.py:312: UserWarning: Data Validation extension is not supported and will be removed\n",
      "  warn(msg)\n"
     ]
    }
   ],
   "source": [
    "df = generate_df(file_path + file_name, sheet_names, header_rows)"
   ]
  },
  {
   "cell_type": "markdown",
   "id": "173230cd",
   "metadata": {},
   "source": [
    "## Upload to DDB"
   ]
  },
  {
   "cell_type": "code",
   "execution_count": 6,
   "id": "1140320f",
   "metadata": {},
   "outputs": [
    {
     "name": "stdout",
     "output_type": "stream",
     "text": [
      "Creating project 00000000\n",
      "\n",
      "Existing Project Found.\n",
      "Posting assets...\n",
      "\n",
      "Posting sources...\n",
      "\n",
      "Posting parameters...\n",
      "\n",
      "Posting 0 new parameters:\n",
      "Updating 0 parameters:\n",
      "None\n"
     ]
    }
   ],
   "source": [
    "print(upload_project(job_numbers, df, tag_projects, project_tag))"
   ]
  },
  {
   "cell_type": "code",
   "execution_count": null,
   "id": "72ed571a",
   "metadata": {},
   "outputs": [],
   "source": []
  }
 ],
 "metadata": {
  "kernelspec": {
   "display_name": "Python 3 (ipykernel)",
   "language": "python",
   "name": "python3"
  },
  "language_info": {
   "codemirror_mode": {
    "name": "ipython",
    "version": 3
   },
   "file_extension": ".py",
   "mimetype": "text/x-python",
   "name": "python",
   "nbconvert_exporter": "python",
   "pygments_lexer": "ipython3",
   "version": "3.9.6"
  }
 },
 "nbformat": 4,
 "nbformat_minor": 5
}
