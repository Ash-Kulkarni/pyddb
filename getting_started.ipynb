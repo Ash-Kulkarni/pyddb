{
 "cells": [
  {
   "cell_type": "markdown",
   "metadata": {},
   "source": [
    "## Digital Design Brief - Jupyter Notebooks"
   ]
  },
  {
   "cell_type": "markdown",
   "metadata": {},
   "source": [
    "### Virtual Environment Setup\n",
    "To ensure you're using the virtual environment, you'll need to create a virtual environment, activate it, and the create a kernel using the virtual environment.  You can then launch notebooks from within the environment.\n",
    "```python\n",
    "python -m venv .venv\n",
    ".venv/Scripts/activate\n",
    "pip install git+https://github.com/arup-group/ddbpy_auth.git\n",
    "pip install git+https://github.com/Ash-Kulkarni/pyddb.git\n",
    "ipython kernel install --user --name=venv\n",
    "jupyter notebook\n",
    "```\n",
    "To run these notebooks after this initial installation, the run the following commands to activate the virtual environment and launch the notebooks:\n",
    "```python\n",
    ".venv/Scripts/activate\n",
    "jupyter notebook\n",
    "```\n",
    "Within the notebook, you can navigate to the `kernel` tab, and select it."
   ]
  },
  {
   "cell_type": "markdown",
   "metadata": {},
   "source": [
    "### Imports\n",
    "First you should import the necessary libraries.\n",
    "This will likely prompt you for Arup authentication."
   ]
  },
  {
   "cell_type": "code",
   "execution_count": 1,
   "metadata": {},
   "outputs": [
    {
     "name": "stdout",
     "output_type": "stream",
     "text": [
      "Using default account: Ash.Kulkarni@arup.com\n"
     ]
    }
   ],
   "source": [
    "import pyddb\n",
    "import asyncio"
   ]
  },
  {
   "cell_type": "markdown",
   "metadata": {},
   "source": [
    "### Getting Started\n",
    "All python scripts using the `pyddb` library can be executed in a notebook with only a couple of extra lines.\n",
    "\n",
    "Notebooks have an event loop running in the background, so we can just nest another as a workaround."
   ]
  },
  {
   "cell_type": "code",
   "execution_count": null,
   "metadata": {},
   "outputs": [],
   "source": [
    "import nest_asyncio\n",
    "nest_asyncio.apply()"
   ]
  },
  {
   "cell_type": "markdown",
   "metadata": {},
   "source": [
    "### Asynchronous functions\n",
    "This library uses `asyncio` and `aiohttp`.\n",
    "You can use the type hints and doc strings for additional information as necessary."
   ]
  },
  {
   "cell_type": "markdown",
   "metadata": {},
   "source": [
    "### Initialising the DDB client\n",
    "The following function shows a typical example of initialising the DDB Client object and setting the environment you're looking to work in.\n"
   ]
  },
  {
   "cell_type": "code",
   "execution_count": null,
   "metadata": {},
   "outputs": [],
   "source": [
    "async def main():\n",
    "    ddb = pyddb.DDB(url=pyddb.BaseURL.sandbox)\n",
    "    projects = await ddb.get_projects()\n",
    "    return projects\n",
    "\n",
    "asyncio.run(main())"
   ]
  },
  {
   "cell_type": "markdown",
   "metadata": {},
   "source": [
    "### Storing and Loading DDB Types\n",
    "\n",
    "To prevent constantly querying the server for information about parameter types, asset types, or other similar information, we can download all of this information and load it as necessary.  This is much quicker, and there are methods to query by id or by name.\n",
    "\n",
    "The following command will download all types, convert them to objects, then pickle them into a local file that you can quickly load as necessary."
   ]
  },
  {
   "cell_type": "code",
   "execution_count": null,
   "metadata": {},
   "outputs": [],
   "source": [
    "asyncio.run(pyddb.regenerate_all_types())"
   ]
  },
  {
   "cell_type": "markdown",
   "metadata": {},
   "source": [
    "In the following example, we're loading these types back in, showing off the different ways they can be loaded."
   ]
  },
  {
   "cell_type": "code",
   "execution_count": null,
   "metadata": {},
   "outputs": [],
   "source": [
    "async def main():\n",
    "    \n",
    "    # you can get a single parameter by name or id:\n",
    "    area = pyddb.get_parameter_type_by_name(\"Area\")\n",
    "    volume = pyddb.get_parameter_type_by_id(\"fdb85750-6c8a-4033-94e4-d91d5825e788\")\n",
    "    \n",
    "    print(area)\n",
    "    print(volume)\n",
    "    \n",
    "asyncio.run(main())"
   ]
  },
  {
   "cell_type": "code",
   "execution_count": null,
   "metadata": {},
   "outputs": [],
   "source": [
    "async def main():\n",
    "    \n",
    "    # you can get parameters by name or id in a single API call:\n",
    "    area, volume = pyddb.get_parameter_types_by_name([\"Area\", \"Volume\"])\n",
    "    \n",
    "    print(area)\n",
    "    print(volume)\n",
    "    \n",
    "asyncio.run(main())"
   ]
  },
  {
   "cell_type": "markdown",
   "metadata": {},
   "source": [
    "All of this can be applied to parameter types, asset types, source types, tags, or units:"
   ]
  },
  {
   "cell_type": "code",
   "execution_count": null,
   "metadata": {},
   "outputs": [],
   "source": [
    "async def main():\n",
    "    \n",
    "    asset_type_site = pyddb.get_asset_type_by_name(\"site\")\n",
    "    source_type_derived_value = pyddb.get_source_type_by_name(\"Derived Value\")\n",
    "    tag_cladding = pyddb.get_tag_by_name(\"Cladding\")\n",
    "    unit_m3 = pyddb.get_unit_by_name(\"m³\")\n",
    "    \n",
    "    print(asset_type_site)\n",
    "    print(source_type_derived_value)\n",
    "    print(tag_cladding)\n",
    "    print(unit_m3)\n",
    "    \n",
    "asyncio.run(main())"
   ]
  },
  {
   "cell_type": "markdown",
   "metadata": {},
   "source": [
    "### Getting and Posting Projects"
   ]
  },
  {
   "cell_type": "markdown",
   "metadata": {},
   "source": [
    "A posted project will return the project even if it already exists, much like the get project method.\n",
    "\n",
    "When getting projects, the search keyword can be used to retreive a list of projects by job number, job name, project manager, or project director.\n",
    "\n",
    "Note that the keyword 'page_limit' should be entered if you want to retreive over 100 projects."
   ]
  },
  {
   "cell_type": "code",
   "execution_count": null,
   "metadata": {},
   "outputs": [],
   "source": [
    "async def main():\n",
    "    ddb = pyddb.DDB(url=pyddb.BaseURL.sandbox)\n",
    "    \n",
    "    post_project = await ddb.post_project(project_number=\"21515700\")\n",
    "    [get_project] = await ddb.get_projects(search=\"21515700\")\n",
    "    \n",
    "    print(post_project)\n",
    "    print(get_project)\n",
    "    \n",
    "asyncio.run(main())"
   ]
  },
  {
   "cell_type": "markdown",
   "metadata": {},
   "source": [
    "### Getting and Posting Assets\n"
   ]
  },
  {
   "cell_type": "markdown",
   "metadata": {},
   "source": [
    "#### Getting Assets\n",
    "To get assets, we can call the method at DDB, Project, or Asset level to get all assets within the environment, project, or children of a particular asset.\n",
    "\n",
    "There are also other arguments that can be passed in such as 'asset_type_id' or 'descendants_of' to filter to a specific asset type or all assets below a given asset in the tree."
   ]
  },
  {
   "cell_type": "code",
   "execution_count": null,
   "metadata": {},
   "outputs": [],
   "source": [
    "async def main():\n",
    "    \n",
    "    ddb = pyddb.DDB(url=pyddb.BaseURL.sandbox)\n",
    "    \n",
    "    [project] = await ddb.get_projects(search=\"21515700\")\n",
    "    \n",
    "    # ddb_sandbox_assets = await ddb.get_assets()\n",
    "    project_sites = await project.get_assets(asset_type_id = pyddb.get_asset_type_by_name(\"site\").id)\n",
    "    site_child_assets = await project_sites[0].get_assets()\n",
    "\n",
    "    # print(ddb_sandbox_assets)\n",
    "    print(project_sites)\n",
    "    print(site_child_assets)\n",
    "asyncio.run(main())"
   ]
  },
  {
   "cell_type": "markdown",
   "metadata": {},
   "source": [
    "#### Posting Asset Trees\n",
    "To post many assets in a tree structure, you can define each asset as shown below.\n",
    "\n",
    "The `parent` parameter must be an `Asset` or `NewAsset` object, and can refer to an existing asset or a new one.\n",
    "If you specify a new asset as a parent while one already exists in its place, it will update the existing asset instead.\n",
    "\n",
    "Note that in the following example I am creating the variable and assigning it during this expression using the `:=` operator."
   ]
  },
  {
   "cell_type": "code",
   "execution_count": null,
   "metadata": {},
   "outputs": [],
   "source": [
    "async def main():\n",
    "\n",
    "    ddb = pyddb.DDB(url=pyddb.BaseURL.sandbox)\n",
    "\n",
    "    project = await ddb.post_project(project_number=\"21515700\")\n",
    "\n",
    "    new_assets = [\n",
    "        my_site := pyddb.NewAsset(\n",
    "            asset_type=pyddb.get_asset_type_by_name(\"site\"),\n",
    "            name=\"My DDB Site\",\n",
    "            parent=None,\n",
    "        ),\n",
    "        my_building := pyddb.NewAsset(\n",
    "            asset_type=pyddb.get_asset_type_by_name(\"building\"),\n",
    "            name=\"My DDB Building\",\n",
    "            parent=my_site,\n",
    "        ),\n",
    "        my_space_type := pyddb.NewAsset(\n",
    "            asset_type=pyddb.get_asset_type_by_name(\"space type\"),\n",
    "            name=\"MY DDB Space Type\",\n",
    "            parent=my_building,\n",
    "        ),\n",
    "        my_first_space_instance := pyddb.NewAsset(\n",
    "            asset_type=pyddb.get_asset_type_by_name(\"space instance\"),\n",
    "            name=\"My First DDB Space Instance\",\n",
    "            parent=my_space_type,\n",
    "        ),\n",
    "        my_second_space_instance := pyddb.NewAsset(\n",
    "            asset_type=pyddb.get_asset_type_by_name(\"space instance\"),\n",
    "            name=\"My Second DDB Space Instance\",\n",
    "            parent=my_space_type,\n",
    "        ),\n",
    "    ]\n",
    "    newly_posted_assets = await project.post_assets(assets=new_assets)\n",
    "    print(newly_posted_assets)\n",
    "\n",
    "\n",
    "asyncio.run(main())\n"
   ]
  },
  {
   "cell_type": "markdown",
   "metadata": {},
   "source": [
    "### Getting and Posting Sources"
   ]
  },
  {
   "cell_type": "markdown",
   "metadata": {},
   "source": [
    "#### Getting Sources\n",
    "To get sources, we can call the method at DDB, or Project level to get all sources within the environment or project.\n",
    "\n",
    "There are also other arguments that can be passed in such as 'source_type_id', 'title', or 'reference' to filter to a specific source type or all sources matching other criteria."
   ]
  },
  {
   "cell_type": "code",
   "execution_count": null,
   "metadata": {},
   "outputs": [],
   "source": [
    "async def main():\n",
    "    \n",
    "    ddb = pyddb.DDB(url=pyddb.BaseURL.sandbox)\n",
    "    \n",
    "    [project] = await ddb.get_projects(search=\"21515700\")\n",
    "    \n",
    "    # ddb_sandbox_sources = await ddb.get_sources()\n",
    "    project_sources = await project.get_sources()\n",
    "\n",
    "    # print(ddb_sandbox_sources)\n",
    "    print(project_sources)\n",
    "asyncio.run(main())"
   ]
  },
  {
   "cell_type": "markdown",
   "metadata": {},
   "source": [
    "#### Posting Sources\n",
    "To post multiple sources, we can create a list of NewSource objects as shown below and use the Project method to pose them.\n",
    "\n",
    "If you specify a source that already exists, no duplicate will be created.\n",
    "\n",
    "This method will also return these back as Source objects."
   ]
  },
  {
   "cell_type": "code",
   "execution_count": null,
   "metadata": {},
   "outputs": [],
   "source": [
    "async def main():\n",
    "\n",
    "    ddb = pyddb.DDB(url=pyddb.BaseURL.sandbox)\n",
    "\n",
    "    [project] = await ddb.get_projects(search=\"21515700\")\n",
    "    [new_source] = await project.post_sources(\n",
    "        sources=[\n",
    "            pyddb.NewSource(\n",
    "                source_type=pyddb.get_source_type_by_name(\"Derived Value\"),\n",
    "                title=\"My source title\",\n",
    "                reference=\"My source reference\",\n",
    "            )\n",
    "        ]\n",
    "    )\n",
    "    print(new_source)\n",
    "\n",
    "\n",
    "asyncio.run(main())\n"
   ]
  },
  {
   "cell_type": "markdown",
   "metadata": {},
   "source": [
    "### Getting and Posting Parameters"
   ]
  },
  {
   "cell_type": "markdown",
   "metadata": {},
   "source": [
    "#### Getting Parameters\n",
    "To get parameters, we can call the method at DDB, Project, or Asset level to get all sources within the environment or project.\n",
    "\n",
    "There are also other arguments that can be passed in such as 'source_type_id', 'title', or 'reference' to filter to a specific source type or all sources matching other criteria."
   ]
  },
  {
   "cell_type": "code",
   "execution_count": null,
   "metadata": {},
   "outputs": [],
   "source": [
    "async def main():\n",
    "    \n",
    "    ddb = pyddb.DDB(url=pyddb.BaseURL.sandbox)\n",
    "    \n",
    "    [project] = await ddb.get_projects(search=\"21515700\")\n",
    "    \n",
    "    # ddb_sandbox_parameters = await ddb.get_parameters()\n",
    "    project_parameters = await project.get_parameters()\n",
    "\n",
    "    # print(ddb_sandbox_parameters)\n",
    "    print(project_parameters)\n",
    "asyncio.run(main())"
   ]
  },
  {
   "cell_type": "markdown",
   "metadata": {},
   "source": [
    "### Posting Parameters\n",
    "\n",
    "To post parameters, you will first need an asset or project to assign them to.  If you're posting them with revisions (values), you'll also need a source for the revision.\n",
    "\n",
    "You can get these assets or sources as shown previously.  This is what I've done in the example below.\n",
    "\n",
    "I've defined a list of NewParameter objects, with NewRevision objects as their revision properties.\n",
    "\n",
    "These can be posted as DDB level, but don't curently return Parameter objects back.  I might add this in the future."
   ]
  },
  {
   "cell_type": "code",
   "execution_count": null,
   "metadata": {},
   "outputs": [],
   "source": [
    "async def main():\n",
    "\n",
    "    ddb = pyddb.DDB(url=pyddb.BaseURL.sandbox)\n",
    "\n",
    "    [project] = await ddb.get_projects(search=\"21515700\")\n",
    "\n",
    "    \"\"\"posting a new source\"\"\"\n",
    "    [new_source] = await project.post_sources(\n",
    "        sources=[\n",
    "            pyddb.NewSource(\n",
    "                source_type=pyddb.get_source_type_by_name(\"Derived Value\"),\n",
    "                title=\"My source title\",\n",
    "                reference=\"My source reference\",\n",
    "            )\n",
    "        ]\n",
    "    )\n",
    "    \"\"\"posting new assets\"\"\"\n",
    "    new_assets = [\n",
    "        my_site := pyddb.NewAsset(\n",
    "            asset_type=pyddb.get_asset_type_by_name(\"site\"),\n",
    "            name=\"My DDB Site\",\n",
    "            parent=None,\n",
    "        ),\n",
    "        my_building := pyddb.NewAsset(\n",
    "            asset_type=pyddb.get_asset_type_by_name(\"building\"),\n",
    "            name=\"My DDB Building\",\n",
    "            parent=my_site,\n",
    "        ),\n",
    "        my_space_type := pyddb.NewAsset(\n",
    "            asset_type=pyddb.get_asset_type_by_name(\"space type\"),\n",
    "            name=\"MY DDB Space Type\",\n",
    "            parent=my_building,\n",
    "        ),\n",
    "        my_first_space_instance := pyddb.NewAsset(\n",
    "            asset_type=pyddb.get_asset_type_by_name(\"space instance\"),\n",
    "            name=\"My First DDB Space Instance\",\n",
    "            parent=my_space_type,\n",
    "        ),\n",
    "        my_second_space_instance := pyddb.NewAsset(\n",
    "            asset_type=pyddb.get_asset_type_by_name(\"space instance\"),\n",
    "            name=\"My Second DDB Space Instance\",\n",
    "            parent=my_space_type,\n",
    "        ),\n",
    "    ]\n",
    "\n",
    "    \"\"\"selecting an asset\"\"\"\n",
    "    newly_posted_assets = await project.post_assets(assets=new_assets)\n",
    "    my_newly_post_building = next(\n",
    "        x for x in newly_posted_assets if x.name == \"My First DDB Space Instance\"\n",
    "    )\n",
    "\n",
    "    \"\"\"posting new parameters\"\"\"\n",
    "    new_parameters = [\n",
    "        pyddb.NewParameter(\n",
    "            parameter_type=pyddb.get_parameter_type_by_name(\"Area\"),\n",
    "            revision=pyddb.NewRevision(\n",
    "                value=20, unit=pyddb.get_unit_by_name(\"m²\"), source=new_source\n",
    "            ),\n",
    "            parent=my_newly_post_building,\n",
    "        )\n",
    "    ]\n",
    "\n",
    "    await ddb.post_parameters(project=project, parameters=new_parameters)\n",
    "\n",
    "\n",
    "asyncio.run(main())\n"
   ]
  },
  {
   "cell_type": "markdown",
   "metadata": {},
   "source": [
    "### Getting and Posting Tags"
   ]
  },
  {
   "cell_type": "markdown",
   "metadata": {},
   "source": [
    "#### Getting Tags\n",
    "To get parameters, we can call the method at DDB, Project, or Asset level to get all sources within the environment or project.\n",
    "\n",
    "There are also other arguments that can be passed in such as 'source_type_id', 'title', or 'reference' to filter to a specific source type or all sources matching other criteria."
   ]
  },
  {
   "cell_type": "code",
   "execution_count": null,
   "metadata": {},
   "outputs": [],
   "source": []
  },
  {
   "cell_type": "markdown",
   "metadata": {},
   "source": [
    "#### Posting Tags\n",
    "To get parameters, we can call the method at DDB, Project, or Asset level to get all sources within the environment or project.\n",
    "\n",
    "There are also other arguments that can be passed in such as 'source_type_id', 'title', or 'reference' to filter to a specific source type or all sources matching other criteria."
   ]
  },
  {
   "cell_type": "code",
   "execution_count": null,
   "metadata": {},
   "outputs": [],
   "source": []
  }
 ],
 "metadata": {
  "kernelspec": {
   "display_name": "venv",
   "language": "python",
   "name": "venv"
  },
  "language_info": {
   "codemirror_mode": {
    "name": "ipython",
    "version": 3
   },
   "file_extension": ".py",
   "mimetype": "text/x-python",
   "name": "python",
   "nbconvert_exporter": "python",
   "pygments_lexer": "ipython3",
   "version": "3.9.6"
  },
  "vscode": {
   "interpreter": {
    "hash": "bb7ee4b053febf5ef35129f9bf40f00822cc41e98350394ca7a6c3d49e62a362"
   }
  }
 },
 "nbformat": 4,
 "nbformat_minor": 2
}
