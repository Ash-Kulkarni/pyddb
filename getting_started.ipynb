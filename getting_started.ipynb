{
 "cells": [
  {
   "cell_type": "markdown",
   "metadata": {},
   "source": [
    "## Digital Design Brief - Jupyter Notebooks"
   ]
  },
  {
   "cell_type": "markdown",
   "metadata": {},
   "source": [
    "### Virtual Environment Setup\n",
    "To ensure you're using the virtual environment, you'll need to create a virtual environment, activate it, and the create a kernel using the virtual environment.  You can then launch notebooks from within the environment.\n",
    "```python\n",
    "python -m venv .venv\n",
    ".venv/Scripts/activate\n",
    "pip install git+https://github.com/arup-group/ddbpy_auth.git\n",
    "pip install git+https://github.com/Ash-Kulkarni/pyddb.git\n",
    "ipython kernel install --user --name=venv\n",
    "jupyter notebook\n",
    "```\n",
    "To run these notebooks after this initial installation, the run the following commands to activate the virtual environment and launch the notebooks:\n",
    "```python\n",
    ".venv/Scripts/activate\n",
    "jupyter notebook\n",
    "```\n",
    "Within the notebook, you can navigate to the `kernel` tab, and select it."
   ]
  },
  {
   "cell_type": "markdown",
   "metadata": {},
   "source": [
    "### Imports\n",
    "First you should import the necessary libraries.\n",
    "This will likely prompt you for Arup authentication."
   ]
  },
  {
   "cell_type": "code",
   "execution_count": 1,
   "metadata": {},
   "outputs": [
    {
     "name": "stdout",
     "output_type": "stream",
     "text": [
      "Using default account: Ash.Kulkarni@arup.com\n"
     ]
    }
   ],
   "source": [
    "import pyddb\n",
    "import asyncio"
   ]
  },
  {
   "cell_type": "markdown",
   "metadata": {},
   "source": [
    "### Getting Started\n",
    "All python scripts using the `pyddb` library can be executed in a notebook with only a couple of extra lines.\n",
    "\n",
    "Notebooks have an event loop running in the background, so we can just nest another as a workaround."
   ]
  },
  {
   "cell_type": "code",
   "execution_count": 2,
   "metadata": {},
   "outputs": [],
   "source": [
    "import nest_asyncio\n",
    "nest_asyncio.apply()"
   ]
  },
  {
   "cell_type": "markdown",
   "metadata": {},
   "source": [
    "### Asynchronous functions\n",
    "This library uses `asyncio` and `aiohttp`.\n",
    "You can use the type hints and doc strings for additional information as necessary."
   ]
  },
  {
   "cell_type": "markdown",
   "metadata": {},
   "source": [
    "### Initialising the DDB client\n",
    "The following function shows a typical example of initialising the DDB Client object and setting the environment you're looking to work in.\n"
   ]
  },
  {
   "cell_type": "code",
   "execution_count": 3,
   "metadata": {},
   "outputs": [
    {
     "data": {
      "text/plain": [
       "['Name: ARK PIONEER ALL THROUGH FREE S, Project Number: 24700900, ID: 1c1c2ec7-d1c0-41a0-94ed-73650e9e14f3',\n",
       " 'Name: DAVENTRY SEN, Project Number: 24445600, ID: 05d8f26a-a0ed-48b8-9473-2fd560b40b41',\n",
       " 'Name: GEORGE MITCHELL SCHOOL, Project Number: 24427900, ID: 02c7f3f6-88f1-4e22-bca5-97805c254665',\n",
       " 'Name: LEEDS UTC, Project Number: 24404800, ID: 7c60f84d-ef45-4a45-bad1-80ff6e032611',\n",
       " 'Name: SHEFFIELD UTC 2 - CBDM, Project Number: 24283800, ID: 5e8e203d-e613-47e0-83c8-085ba22eebd2',\n",
       " 'Name: BAM - NISHKAM SCHOOL LONDON, Project Number: 24268900, ID: 37ab8156-4595-4ac9-bbd3-d4793c8ef1a2',\n",
       " 'Name: BRIXTON HILL REDEVELOPMENT, Project Number: 24223600, ID: ea333a93-0a07-4da3-b134-aa9325153791',\n",
       " 'Name: BAM PSBP RUTH GORSE ACADEMY, Project Number: 24015300, ID: 905b716b-981d-4d96-82f7-503c55b8a49d',\n",
       " 'Name: BATCH 53 - PSBP HILLINGDON & H, Project Number: 23933500, ID: f40728e7-d1a0-452a-abd4-ab84143b4ce5',\n",
       " 'Name: INGLEBY BARWICK FREE SCHOOL, Project Number: 23878400, ID: cee75cc9-b70c-45b4-819d-e1379dc72f67',\n",
       " 'Name: MARLBOROUGH PRIMARY SCHOOL - C, Project Number: 23742400, ID: c95d7014-ad9d-49e6-888d-7d1a336f05ee',\n",
       " 'Name: PSBP - HULL AND EAST RIDING 2, Project Number: 23688700, ID: 268ab28c-6b69-421f-b73f-5c2a4e2dd04e',\n",
       " 'Name: PSBP - DERBY, Project Number: 23686800, ID: 0887a88c-9c8b-4d71-be08-b46dd8df4c60',\n",
       " 'Name: DVH - BAM CDBM SUPPORT, Project Number: 23632700, ID: 8aa3afe4-a32d-4fc3-bc2a-33ef0ce65619',\n",
       " 'Name: HLR PSBP KINGS LANGLEY, Project Number: 23595500, ID: db20d6c8-8671-452f-9db7-65bad0dd155e',\n",
       " 'Name: MEDWAY UTC - CBDM, Project Number: 23587500, ID: baba8e51-babf-4a73-b7e8-f538cfb06ae7',\n",
       " 'Name: PSBP - BATCH 40 - CBDM  EAST M, Project Number: 23587400, ID: 26b2b726-5c50-439b-8f30-6cc8768ce27e',\n",
       " 'Name: DON VALLEY SCHOOLS, Project Number: 23502100, ID: 7b3b8b19-dfea-4d01-800e-c8969e79088b',\n",
       " 'Name: SEVEN KINGS SCHOOL DAYLIGHT, Project Number: 23487000, ID: 458fb259-6f15-4d89-80ed-fa37e7c7b7fc',\n",
       " 'Name: BOWMER & KIRKLAND - PSBP, Project Number: 23481100, ID: c936d688-f8e8-4808-8d6d-f83894d9cf63',\n",
       " 'Name: PRIORITY SCHOOLS NE - DAYLIGHT, Project Number: 23246800, ID: 9b58dde4-2ddc-47f3-9b7c-2a7b012cd358',\n",
       " 'Name: LIGHTING SMALL JOBS, Project Number: 12100100, ID: 02827f70-4953-46d4-87fa-f417e2465bb6',\n",
       " 'Name: MSFT WELLINGTON, Project Number: 28745600, ID: 0b10ae4b-070e-426e-97e6-5f5c784de9a1',\n",
       " 'Name: DO NOT USE, Project Number: 07567300, ID: 80ee5246-78d9-4721-bea5-c7ce03a5bacf',\n",
       " 'Name: 18 BLACKFRIARS, Project Number: 28536900, ID: 3722dbc1-3b9c-474f-9de2-8a931a9a768f',\n",
       " 'Name: SPAIN - JUNEX, Project Number: 07300959, ID: 41d3bb43-9d20-4161-b648-014c2945826a',\n",
       " 'Name: SUSTAINABLE WAREHOUSING - WEST, Project Number: 28474600, ID: 37fd3731-4c08-450f-9020-4255125e69bd',\n",
       " 'Name: WAX, Project Number: 28751500, ID: 195d8ab6-3cc3-4333-aafd-9cf2ae4b7976',\n",
       " 'Name: INSPECTION OF 2ND NILE BRIDGE, Project Number: 28738500, ID: 2da5794c-41ed-4df6-aa8a-0271e861f548',\n",
       " 'Name: CHAPELCROSS (YOUR REFERENCE), Project Number: 11234100, ID: f80de3c0-0a6e-4750-aa6b-9414e63c9897',\n",
       " 'Name: GAIA FABRIC CANOPY INSPECTION, Project Number: 11724000, ID: 3f449873-372f-4a73-8e65-2112073cf05a',\n",
       " 'Name: CROSSRAIL SURFACE - DESK STUDY, Project Number: 21515700, ID: 03e9c032-74b5-483a-8dcd-a9e9c1b3f0e5',\n",
       " 'Name: OCADO COLES 1 & 2, Project Number: 27344500, ID: 8e9775c1-d027-4001-94ff-4c558181049f',\n",
       " 'Name: SCHIPHOL SYSTEM INTEGRATOR PIE, Project Number: 25559600, ID: dda07950-18a1-4ab9-b516-942cb069ad21',\n",
       " 'Name: OCADO ZOOM 6, Project Number: 28416700, ID: 003ef467-cd9e-45dd-81e7-728df30f64fc',\n",
       " 'Name: AVOCADO - SCALING PHASE, Project Number: 07948892, ID: 2ae55251-2d38-41e3-bcb7-37382a6edeb3',\n",
       " 'Name: GOOGLE R+D 2020, Project Number: 27913700, ID: f4d2801e-2776-4c1e-ad90-920cdda19c9c',\n",
       " 'Name: MICROSOFT - MSV LONG RANGE P.1, Project Number: 25611500, ID: 4ce0088a-2668-4c1c-9ad2-a3900f4363a4',\n",
       " 'Name: CHARLESTON EAST, Project Number: 24422800, ID: 88a9e863-dd33-40ab-8180-3e582f177f06',\n",
       " 'Name: ENEL TOWARD SUST FLEETS, Project Number: 28568600, ID: 63b99b61-e47a-40ba-bd85-f316ec1ab12b',\n",
       " 'Name: DSHH: OFFSHORE WIND DIGITAL SE, Project Number: 28374700, ID: df8a89c8-610c-4d78-a7f4-e3c4fdf7889e',\n",
       " 'Name: CARBON STUDY (CONSTRUCTION), Project Number: 21715500, ID: b30a59b2-c280-4d5f-98bf-7be2a84be99e',\n",
       " 'Name: MCC ITV SPEC, Project Number: 12345600, ID: 6b6922bc-63a3-4045-89d2-8ad41acb8fcb',\n",
       " 'Name: CONFIDENTIAL - RWH - FIRE ENG., Project Number: 24585200, ID: 91c77a24-d36f-4bfb-b6c5-bcfd1a49683e',\n",
       " 'Name: QUEENS PARK CONSERVATION STUDI, Project Number: 28416800, ID: 56f039a7-9d71-47f7-9f1e-5f24aa7b46a9',\n",
       " 'Name: LCY20 CHESHAM, Project Number: 28142800, ID: 3ac8d8b5-1dd6-4dae-a979-debccbe4a061',\n",
       " 'Name: NORTHFLEET TECH: CSGT, Project Number: 12254421, ID: bba384f4-d897-4c3b-b60e-e5003dc1088a',\n",
       " 'Name: UNIVERSITY OF MANCHESTER - MEC, Project Number: 23577900, ID: 436875f2-4ce6-4c00-9a7e-0d922773d346',\n",
       " 'Name: SRQ BLOCK H (POST NOVATION), Project Number: 28080300, ID: 60de6f71-95d6-4eea-b81a-a2aeae198880',\n",
       " 'Name: ITV SITE, Project Number: 27310200, ID: 3731ffd9-ae8f-47fa-9b9d-ea7aca4de54d',\n",
       " 'Name: 122 LEADENHALL STREET, Project Number: 06850200, ID: 2bcc8107-bcc5-4f52-85c9-bf1214c9ce84',\n",
       " 'Name: CITY ROAD, Project Number: 21007600, ID: 9a7f69a4-063b-4025-a924-8d660f3c0035',\n",
       " 'Name: NO1 OXFORD STREET, W1, Project Number: 12210100, ID: b1dc75b1-0c74-4ad8-8764-6ffa878d8de5',\n",
       " 'Name: 19-35 BAKER STREET, Project Number: 24319400, ID: 7be4845f-a6b8-4b08-aa67-4a715c5a5724',\n",
       " 'Name: 21 -31 NEW OXFORD STREET, Project Number: 23060200, ID: 8a0d3abc-296f-4d98-89f0-cb55374e1f6e',\n",
       " 'Name: DERWENT, 40-45 CHANCERY LANE, Project Number: 23063700, ID: a1ed99bd-8379-4662-a397-67d58edf7e96',\n",
       " 'Name: LIME ST, Project Number: 21812500, ID: ce587836-748f-49ee-99c2-db8085ef2984',\n",
       " 'Name: BSKYB PHASE 2, Project Number: 23092500, ID: 622ffe4f-1729-4c77-94e7-8974f9e4ab67',\n",
       " 'Name: CAMDEN TOWN HALL HOTEL REFURBI, Project Number: 23519000, ID: 09bf3a9c-2d54-45cf-a0a2-2fdc968a897f',\n",
       " 'Name: 1FA REFURB, Project Number: 25215500, ID: 8aa8bfa6-c2e6-4dbe-88a4-e56c82f436aa',\n",
       " 'Name: 65 DAVIES STREET, Project Number: 21592500, ID: c4142387-1e53-48ed-b8b1-b02d1f37d90c',\n",
       " 'Name: FITZROVIA REDEVELOPMENT, Project Number: 20732900, ID: ad86bf29-5da7-472d-ad1d-049b1178c0b6',\n",
       " 'Name: 6-8 BISHOPSGATE, Project Number: 23371600, ID: 8905496b-52c3-4dbf-af3c-53bdcaf00a71',\n",
       " 'Name: RBA ELECTRICAL INFRASTRUCTURE, Project Number: 22535300, ID: af731e49-acf6-4f96-83f0-150a174b61a2',\n",
       " 'Name: CAVENDISH 3.5, Project Number: 28692100, ID: 9095eec7-87b1-4bd0-8eac-d2617985f8a1',\n",
       " 'Name: KL100 TOWER, Project Number: 21635500, ID: ebf24d90-9bd4-44bd-9115-12d29559de6e',\n",
       " 'Name: PHAT BREW CLUB, Project Number: 28623800, ID: 38244867-377d-485a-a98c-5df89fffc377',\n",
       " 'Name: GAIA, Project Number: 11252300, ID: 99ef3928-263e-4a8f-acec-26c17b617d92',\n",
       " 'Name: VIBRATION FOR CUHK LAB, Project Number: 28682600, ID: cb19ac9d-5a4d-42d5-953d-4f28499c383d',\n",
       " 'Name: GALLAUDET UNIVERSITY MLC, Project Number: 28482300, ID: 98362bff-0b11-44d1-9f3e-c035929249be',\n",
       " 'Name: VALE LIFE SCIENCES AND GMP, Project Number: 28345600, ID: 6637b4cf-62d2-4050-a8d5-4e0857741803',\n",
       " 'Name: ZLOTE TARASY, Project Number: 60287547, ID: 5b362086-233d-4c51-9e63-8274f479d596',\n",
       " 'Name: HEATHROW H7, Project Number: 26869800, ID: 6bfb7ad4-c75e-4037-bec0-5eb93bd255ad',\n",
       " 'Name: BIRMINGHAM CITY UNIVERSITY, CI, Project Number: 21382500, ID: b3882425-840c-4acc-bb71-6e7a5f594d9e',\n",
       " 'Name: CINER GLASS RIBA STAGE 3 - 6, Project Number: 28443100, ID: c74ed63d-a939-4c42-9db1-c1eccf395c6c',\n",
       " 'Name: AMP 50 BRIDGE, Project Number: 22270000, ID: 762db7b2-eb1b-4d3e-899a-5e8533618ace',\n",
       " 'Name: HLD_15 MIDDLERD_SUSTAINABILITY, Project Number: 24075000, ID: 27f8ebd6-3ba0-4d5c-8fce-003d21a4aae0',\n",
       " 'Name: APPLE CONTACT CENTRE UPGRADE P, Project Number: 23133900, ID: da5f7ce5-3464-4008-bb95-42693bb3601f',\n",
       " 'Name: RATCLIFFE - DESK STUDY, Project Number: 28465400, ID: 3a2a637c-b390-4550-8489-184f40b3932c',\n",
       " 'Name: 151 CLARENCE STREET, Project Number: 23577000, ID: 59af9de6-e538-4c9e-ad56-a44a90ae8c39',\n",
       " 'Name: DISTILLERS BUILDING SMITHFIELD, Project Number: 26317700, ID: 6b9bceb1-f853-4545-a843-193a31b5548c',\n",
       " 'Name: ROTHESAY PAVILION REDEVELOPMEN, Project Number: 24049800, ID: 10cf3cfe-e103-4371-93aa-71cfebd74aab',\n",
       " 'Name: AUTOMATION LAB TEST 25, Project Number: 07869186, ID: fd29d429-74fc-45f9-8414-a2e97b19359f',\n",
       " 'Name: AUTOMATION LAB TEST 24, Project Number: 07869181, ID: 4d777d5e-2114-49f8-9c7a-3bc003f65fd8',\n",
       " 'Name: AUTOMATION LAB TEST 23, Project Number: 07869180, ID: 2853e538-a9c9-4387-85b4-afc5bc89d5b7',\n",
       " 'Name: AUTOMATION LAB TEST 22, Project Number: 07869179, ID: 045162ee-b979-49e6-b36e-e20c564a1526',\n",
       " 'Name: APHA WEYBRIDGE - NEW TIME CHAR, Project Number: 26353300, ID: 685fbe81-cdde-4b6d-b4ac-3d26fd5866df',\n",
       " 'Name: QUAY QUARTER TOWER, Project Number: 27014200, ID: 5e675264-4f1d-4038-a533-7df77660d6f2',\n",
       " 'Name: CROSS TAY LINK ROAD TENDER DES, Project Number: 28097300, ID: 4859171e-3b5e-43a9-9f6e-cdd8dd3fb169',\n",
       " 'Name: KING ECGBERT SCHOOL, Project Number: 28525300, ID: badb8bd8-ced5-4108-b69a-a75ae1c73ccf',\n",
       " 'Name: SHOTTON MILL PHASE 1 WS1-4, Project Number: 28597400, ID: f3667887-db64-4d9e-9aba-5c1bd5932058',\n",
       " 'Name: OCADO 8 MANCHESTER, Project Number: 28420800, ID: 32eb0dfa-50b3-485e-8147-d9bf0ef69fe0',\n",
       " 'Name: AUTOMATION LAB TEST 21, Project Number: 07869178, ID: a0a7988d-8e2d-4400-b87f-a94745f0a91f',\n",
       " 'Name: PEER REVIEW FOR SYDNEY METRO W, Project Number: 28526500, ID: f2894c9e-c0de-4a04-8ea2-6641eaddb654',\n",
       " 'Name: TEMPLE QUARTER DEVELOPMENT, Project Number: 24955000, ID: 1f4fcee2-b1d7-4cb8-a3b3-54d85dfe9d52',\n",
       " 'Name: BCC–SP TEMPLE ISLAND PMO, Project Number: 28257700, ID: 6999548c-8c81-4861-8d8a-e977bbce8992',\n",
       " 'Name: HUDDERSFIELD CULTURAL HEART, Project Number: 28464200, ID: 33c14ced-6f61-4c8c-9030-bf2a5e07ee99',\n",
       " 'Name: PCE CURBSIDE EV CHARGING PROGR, Project Number: 27845600, ID: fc492914-a8c9-4c51-b2ee-bf5509c6b991',\n",
       " 'Name: NET ZERO INITIATIVES SUPPORT A, Project Number: 07948883, ID: bce42c87-0fd5-4b07-9b88-3151ce080b87',\n",
       " 'Name: TRU SECTION 8 (W3 G5), Project Number: 28036300, ID: 8c118e32-e985-4f9c-89ab-6145731cb326']"
      ]
     },
     "execution_count": 3,
     "metadata": {},
     "output_type": "execute_result"
    }
   ],
   "source": [
    "async def main():\n",
    "    ddb = pyddb.DDB(url=pyddb.BaseURL.sandbox)\n",
    "    projects = await ddb.get_projects()\n",
    "    return projects\n",
    "\n",
    "asyncio.run(main())"
   ]
  },
  {
   "cell_type": "markdown",
   "metadata": {},
   "source": [
    "### Storing and Loading DDB Types\n",
    "\n",
    "To prevent constantly querying the server for information about parameter types, asset types, or other similar information, we can download all of this information and load it as necessary.  This is much quicker, and there are methods to query by id or by name.\n",
    "\n",
    "The following command will download all types, convert them to objects, then pickle them into a local file that you can quickly load as necessary."
   ]
  },
  {
   "cell_type": "code",
   "execution_count": 4,
   "metadata": {},
   "outputs": [],
   "source": [
    "asyncio.run(pyddb.regenerate_all_types())"
   ]
  },
  {
   "cell_type": "markdown",
   "metadata": {},
   "source": [
    "In the following example, we're loading these types back in, showing off the different ways they can be loaded."
   ]
  },
  {
   "cell_type": "code",
   "execution_count": 5,
   "metadata": {},
   "outputs": [
    {
     "name": "stdout",
     "output_type": "stream",
     "text": [
      "Name: Area\n",
      "Name: Volume\n"
     ]
    }
   ],
   "source": [
    "async def main():\n",
    "    \n",
    "    # you can get a single parameter by name or id:\n",
    "    area = pyddb.get_parameter_type_by_name(\"Area\")\n",
    "    volume = pyddb.get_parameter_type_by_id(\"fdb85750-6c8a-4033-94e4-d91d5825e788\")\n",
    "    \n",
    "    print(area)\n",
    "    print(volume)\n",
    "    \n",
    "asyncio.run(main())"
   ]
  },
  {
   "cell_type": "code",
   "execution_count": 6,
   "metadata": {},
   "outputs": [
    {
     "name": "stdout",
     "output_type": "stream",
     "text": [
      "Name: Area\n",
      "Name: Volume\n"
     ]
    }
   ],
   "source": [
    "async def main():\n",
    "    \n",
    "    # you can get parameters by name or id in a single API call:\n",
    "    area, volume = pyddb.get_parameter_types_by_name([\"Area\", \"Volume\"])\n",
    "    \n",
    "    print(area)\n",
    "    print(volume)\n",
    "    \n",
    "asyncio.run(main())"
   ]
  },
  {
   "cell_type": "markdown",
   "metadata": {},
   "source": [
    "All of this can be applied to parameter types, asset types, source types, tags, or units:"
   ]
  },
  {
   "cell_type": "code",
   "execution_count": 7,
   "metadata": {},
   "outputs": [
    {
     "name": "stdout",
     "output_type": "stream",
     "text": [
      "Name: site\n",
      "Name: Derived Value\n",
      "Name: Cladding, Tag Type: Name: Parameter Category\n",
      "Name: m³\n"
     ]
    }
   ],
   "source": [
    "async def main():\n",
    "    \n",
    "    asset_type_site = pyddb.get_asset_type_by_name(\"site\")\n",
    "    source_type_derived_value = pyddb.get_source_type_by_name(\"Derived Value\")\n",
    "    tag_cladding = pyddb.get_tag_by_name(\"Cladding\")\n",
    "    unit_m3 = pyddb.get_unit_by_name(\"m³\")\n",
    "    \n",
    "    print(asset_type_site)\n",
    "    print(source_type_derived_value)\n",
    "    print(tag_cladding)\n",
    "    print(unit_m3)\n",
    "    \n",
    "asyncio.run(main())"
   ]
  },
  {
   "cell_type": "markdown",
   "metadata": {},
   "source": [
    "### Getting and Posting Projects"
   ]
  },
  {
   "cell_type": "markdown",
   "metadata": {},
   "source": [
    "A posted project will return the project even if it already exists, much like the get project method.\n",
    "\n",
    "When getting projects, the search keyword can be used to retreive a list of projects by job number, job name, project manager, or project director.\n",
    "\n",
    "Note that the keyword 'page_limit' should be entered if you want to retreive over 100 projects."
   ]
  },
  {
   "cell_type": "code",
   "execution_count": 8,
   "metadata": {},
   "outputs": [
    {
     "name": "stdout",
     "output_type": "stream",
     "text": [
      "Getting existing project...\n",
      "Name: CROSSRAIL SURFACE - DESK STUDY, Project Number: 21515700\n",
      "Name: CROSSRAIL SURFACE - DESK STUDY, Project Number: 21515700\n"
     ]
    }
   ],
   "source": [
    "async def main():\n",
    "    ddb = pyddb.DDB(url=pyddb.BaseURL.sandbox)\n",
    "    \n",
    "    post_project = await ddb.post_project(project_number=\"21515700\")\n",
    "    [get_project] = await ddb.get_projects(search=\"21515700\")\n",
    "    \n",
    "    print(post_project)\n",
    "    print(get_project)\n",
    "    \n",
    "asyncio.run(main())"
   ]
  },
  {
   "cell_type": "markdown",
   "metadata": {},
   "source": [
    "### Getting and Posting Assets\n"
   ]
  },
  {
   "cell_type": "markdown",
   "metadata": {},
   "source": [
    "#### Getting Assets\n",
    "To get assets, we can call the method at DDB, Project, or Asset level to get all assets within the environment, project, or children of a particular asset.\n",
    "\n",
    "There are also other arguments that can be passed in such as 'asset_type_id' or 'descendants_of' to filter to a specific asset type or all assets below a given asset in the tree."
   ]
  },
  {
   "cell_type": "code",
   "execution_count": 9,
   "metadata": {},
   "outputs": [
    {
     "name": "stdout",
     "output_type": "stream",
     "text": [
      "['Name: Chain 23w43e, Type: site, ID: 4cdd0190-3018-4051-954c-defed5c723c6', 'Name: Chain 23w3, Type: site, ID: a403543d-2065-4edd-9afa-d9038ad179a2', 'Name: Site 1, Type: site, ID: 91b7314f-1707-4d71-9cbf-610cb1e9cf81', 'Name: Chain 23w43e2, Type: site, ID: cb13bb89-48ad-490d-b853-b992d965120b', 'Name: Chain 23w43e22, Type: site, ID: 21676a57-75e2-4e36-abc4-0275658c619c', 'Name: Chain 23w43e224, Type: site, ID: ed3b5313-3f31-4c3c-b48d-203c1b8c58e9', 'Name: Chain 23w43e2f, Type: site, ID: b7cc3909-e543-4514-b785-7074a93fab1a', 'Name: Chain 23w43, Type: site, ID: ecb79137-4e09-4010-8c69-bac295b78027', 'Name: My DDB Site, Type: site, ID: 82762bfc-cd3a-4667-9ffe-8e58318f19cd']\n",
      "['Name: Chain 2, Type: building, ID: c041019d-9321-4541-a1de-8bbafcdb3f6f']\n"
     ]
    }
   ],
   "source": [
    "async def main():\n",
    "    \n",
    "    ddb = pyddb.DDB(url=pyddb.BaseURL.sandbox)\n",
    "    \n",
    "    [project] = await ddb.get_projects(search=\"21515700\")\n",
    "    \n",
    "    # ddb_sandbox_assets = await ddb.get_assets()\n",
    "    project_sites = await project.get_assets(asset_type_id = pyddb.get_asset_type_by_name(\"site\").id)\n",
    "    site_child_assets = await project_sites[0].get_assets()\n",
    "\n",
    "    # print(ddb_sandbox_assets)\n",
    "    print(project_sites)\n",
    "    print(site_child_assets)\n",
    "asyncio.run(main())"
   ]
  },
  {
   "cell_type": "markdown",
   "metadata": {},
   "source": [
    "#### Posting Asset Trees\n",
    "To post many assets in a tree structure, you can define each asset as shown below.\n",
    "\n",
    "The `parent` parameter must be an `Asset` or `NewAsset` object, and can refer to an existing asset or a new one.\n",
    "If you specify a new asset as a parent while one already exists in its place, it will update the existing asset instead.\n",
    "\n",
    "Note that in the following example I am creating the variable and assigning it during this expression using the `:=` operator."
   ]
  },
  {
   "cell_type": "code",
   "execution_count": 10,
   "metadata": {},
   "outputs": [
    {
     "name": "stdout",
     "output_type": "stream",
     "text": [
      "Getting existing project...\n",
      "['Name: My DDB Site, Type: site, ID: 82762bfc-cd3a-4667-9ffe-8e58318f19cd', 'Name: My DDB Building, Type: building, ID: 019de055-53f4-43f2-bf9a-43d1bca5f196', 'Name: MY DDB Space Type, Type: space type, ID: 4fafb692-36d5-4e6a-9692-7983046d993f', 'Name: My First DDB Space Instance, Type: space instance, ID: 2110b107-cad5-44a4-acd1-851020dcd24f', 'Name: My Second DDB Space Instance, Type: space instance, ID: e824321d-b5c3-4139-8e50-1cddef360685', 'Name: My DDB Site, Type: site, ID: 82762bfc-cd3a-4667-9ffe-8e58318f19cd', 'Name: My DDB Building, Type: building, ID: 019de055-53f4-43f2-bf9a-43d1bca5f196', 'Name: MY DDB Space Type, Type: space type, ID: 4fafb692-36d5-4e6a-9692-7983046d993f', 'Name: My First DDB Space Instance, Type: space instance, ID: 2110b107-cad5-44a4-acd1-851020dcd24f', 'Name: My Second DDB Space Instance, Type: space instance, ID: e824321d-b5c3-4139-8e50-1cddef360685']\n"
     ]
    }
   ],
   "source": [
    "async def main():\n",
    "\n",
    "    ddb = pyddb.DDB(url=pyddb.BaseURL.sandbox)\n",
    "\n",
    "    project = await ddb.post_project(project_number=\"21515700\")\n",
    "\n",
    "    new_assets = [\n",
    "        my_site := pyddb.NewAsset(\n",
    "            asset_type=pyddb.get_asset_type_by_name(\"site\"),\n",
    "            name=\"My DDB Site\",\n",
    "            parent=None,\n",
    "        ),\n",
    "        my_building := pyddb.NewAsset(\n",
    "            asset_type=pyddb.get_asset_type_by_name(\"building\"),\n",
    "            name=\"My DDB Building\",\n",
    "            parent=my_site,\n",
    "        ),\n",
    "        my_space_type := pyddb.NewAsset(\n",
    "            asset_type=pyddb.get_asset_type_by_name(\"space type\"),\n",
    "            name=\"MY DDB Space Type\",\n",
    "            parent=my_building,\n",
    "        ),\n",
    "        my_first_space_instance := pyddb.NewAsset(\n",
    "            asset_type=pyddb.get_asset_type_by_name(\"space instance\"),\n",
    "            name=\"My First DDB Space Instance\",\n",
    "            parent=my_space_type,\n",
    "        ),\n",
    "        my_second_space_instance := pyddb.NewAsset(\n",
    "            asset_type=pyddb.get_asset_type_by_name(\"space instance\"),\n",
    "            name=\"My Second DDB Space Instance\",\n",
    "            parent=my_space_type,\n",
    "        ),\n",
    "    ]\n",
    "    newly_posted_assets = await project.post_assets(assets=new_assets)\n",
    "    print(newly_posted_assets)\n",
    "\n",
    "\n",
    "asyncio.run(main())\n"
   ]
  },
  {
   "cell_type": "markdown",
   "metadata": {},
   "source": [
    "### Getting and Posting Sources"
   ]
  },
  {
   "cell_type": "markdown",
   "metadata": {},
   "source": [
    "#### Getting Sources\n",
    "To get sources, we can call the method at DDB, or Project level to get all sources within the environment or project.\n",
    "\n",
    "There are also other arguments that can be passed in such as 'source_type_id', 'title', or 'reference' to filter to a specific source type or all sources matching other criteria."
   ]
  },
  {
   "cell_type": "code",
   "execution_count": 11,
   "metadata": {},
   "outputs": [
    {
     "name": "stdout",
     "output_type": "stream",
     "text": [
      "['Title: Schools Daylighting Spreadsheet, Reference: Schools Daylighting Spreadsheet, Source Type: Project Document, ID: e8fdac47-9656-47eb-b29f-455d88209758', 'Title: Schools Daylighting Spreadsheet, Reference: Schools Daylighting Spreadsheet, Source Type: Project Document, ID: 979da291-6de2-4db4-840a-22309c45d50c', 'Title: Schools Daylighting Spreadsheet, Reference: Schools Daylighting Spreadsheet, Source Type: Project Document, ID: f094eda0-9982-4491-8337-44b7b1fe03f7', 'Title: Schools Daylighting Spreadsheet, Reference: Schools Daylighting Spreadsheet, Source Type: Project Document, ID: 3a546841-5da2-4029-a100-94ff3862fe8a', 'Title: Schools Daylighting Spreadsheet, Reference: Schools Daylighting Spreadsheet, Source Type: Project Document, ID: 10da0fb9-679e-47e9-ae42-d503d4a42990', 'Title: Schools Daylighting Spreadsheet, Reference: Schools Daylighting Spreadsheet, Source Type: Project Document, ID: b9de4aae-88cf-498e-88e4-be821a3346a5', 'Title: Schools Daylighting Spreadsheet, Reference: Schools Daylighting Spreadsheet, Source Type: Project Document, ID: a824507e-36b0-47d3-a366-a1a087bfb506', 'Title: Schools Daylighting Spreadsheet, Reference: Schools Daylighting Spreadsheet, Source Type: Project Document, ID: 7b2198dc-5a81-44b5-bc9b-d1b13e9f8299', 'Title: Schools Daylighting Spreadsheet, Reference: Schools Daylighting Spreadsheet, Source Type: Project Document, ID: 8646460d-e13d-4cb7-8d1f-284826153659', 'Title: Schools Daylighting Spreadsheet, Reference: Schools Daylighting Spreadsheet, Source Type: Project Document, ID: 2dd676c8-9367-4a08-b039-35dd1833a9aa', 'Title: Schools Daylighting Spreadsheet, Reference: Schools Daylighting Spreadsheet, Source Type: Project Document, ID: fc3bc865-8ad9-4ed6-ac81-35c7278e31f1', 'Title: Schools Daylighting Spreadsheet, Reference: Schools Daylighting Spreadsheet, Source Type: Project Document, ID: ed1123e9-9fec-4a8a-a58b-e72ca6ce8ef2', 'Title: Schools Daylighting Spreadsheet, Reference: Schools Daylighting Spreadsheet, Source Type: Project Document, ID: 2874f8a6-7a50-47c9-badf-f931ed70fe67', 'Title: Schools Daylighting Spreadsheet, Reference: Schools Daylighting Spreadsheet, Source Type: Project Document, ID: 135cc8e3-a01c-4587-bb69-6ce5d35ec388', 'Title: Schools Daylighting Spreadsheet, Reference: Schools Daylighting Spreadsheet, Source Type: Project Document, ID: 5952f392-4d4d-48e0-be6e-a4d123654288', 'Title: Schools Daylighting Spreadsheet, Reference: Schools Daylighting Spreadsheet, Source Type: Project Document, ID: 6fda8016-1276-4e24-806b-e76c4530ec7f', 'Title: Schools Daylighting Spreadsheet, Reference: Schools Daylighting Spreadsheet, Source Type: Project Document, ID: d32e6bc0-c218-48cf-a311-0f8cd7c155cc', 'Title: Schools Daylighting Spreadsheet, Reference: Schools Daylighting Spreadsheet, Source Type: Project Document, ID: 6a6ddfa5-404f-4a6a-8822-4ad8eb0629fa', 'Title: Schools Daylighting Spreadsheet, Reference: Schools Daylighting Spreadsheet, Source Type: Project Document, ID: 3e9067d7-ac17-40e2-a039-d136d8fb732b', 'Title: Schools Daylighting Spreadsheet, Reference: Schools Daylighting Spreadsheet, Source Type: Project Document, ID: 236d96cd-9052-416f-b0ef-a1a8b7057908', 'Title: Schools Daylighting Spreadsheet, Reference: Schools Daylighting Spreadsheet, Source Type: Project Document, ID: eb29aa46-c9cb-4209-b0a3-6fcfbd73cbb2', 'Title: Schools Daylighting Spreadsheet, Reference: Schools Daylighting Spreadsheet, Source Type: Project Document, ID: 5c569199-f49b-4f57-9c28-b9e30b5275d7', 'Title: Test, Reference: Test, Source Type: Assumption, ID: ed6538e0-89dc-4967-8833-aaa95fe7803a', 'Title: Assumption, Reference: Assumption, Source Type: Assumption, ID: 02a6d611-7c20-40b0-b36a-dba97178821e', 'Title: Schools Daylighting Spreadsheet, Reference: Schools Daylighting Spreadsheet, Source Type: Project Document, ID: ad381ad0-ace8-4f50-8f05-557042c6761d', 'Title: Test, Reference: Test, Source Type: Assumption, ID: b3fe7d9f-176c-4dab-97d5-7a42be021151', 'Title: Assumption, Reference: Assumption, Source Type: Assumption, ID: 49c8104e-7e2f-4df7-b5a0-50deac8fba81', 'Title: Schools Daylighting Spreadsheet, Reference: Schools Daylighting Spreadsheet, Source Type: Project Document, ID: 4a088101-1d0e-49fa-b5a2-3c243f770341', 'Title: Schools Daylighting Spreadsheet, Reference: Schools Daylighting Spreadsheet, Source Type: Project Document, ID: aedafeea-2a9b-4e26-912b-607143007ca6', 'Title: Schools Daylighting Spreadsheet, Reference: Schools Daylighting Spreadsheet, Source Type: Project Document, ID: 7786c962-70f0-4e23-b5be-22611b66bd15', 'Title: Schools Daylighting Spreadsheet, Reference: Schools Daylighting Spreadsheet, Source Type: Project Document, ID: 27ccbcf1-3ea7-4ff1-8420-041a4a2e565a', 'Title: Schools Daylighting Spreadsheet, Reference: Schools Daylighting Spreadsheet, Source Type: Project Document, ID: 04f988e0-ece2-4137-8aa4-af16977e322c', 'Title: Schools Daylighting Spreadsheet, Reference: Schools Daylighting Spreadsheet, Source Type: Project Document, ID: 15023b82-e98c-457b-a896-9c1a76c38007', 'Title: Schools Daylighting Spreadsheet, Reference: Schools Daylighting Spreadsheet, Source Type: Project Document, ID: a0865b9d-e92b-469b-a75e-2f6ce1715593', 'Title: Schools Daylighting Spreadsheet, Reference: Schools Daylighting Spreadsheet, Source Type: Project Document, ID: b627f1de-4095-4beb-abfa-a6907198d1de', 'Title: Schools Daylighting Spreadsheet, Reference: Schools Daylighting Spreadsheet, Source Type: Project Document, ID: e1846000-2362-46f4-a769-ef598b9e327b', 'Title: Schools Daylighting Spreadsheet, Reference: Schools Daylighting Spreadsheet, Source Type: Project Document, ID: c3747931-96ce-42bb-baf4-1098ed78cac5', 'Title: Schools Daylighting Spreadsheet, Reference: Schools Daylighting Spreadsheet, Source Type: Project Document, ID: 8b871fe0-ac1c-4583-8892-1ba468b221ac', 'Title: Schools Daylighting Spreadsheet, Reference: Schools Daylighting Spreadsheet, Source Type: Project Document, ID: 2352d4b2-f8c8-4e66-b797-61074be81a04', 'Title: Schools Daylighting Spreadsheet, Reference: Schools Daylighting Spreadsheet, Source Type: Project Document, ID: 1abfe064-4427-459d-b8bb-bc33294040ff', 'Title: Schools Daylighting Spreadsheet, Reference: Schools Daylighting Spreadsheet, Source Type: Project Document, ID: 1630a85b-5548-4a92-b903-2097b7bed6f7', 'Title: Schools Daylighting Spreadsheet, Reference: Schools Daylighting Spreadsheet, Source Type: Project Document, ID: 3fde2ef1-da23-4dc9-9ebd-4ab2a0c80390', 'Title: Schools Daylighting Spreadsheet, Reference: Schools Daylighting Spreadsheet, Source Type: Project Document, ID: 8367c703-b975-4f62-82c0-a2ce912e312d', 'Title: Schools Daylighting Spreadsheet, Reference: Schools Daylighting Spreadsheet, Source Type: Project Document, ID: 663ccd41-bf7e-4755-ba1a-05c6e0bb40dc', 'Title: Schools Daylighting Spreadsheet, Reference: Schools Daylighting Spreadsheet, Source Type: Project Document, ID: 86c5fe31-952c-4740-93d3-f04182da325f', 'Title: Schools Daylighting Spreadsheet, Reference: Schools Daylighting Spreadsheet, Source Type: Project Document, ID: cf1db114-c7ca-4614-b9e0-4ae4f0a58100', 'Title: Schools Daylighting Spreadsheet, Reference: Schools Daylighting Spreadsheet, Source Type: Project Document, ID: b0673ecf-daae-4fe3-a731-43b7fd5cff90', 'Title: Schools Daylighting Spreadsheet, Reference: Schools Daylighting Spreadsheet, Source Type: Project Document, ID: 79152f97-ace9-410b-9026-5f2c66cc29e8', 'Title: Grasshopper, Reference: Optimised grid geometry setup, Source Type: Auto, ID: 6742d6f1-3fc6-413e-b813-45f365c1cad2', 'Title: Grasshopper, Reference: Efficiency calculation_grasshopper, Source Type: Auto, ID: 17f3ddfc-6cfb-41d7-bc89-9043de403449']\n"
     ]
    }
   ],
   "source": [
    "async def main():\n",
    "    \n",
    "    ddb = pyddb.DDB(url=pyddb.BaseURL.sandbox)\n",
    "    \n",
    "    [project] = await ddb.get_projects(search=\"21515700\")\n",
    "    \n",
    "    # ddb_sandbox_sources = await ddb.get_sources()\n",
    "    project_sources = await project.get_sources()\n",
    "\n",
    "    # print(ddb_sandbox_sources)\n",
    "    print(project_sources)\n",
    "asyncio.run(main())"
   ]
  },
  {
   "cell_type": "markdown",
   "metadata": {},
   "source": [
    "#### Posting Sources\n",
    "To post multiple sources, we can create a list of NewSource objects as shown below and use the Project method to pose them.\n",
    "\n",
    "If you specify a source that already exists, no duplicate will be created.\n",
    "\n",
    "This method will also return these back as Source objects."
   ]
  },
  {
   "cell_type": "code",
   "execution_count": 12,
   "metadata": {},
   "outputs": [
    {
     "name": "stdout",
     "output_type": "stream",
     "text": [
      "Title: My source title, Reference: My source reference, Source Type: Derived Value\n"
     ]
    }
   ],
   "source": [
    "async def main():\n",
    "\n",
    "    ddb = pyddb.DDB(url=pyddb.BaseURL.sandbox)\n",
    "\n",
    "    [project] = await ddb.get_projects(search=\"21515700\")\n",
    "    [new_source] = await project.post_sources(\n",
    "        sources=[\n",
    "            pyddb.NewSource(\n",
    "                source_type=pyddb.get_source_type_by_name(\"Derived Value\"),\n",
    "                title=\"My source title\",\n",
    "                reference=\"My source reference\",\n",
    "            )\n",
    "        ]\n",
    "    )\n",
    "    print(new_source)\n",
    "\n",
    "\n",
    "asyncio.run(main())\n"
   ]
  },
  {
   "cell_type": "markdown",
   "metadata": {},
   "source": [
    "### Getting and Posting Parameters"
   ]
  },
  {
   "cell_type": "markdown",
   "metadata": {},
   "source": [
    "#### Getting Parameters\n",
    "To get parameters, we can call the method at DDB, Project, or Asset level to get all sources within the environment or project.\n",
    "\n",
    "There are also other arguments that can be passed in such as 'source_type_id', 'title', or 'reference' to filter to a specific source type or all sources matching other criteria."
   ]
  },
  {
   "cell_type": "code",
   "execution_count": 13,
   "metadata": {},
   "outputs": [
    {
     "name": "stdout",
     "output_type": "stream",
     "text": [
      "['Parameter Type: Name: VIP system required, Revision: \"Value: \\'Value: True, Unit: None, ID: 58c06155-9ed0-c71e-708d-499cc5e1b048\\', Source: \\'Title: Assumption, Reference: Assumption, Source Type: Assumption, ID: 3c9a44e3-be3e-4aed-842e-6f6fb05632ad\\', Status: answered, ID: ab6ab684-03a4-4167-9530-a48932560935\", ID: 1a42045e-e9cc-4f16-a893-fe656443eb18', 'Parameter Type: Name: Unit description, Revision: \"Value: \\'Value: A nice office, Unit: None, ID: dcc06155-9ef1-3073-5b99-ef22939e4479\\', Source: \\'Title: Assumption, Reference: Assumption, Source Type: Assumption, ID: 3c9a44e3-be3e-4aed-842e-6f6fb05632ad\\', Status: answered, ID: c0c82c0a-fdf1-496d-a885-efb0b5877308\", ID: f9cf6fe9-cc7b-47ad-956e-a9228cd7728f', 'Parameter Type: Name: Type of apartment units, Revision: \"Value: \\'Value: Studio, Unit: None, ID: 1cc06155-9e9b-84f3-66da-f841fde3cf02\\', Source: \\'Title: Assumption, Reference: Assumption, Source Type: Assumption, ID: 3c9a44e3-be3e-4aed-842e-6f6fb05632ad\\', Status: answered, ID: 2d12e15c-f6cd-48ce-98fe-a94c1360abc7\", ID: f9809066-b72b-4016-9360-8d302fe87faf', 'Parameter Type: Name: Space use, Revision: \"Value: \\'Value: Office, Unit: None, ID: b8c06155-9ecd-6838-eaa8-24197b2dcf1e\\', Source: \\'Title: Assumption, Reference: Assumption, Source Type: Assumption, ID: 3c9a44e3-be3e-4aed-842e-6f6fb05632ad\\', Status: answered, ID: 9cbc6cf3-e06f-4636-bd91-bf06b9060f47\", ID: 4e540875-5659-4167-b493-7339878e16c9', 'Parameter Type: Name: Serviced floor range, Revision: \"Value: \\'Value: Levels 1-4, Unit: None, ID: e4c06155-9e7d-0e98-ea61-4eb384b8dbae\\', Source: \\'Title: Assumption, Reference: Assumption, Source Type: Assumption, ID: 3c9a44e3-be3e-4aed-842e-6f6fb05632ad\\', Status: answered, ID: 59d01fc4-583d-43f4-b1ae-c49d4a3c11d4\", ID: da70c9a4-78f0-4428-81c4-f1e67603acc3', 'Parameter Type: Name: Residential development type, Revision: \"Value: \\'Value: Luxury, Unit: None, ID: cac06155-9edf-5ad5-b76a-ce407bf434ad\\', Source: \\'Title: Assumption, Reference: Assumption, Source Type: Assumption, ID: 3c9a44e3-be3e-4aed-842e-6f6fb05632ad\\', Status: answered, ID: 0c7a9f12-7927-4652-a7a2-6427e91caba2\", ID: 6acfb2f2-843b-452b-8f32-0cb07e553101', 'Parameter Type: Name: Office density, Revision: \"Value: \\'Value: high, Unit: None, ID: 94c06155-9ea8-717e-6218-0f7dfc5d0ec1\\', Source: \\'Title: Assumption, Reference: Assumption, Source Type: Assumption, ID: 3c9a44e3-be3e-4aed-842e-6f6fb05632ad\\', Status: answered, ID: 7de6b3f7-4503-463b-9d44-0a4931a0a598\", ID: 8f0f4b24-a63c-4568-b9ed-44dd85e03bad', 'Parameter Type: Name: Number of parking floors, Revision: \"Value: \\'Value: 1.0, Unit: None, ID: ccc06155-9f02-c30d-482d-0718de0a329c\\', Source: \\'Title: Assumption, Reference: Assumption, Source Type: Assumption, ID: 3c9a44e3-be3e-4aed-842e-6f6fb05632ad\\', Status: answered, ID: 1685bbc4-dcd3-4290-9f4a-382f2f6b87b8\", ID: 6b1cfc27-9e48-4805-a9cb-46210e51934d', 'Parameter Type: Name: Number of lifts, Revision: \"Value: \\'Value: 4.0, Unit: None, ID: cac06155-9ea4-7681-9ccd-044ae01a555a\\', Source: \\'Title: Assumption, Reference: Assumption, Source Type: Assumption, ID: 3c9a44e3-be3e-4aed-842e-6f6fb05632ad\\', Status: answered, ID: 2bdbf152-3d86-4168-aaf2-8da52d69fb1e\", ID: d235be2f-48bf-4b6d-a187-a75eada36df5', 'Parameter Type: Name: Number of apartment units, Revision: \"Value: \\'Value: 42.0, Unit: None, ID: f6c06155-9eeb-ff74-38f3-7575494f12bf\\', Source: \\'Title: Assumption, Reference: Assumption, Source Type: Assumption, ID: 3c9a44e3-be3e-4aed-842e-6f6fb05632ad\\', Status: answered, ID: 7bad36a3-0f58-4f4d-a244-f7254bb5d932\", ID: 933b3875-4971-4d41-a63e-b7933ba4b72a', 'Parameter Type: Name: Net internal area, Revision: \"Value: \\'Value: 356.0, Unit: Name: m², ID: f4c06155-9efc-6585-9fc7-fefa56b7365b\\', Source: \\'Title: Assumption, Reference: Assumption, Source Type: Assumption, ID: 3c9a44e3-be3e-4aed-842e-6f6fb05632ad\\', Status: answered, ID: a42f0ac0-cc51-409a-afd2-4636c467764e\", ID: 3302e18b-e451-4a10-8b4a-fe6533b257c7', 'Parameter Type: Name: Morning capacity factor, Revision: \"Value: \\'Value: 60.0, Unit: None, ID: d8c06155-9eb9-123a-0d8f-68ff78e694e1\\', Source: \\'Title: Assumption, Reference: Assumption, Source Type: Assumption, ID: 3c9a44e3-be3e-4aed-842e-6f6fb05632ad\\', Status: answered, ID: ed35685c-48bd-4227-8282-e825e0b0daa1\", ID: 69f52a68-ccb5-4144-895f-a8bc7b15a206', 'Parameter Type: Name: Morning average waiting time, Revision: \"Value: \\'Value: 5.0, Unit: Name: s, ID: 74c06155-9ebc-1068-24c3-09632d609c12\\', Source: \\'Title: Assumption, Reference: Assumption, Source Type: Assumption, ID: 3c9a44e3-be3e-4aed-842e-6f6fb05632ad\\', Status: answered, ID: dfc2a127-f957-47cc-bbdd-9022e7dee99d\", ID: a5430843-96f8-4a05-afe5-214237d487bd', 'Parameter Type: Name: Morning average time to destination, Revision: \"Value: \\'Value: 9.0, Unit: Name: s, ID: bcc06155-9ef9-624a-393b-8cf805313793\\', Source: \\'Title: Assumption, Reference: Assumption, Source Type: Assumption, ID: 3c9a44e3-be3e-4aed-842e-6f6fb05632ad\\', Status: answered, ID: ca344a35-db7e-4bc0-b8e9-256405f9cd4e\", ID: 45d9be4d-dd84-414c-87b2-f18ba7266a79', 'Parameter Type: Name: Lift with centre opening required, Revision: \"Value: \\'Value: True, Unit: None, ID: d8c06155-9ec2-e208-7e89-ec5de5f0756a\\', Source: \\'Title: Assumption, Reference: Assumption, Source Type: Assumption, ID: 3c9a44e3-be3e-4aed-842e-6f6fb05632ad\\', Status: answered, ID: d11e0446-4750-428d-a9ed-17d006993138\", ID: 98168730-3364-41b4-82ff-2f39f0c32a9e', 'Parameter Type: Name: Lift reference, Revision: \"Value: \\'Value: L-FT4, Unit: None, ID: 30c06155-9ec0-6066-634b-e927724ee250\\', Source: \\'Title: Assumption, Reference: Assumption, Source Type: Assumption, ID: 3c9a44e3-be3e-4aed-842e-6f6fb05632ad\\', Status: answered, ID: 68980c30-0320-4448-86d6-15810c95f847\", ID: 1081aa34-9f18-40a0-903f-601d22436593', 'Parameter Type: Name: Lift capacity, Revision: \"Value: \\'Value: 2400.0, Unit: None, ID: 82c06155-9eef-6eaa-a3a2-c1b47d82685d\\', Source: \\'Title: Assumption, Reference: Assumption, Source Type: Assumption, ID: 3c9a44e3-be3e-4aed-842e-6f6fb05632ad\\', Status: answered, ID: 2089709f-fc4a-4e96-aa76-d3c0c8a23034\", ID: e65d7761-b47d-41a0-a4c4-27198ac4c8a1', 'Parameter Type: Name: Goods lift required, Revision: \"Value: \\'Value: True, Unit: None, ID: 24c06155-9ed5-b89c-a97e-99910a698a76\\', Source: \\'Title: Assumption, Reference: Assumption, Source Type: Assumption, ID: 3c9a44e3-be3e-4aed-842e-6f6fb05632ad\\', Status: answered, ID: 502ae4d8-201a-4800-b199-a3626120bdec\", ID: 9fe1e26d-e471-4d5c-9b6e-4eb9147acd50', 'Parameter Type: Name: General access level, Revision: \"Value: \\'Value: Level 0, Unit: None, ID: 5cc06155-9ec8-7cde-c823-7ed0123522e0\\', Source: \\'Title: Assumption, Reference: Assumption, Source Type: Assumption, ID: 3c9a44e3-be3e-4aed-842e-6f6fb05632ad\\', Status: answered, ID: 40845c92-cb8a-406f-af4e-5314a856feaf\", ID: 138f23c6-ca21-45ec-b1ac-1c5fd2c03d8d', 'Parameter Type: Name: Floor to floor height, Revision: \"Value: \\'Value: 3.4, Unit: Name: m, ID: 8ac06155-9e75-eda8-b0cd-8a1128365482\\', Source: \\'Title: Assumption, Reference: Assumption, Source Type: Assumption, ID: 3c9a44e3-be3e-4aed-842e-6f6fb05632ad\\', Status: answered, ID: b5d2fb68-7958-4607-aa03-c15805b99bda\", ID: 9065a182-62f8-4c95-a8da-bbe68a523fbd', 'Parameter Type: Name: Firefighting lift required, Revision: \"Value: \\'Value: True, Unit: None, ID: c6c06155-9eb2-4d04-90db-0bcbcf3e852f\\', Source: \\'Title: Assumption, Reference: Assumption, Source Type: Assumption, ID: 3c9a44e3-be3e-4aed-842e-6f6fb05632ad\\', Status: answered, ID: f0905662-0f96-4262-9a4a-6a8732760e2e\", ID: 34fd3782-d7bd-4f53-893c-d5b53b7dbcbe', 'Parameter Type: Name: Evacuation lift required, Revision: \"Value: \\'Value: True, Unit: None, ID: b6c06155-9e7f-1627-2fa5-f12b56fd9189\\', Source: \\'Title: Assumption, Reference: Assumption, Source Type: Assumption, ID: 3c9a44e3-be3e-4aed-842e-6f6fb05632ad\\', Status: answered, ID: 16d6f2df-59ef-402b-9141-52dc100a9985\", ID: fc76a9f4-445a-4767-a910-91835b6284b4', 'Parameter Type: Name: Destination control required, Revision: \"Value: \\'Value: True, Unit: None, ID: ecc06155-9ed9-944d-c12b-dfa2282407cc\\', Source: \\'Title: Assumption, Reference: Assumption, Source Type: Assumption, ID: 3c9a44e3-be3e-4aed-842e-6f6fb05632ad\\', Status: answered, ID: e5ffeefd-8e82-43d0-8da2-fbf55f241c18\", ID: 6718575c-257b-484f-aaf0-b2de66ed80bf', 'Parameter Type: Name: Construction type, Revision: \"Value: \\'Value: New Build, Unit: None, ID: 74c06939-1064-0de3-09a7-c8c6f70e2d70\\', Source: \\'Title: Project MEP Benchmark Data, Reference: Project MEP Benchmark Data, Source Type: Assumption, ID: 59313ab0-d3e9-4501-8b1d-ab4c11e97686\\', Status: answered, ID: 58c33efe-bc8d-4751-ae7e-0908144ec256\", ID: 8d905608-2d4f-427e-91e8-e87d7e35172b', 'Parameter Type: Name: Certification, Revision: \"Value: \\'Value: BREEAM Excellent, Unit: None, ID: bac06939-102a-a1b6-f844-ec00155fb5e1\\', Source: \\'Title: Project MEP Benchmark Data, Reference: Project MEP Benchmark Data, Source Type: Assumption, ID: 59313ab0-d3e9-4501-8b1d-ab4c11e97686\\', Status: answered, ID: 9d4f3017-0adb-4d35-b53f-2092c9b34d02\", ID: 5aa0996d-971f-4732-ab2d-c0869ebba389', 'Parameter Type: Name: Central heating strategy, Revision: \"Value: \\'Value: Gas-fired boilers, Unit: None, ID: 34c06939-1041-8fb6-59a3-e7ea244a619d\\', Source: \\'Title: Project MEP Benchmark Data, Reference: Project MEP Benchmark Data, Source Type: Assumption, ID: 59313ab0-d3e9-4501-8b1d-ab4c11e97686\\', Status: answered, ID: 70e0718b-27d8-468d-9ff6-2728a2e7b2bd\", ID: 7cd153b3-cae5-495c-ba4e-ab01689638ef', 'Parameter Type: Name: Central cooling system, Revision: \"Value: \\'Value: Air cooled chillers, Unit: None, ID: dec06939-103b-2e44-5645-be9b7a5bf7ee\\', Source: \\'Title: Project MEP Benchmark Data, Reference: Project MEP Benchmark Data, Source Type: Assumption, ID: 59313ab0-d3e9-4501-8b1d-ab4c11e97686\\', Status: answered, ID: 6927c71b-f2f9-4b8b-b616-202fdeb2ba2f\", ID: ab75ca57-4020-436e-a7c9-57571e609847', 'Parameter Type: Name: Cat B cooling system, Revision: \"Value: \\'Value: Chilled ceiling and trench cooling, Unit: None, ID: 3ec06939-10d7-d53f-93df-c8f385201b85\\', Source: \\'Title: Project MEP Benchmark Data, Reference: Project MEP Benchmark Data, Source Type: Assumption, ID: 59313ab0-d3e9-4501-8b1d-ab4c11e97686\\', Status: answered, ID: cb62793e-5741-4faf-8273-e22a99f223ff\", ID: 3da0d2c1-3cc6-44cb-8b7f-7a8870ecac92', 'Parameter Type: Name: Cat A heating system, Revision: \"Value: \\'Value: Trench heating, Unit: None, ID: 28c06939-0ffd-5c55-8d61-76a9eb389302\\', Source: \\'Title: Project MEP Benchmark Data, Reference: Project MEP Benchmark Data, Source Type: Assumption, ID: 59313ab0-d3e9-4501-8b1d-ab4c11e97686\\', Status: answered, ID: 938f35b5-5a74-4e91-baf4-77dc844c56c9\", ID: 1ca9fc3e-3037-4703-9bcb-fc9a64241816', 'Parameter Type: Name: Building type, Revision: \"Value: \\'Value: Office, Unit: None, ID: 68c06155-9cef-144c-0586-af0e2cc770bb\\', Source: \\'Title: Assumption, Reference: Assumption, Source Type: Assumption, ID: 3c9a44e3-be3e-4aed-842e-6f6fb05632ad\\', Status: answered, ID: fc4bc1cf-2886-4ca3-b642-4becd3b2c828\", ID: 33e9ae3a-9ff3-411e-bf4d-c852ae3a6ce0', 'Parameter Type: Name: Area, Revision: \"Value: \\'Value: 20, Unit: Name: m², ID: 48c09cc3-ea52-199c-7f9c-fb80821016f8\\', Source: \\'Title: My source title, Reference: My source reference, Source Type: Derived Value, ID: 612ea4fa-261c-4959-8329-c35b7f53d288\\', Status: answered, ID: 45131bd2-7045-43a9-a124-5adfef72ff5e\", ID: f6fe5695-c95d-4a9b-a710-73a9abcb60f1', 'Parameter Type: Name: Area, Revision: \"Value: \\'Value: 20, Unit: Name: m², ID: b0c09294-5da5-2420-8b52-f3543836c7fa\\', Source: \\'Title: My source title, Reference: My source reference, Source Type: Derived Value, ID: 612ea4fa-261c-4959-8329-c35b7f53d288\\', Status: answered, ID: bd3efc06-6e21-4583-8be6-a6495a43c2d2\", ID: b2e395d9-2d40-4b4f-b4f8-7cb69a41d801', 'Parameter Type: Name: Afternoon capacity factor, Revision: \"Value: \\'Value: 40.0, Unit: None, ID: 6cc06155-9eb0-3b15-1cf8-06b0f034ad3c\\', Source: \\'Title: Assumption, Reference: Assumption, Source Type: Assumption, ID: 3c9a44e3-be3e-4aed-842e-6f6fb05632ad\\', Status: answered, ID: 8165537c-b47e-4308-9b41-13767b94dce8\", ID: 60abcf05-e7d0-4ad5-8759-0b78a41fa4fa', 'Parameter Type: Name: Afternoon average waiting time, Revision: \"Value: \\'Value: 7.0, Unit: Name: s, ID: 28c06155-9ea0-0e74-a2c6-3a142d713d40\\', Source: \\'Title: Assumption, Reference: Assumption, Source Type: Assumption, ID: 3c9a44e3-be3e-4aed-842e-6f6fb05632ad\\', Status: answered, ID: 0fd960d9-b41a-493c-84db-bc3632717531\", ID: 0a2f6f9b-e3c0-4c4f-8a3d-519d8587b18c', 'Parameter Type: Name: Afternoon average time to destination, Revision: \"Value: \\'Value: 9.0, Unit: Name: s, ID: 66c06155-9f03-2d4d-780c-77c4e1a71e57\\', Source: \\'Title: Assumption, Reference: Assumption, Source Type: Assumption, ID: 3c9a44e3-be3e-4aed-842e-6f6fb05632ad\\', Status: answered, ID: 90fa6a9a-a006-45e1-ae8e-69fe27af255f\", ID: d2b0d880-5292-4390-aefd-32d3bceba233']\n"
     ]
    }
   ],
   "source": [
    "async def main():\n",
    "    \n",
    "    ddb = pyddb.DDB(url=pyddb.BaseURL.sandbox)\n",
    "    \n",
    "    [project] = await ddb.get_projects(search=\"21515700\")\n",
    "    \n",
    "    # ddb_sandbox_parameters = await ddb.get_parameters()\n",
    "    project_parameters = await project.get_parameters()\n",
    "\n",
    "    # print(ddb_sandbox_parameters)\n",
    "    print(project_parameters)\n",
    "asyncio.run(main())"
   ]
  },
  {
   "cell_type": "markdown",
   "metadata": {},
   "source": [
    "### Posting Parameters\n",
    "\n",
    "To post parameters, you will first need an asset or project to assign them to.  If you're posting them with revisions (values), you'll also need a source for the revision.\n",
    "\n",
    "You can get these assets or sources as shown previously.  This is what I've done in the example below.\n",
    "\n",
    "I've defined a list of NewParameter objects, with NewRevision objects as their revision properties.\n",
    "\n",
    "These can be posted as DDB level, but don't curently return Parameter objects back.  I might add this in the future."
   ]
  },
  {
   "cell_type": "code",
   "execution_count": 14,
   "metadata": {},
   "outputs": [],
   "source": [
    "async def main():\n",
    "\n",
    "    ddb = pyddb.DDB(url=pyddb.BaseURL.sandbox)\n",
    "\n",
    "    [project] = await ddb.get_projects(search=\"21515700\")\n",
    "\n",
    "    \"\"\"posting a new source\"\"\"\n",
    "    [new_source] = await project.post_sources(\n",
    "        sources=[\n",
    "            pyddb.NewSource(\n",
    "                source_type=pyddb.get_source_type_by_name(\"Derived Value\"),\n",
    "                title=\"My source title\",\n",
    "                reference=\"My source reference\",\n",
    "            )\n",
    "        ]\n",
    "    )\n",
    "    \"\"\"posting new assets\"\"\"\n",
    "    new_assets = [\n",
    "        my_site := pyddb.NewAsset(\n",
    "            asset_type=pyddb.get_asset_type_by_name(\"site\"),\n",
    "            name=\"My DDB Site\",\n",
    "            parent=None,\n",
    "        ),\n",
    "        my_building := pyddb.NewAsset(\n",
    "            asset_type=pyddb.get_asset_type_by_name(\"building\"),\n",
    "            name=\"My DDB Building\",\n",
    "            parent=my_site,\n",
    "        ),\n",
    "        my_space_type := pyddb.NewAsset(\n",
    "            asset_type=pyddb.get_asset_type_by_name(\"space type\"),\n",
    "            name=\"MY DDB Space Type\",\n",
    "            parent=my_building,\n",
    "        ),\n",
    "        my_first_space_instance := pyddb.NewAsset(\n",
    "            asset_type=pyddb.get_asset_type_by_name(\"space instance\"),\n",
    "            name=\"My First DDB Space Instance\",\n",
    "            parent=my_space_type,\n",
    "        ),\n",
    "        my_second_space_instance := pyddb.NewAsset(\n",
    "            asset_type=pyddb.get_asset_type_by_name(\"space instance\"),\n",
    "            name=\"My Second DDB Space Instance\",\n",
    "            parent=my_space_type,\n",
    "        ),\n",
    "    ]\n",
    "\n",
    "    \"\"\"selecting an asset\"\"\"\n",
    "    newly_posted_assets = await project.post_assets(assets=new_assets)\n",
    "    my_newly_post_building = next(\n",
    "        x for x in newly_posted_assets if x.name == \"My First DDB Space Instance\"\n",
    "    )\n",
    "\n",
    "    \"\"\"posting new parameters\"\"\"\n",
    "    new_parameters = [\n",
    "        pyddb.NewParameter(\n",
    "            parameter_type=pyddb.get_parameter_type_by_name(\"Area\"),\n",
    "            revision=pyddb.NewRevision(\n",
    "                value=20, unit=pyddb.get_unit_by_name(\"m²\"), source=new_source\n",
    "            ),\n",
    "            parent=my_newly_post_building,\n",
    "        )\n",
    "    ]\n",
    "\n",
    "    await ddb.post_parameters(project=project, parameters=new_parameters)\n",
    "\n",
    "\n",
    "asyncio.run(main())\n"
   ]
  },
  {
   "cell_type": "markdown",
   "metadata": {},
   "source": [
    "### Getting and Posting Tags"
   ]
  },
  {
   "cell_type": "markdown",
   "metadata": {},
   "source": [
    "#### Getting Tags\n",
    "To get parameters, we can call the method at DDB, Project, or Asset level to get all sources within the environment or project.\n",
    "\n",
    "There are also other arguments that can be passed in such as 'source_type_id', 'title', or 'reference' to filter to a specific source type or all sources matching other criteria."
   ]
  },
  {
   "cell_type": "code",
   "execution_count": null,
   "metadata": {},
   "outputs": [],
   "source": []
  },
  {
   "cell_type": "markdown",
   "metadata": {},
   "source": [
    "#### Posting Tags\n",
    "To get parameters, we can call the method at DDB, Project, or Asset level to get all sources within the environment or project.\n",
    "\n",
    "There are also other arguments that can be passed in such as 'source_type_id', 'title', or 'reference' to filter to a specific source type or all sources matching other criteria."
   ]
  },
  {
   "cell_type": "code",
   "execution_count": null,
   "metadata": {},
   "outputs": [],
   "source": []
  }
 ],
 "metadata": {
  "kernelspec": {
   "display_name": "Python 3.9.6 ('.venv': venv)",
   "language": "python",
   "name": "python3"
  },
  "language_info": {
   "codemirror_mode": {
    "name": "ipython",
    "version": 3
   },
   "file_extension": ".py",
   "mimetype": "text/x-python",
   "name": "python",
   "nbconvert_exporter": "python",
   "pygments_lexer": "ipython3",
   "version": "3.9.6"
  },
  "vscode": {
   "interpreter": {
    "hash": "b52a84cdc267e423d2aa31b45d0100bb2386c05614f3850a3125cecfcfc48ec6"
   }
  }
 },
 "nbformat": 4,
 "nbformat_minor": 2
}
